{
 "cells": [
  {
   "cell_type": "markdown",
   "metadata": {
    "id": "mz0_QVkxCrX3"
   },
   "source": [
    "# **Homework 1: COVID-19 Cases Prediction (Regression)**"
   ]
  },
  {
   "cell_type": "markdown",
   "metadata": {
    "id": "ZeZnPAiwDRWG"
   },
   "source": [
    "Author: Heng-Jui Chang\n",
    "\n",
    "Slides: https://github.com/ga642381/ML2021-Spring/blob/main/HW01/HW01.pdf  \n",
    "Videos (Mandarin): https://cool.ntu.edu.tw/courses/4793/modules/items/172854  \n",
    "https://cool.ntu.edu.tw/courses/4793/modules/items/172853  \n",
    "Video (English): https://cool.ntu.edu.tw/courses/4793/modules/items/176529\n",
    "\n",
    "\n",
    "Objectives:\n",
    "* Solve a regression problem with deep neural networks (DNN).\n",
    "* Understand basic DNN training tips.\n",
    "* Get familiar with PyTorch.\n",
    "\n",
    "If any questions, please contact the TAs via TA hours, NTU COOL, or email.\n"
   ]
  },
  {
   "cell_type": "markdown",
   "metadata": {
    "id": "Jx3x1nDkG-Uy"
   },
   "source": [
    "# **Download Data**\n",
    "\n",
    "\n",
    "If the Google drive links are dead, you can download data from [kaggle](https://www.kaggle.com/c/ml2021spring-hw1/data), and upload data manually to the workspace."
   ]
  },
  {
   "cell_type": "code",
   "execution_count": 82,
   "metadata": {
    "colab": {
     "base_uri": "https://localhost:8080/"
    },
    "executionInfo": {
     "elapsed": 3485,
     "status": "ok",
     "timestamp": 1648470381556,
     "user": {
      "displayName": "陳鼎立",
      "photoUrl": "https://lh3.googleusercontent.com/a/default-user=s64",
      "userId": "13149118031320575379"
     },
     "user_tz": -480
    },
    "id": "tMj55YDKG6ch",
    "outputId": "1c18f8aa-22f5-41ae-b48c-cde9f682ea79"
   },
   "outputs": [
    {
     "data": {
      "text/plain": [
       "\"!gdown --id '19CCyCgJrUxtvgZF53vnctJiOJ23T5mqF' --output covid.train.csv\\n!gdown --id '1CE240jLm2npU-tdz81-oVKEF3T2yfT1O' --output covid.test.csv\""
      ]
     },
     "execution_count": 82,
     "metadata": {},
     "output_type": "execute_result"
    }
   ],
   "source": [
    "tr_path = 'covid.train.csv'  # path to training data\n",
    "tt_path = 'covid.test.csv'   # path to testing data\n",
    "\n",
    "'''!gdown --id '19CCyCgJrUxtvgZF53vnctJiOJ23T5mqF' --output covid.train.csv\n",
    "!gdown --id '1CE240jLm2npU-tdz81-oVKEF3T2yfT1O' --output covid.test.csv'''"
   ]
  },
  {
   "cell_type": "markdown",
   "metadata": {
    "id": "wS_4-77xHk44"
   },
   "source": [
    "# **Import Some Packages**"
   ]
  },
  {
   "cell_type": "code",
   "execution_count": 83,
   "metadata": {
    "id": "k-onQd4JNA5H"
   },
   "outputs": [
    {
     "name": "stdout",
     "output_type": "stream",
     "text": [
      "Number of CUDA devices: 0\n"
     ]
    }
   ],
   "source": [
    "# Import Libraries & Set Ramdon Seed\n",
    "\n",
    "# PyTorch\n",
    "import torch\n",
    "import torch.nn as nn\n",
    "from torch.utils.data import Dataset, DataLoader\n",
    "\n",
    "# For data preprocess\n",
    "import numpy as np\n",
    "import csv\n",
    "import os\n",
    "\n",
    "# For plotting\n",
    "import matplotlib.pyplot as plt\n",
    "from matplotlib.pyplot import figure\n",
    "\n",
    "# Sklearn\n",
    "import sklearn\n",
    "from sklearn.feature_selection import SelectKBest\n",
    "from sklearn.feature_selection import f_regression\n",
    "from sklearn import preprocessing\n",
    "\n",
    "# Pandas\n",
    "import pandas as pd\n",
    "\n",
    "\n",
    "myseed = 42069  # set a random seed for reproducibility\n",
    "torch.backends.cudnn.deterministic = True\n",
    "torch.backends.cudnn.benchmark = False\n",
    "np.random.seed(myseed)\n",
    "torch.manual_seed(myseed)\n",
    "if torch.cuda.is_available():\n",
    "    torch.cuda.manual_seed_all(myseed)\n",
    "\n",
    "device_count = torch.cuda.device_count()\n",
    "print(f\"Number of CUDA devices: {device_count}\")"
   ]
  },
  {
   "cell_type": "markdown",
   "metadata": {
    "id": "BtE3b6JEH7rw"
   },
   "source": [
    "# **Some Utilities**\n",
    "\n",
    "You do not need to modify this part."
   ]
  },
  {
   "cell_type": "code",
   "execution_count": 84,
   "metadata": {
    "id": "FWMT3uf1NGQp"
   },
   "outputs": [],
   "source": [
    "def get_device():\n",
    "    ''' Get device (if GPU is available, use GPU) '''\n",
    "    return 'cuda' if torch.cuda.is_available() else 'cpu'\n",
    "\n",
    "def plot_learning_curve(loss_record, title=''):\n",
    "    ''' Plot learning curve of your DNN (train & dev loss) '''\n",
    "    total_steps = len(loss_record['train'])\n",
    "    x_1 = range(total_steps)\n",
    "    x_2 = x_1[::len(loss_record['train']) // len(loss_record['dev'])]\n",
    "    figure(figsize=(6, 4))\n",
    "    plt.plot(x_1, loss_record['train'], c='tab:red', label='train')\n",
    "    plt.plot(x_2, loss_record['dev'], c='tab:cyan', label='dev')\n",
    "    plt.ylim(0.0, 5.)\n",
    "    plt.xlabel('Training steps')\n",
    "    plt.ylabel('MSE loss')\n",
    "    plt.title('Learning curve of {}'.format(title))\n",
    "    plt.legend()\n",
    "    plt.show()\n",
    "\n",
    "\n",
    "def plot_pred(dv_set, model, device, lim=35., preds=None, targets=None):\n",
    "    ''' Plot prediction of your DNN '''\n",
    "    if preds is None or targets is None:\n",
    "        model.eval()\n",
    "        preds, targets = [], []\n",
    "        for x, y in dv_set:\n",
    "            x, y = x.to(device), y.to(device)\n",
    "            with torch.no_grad():\n",
    "                pred = model(x)\n",
    "                preds.append(pred.detach().cpu())\n",
    "                targets.append(y.detach().cpu())\n",
    "        preds = torch.cat(preds, dim=0).numpy()\n",
    "        targets = torch.cat(targets, dim=0).numpy()\n",
    "\n",
    "    figure(figsize=(5, 5))\n",
    "    plt.scatter(targets, preds, c='r', alpha=0.5)\n",
    "    plt.plot([-0.2, lim], [-0.2, lim], c='b')\n",
    "    plt.xlim(-0.2, lim)\n",
    "    plt.ylim(-0.2, lim)\n",
    "    plt.xlabel('ground truth value')\n",
    "    plt.ylabel('predicted value')\n",
    "    plt.title('Ground Truth v.s. Prediction')\n",
    "    plt.show()"
   ]
  },
  {
   "cell_type": "markdown",
   "metadata": {
    "id": "39U_XFX6KOoj"
   },
   "source": [
    "# **Preprocess**\n",
    "\n",
    "We have three kinds of datasets:\n",
    "* `train`: for training\n",
    "* `dev`: for validation\n",
    "* `test`: for testing (w/o target value)"
   ]
  },
  {
   "cell_type": "code",
   "execution_count": 85,
   "metadata": {},
   "outputs": [
    {
     "name": "stdout",
     "output_type": "stream",
     "text": [
      "                 Specs          Score\n",
      "75   tested_positive.1  148069.658278\n",
      "57     tested_positive   69603.872591\n",
      "42        hh_cmnty_cli    9235.492094\n",
      "60      hh_cmnty_cli.1    9209.019558\n",
      "78      hh_cmnty_cli.2    9097.375172\n",
      "43      nohh_cmnty_cli    8395.421300\n",
      "61    nohh_cmnty_cli.1    8343.255927\n",
      "79    nohh_cmnty_cli.2    8208.176435\n",
      "40                 cli    6388.906849\n",
      "58               cli.1    6374.548000\n",
      "76               cli.2    6250.008702\n",
      "41                 ili    5998.922880\n",
      "59               ili.1    5937.588576\n",
      "77               ili.2    5796.947672\n",
      "92  worried_finances.2     833.613191\n",
      "74  worried_finances.1     811.916460\n",
      "56    worried_finances     788.076931\n",
      "87    public_transit.2     686.736539\n",
      "69    public_transit.1     681.562902\n",
      "51      public_transit     678.834789\n",
      "[75, 57, 42, 60, 78, 43, 61, 79, 40, 58, 76, 41, 59, 77, 92, 74, 56]\n"
     ]
    }
   ],
   "source": [
    "# Feature Selection\n",
    "\n",
    "data = pd.read_csv('covid.train.csv')\n",
    "x = data[data.columns[1:94]]\n",
    "y = data[data.columns[94]]\n",
    "\n",
    "# Normalisation\n",
    "x = (x - x.min()) / (x.max() - x.min())\n",
    "\n",
    "# Create an instance of SelectKBest without specifying 'k'\n",
    "bestfeatures = SelectKBest(score_func=f_regression)\n",
    "\n",
    "# Compute the scores for all features\n",
    "fit = bestfeatures.fit(x,y)\n",
    "\n",
    "# Convert the scores into a DataFrame\n",
    "dfscores = pd.DataFrame(fit.scores_)\n",
    "\n",
    "# Create a DataFrame of the column names\n",
    "dfcolumns = pd.DataFrame(x.columns)\n",
    "\n",
    "# Concatenate the two DataFrames for better visualization\n",
    "featureScores = pd.concat([dfcolumns,dfscores],axis=1)\n",
    "\n",
    "# Name the DataFrame columns\n",
    "featureScores.columns = ['Specs','Score']  \n",
    "\n",
    "# Print the 20 rows with the highest scores\n",
    "print(featureScores.nlargest(20,'Score'))  \n",
    "\n",
    "# Print the index of the most important features\n",
    "top_rows = featureScores.nlargest(20, 'Score').index.tolist()[:17]\n",
    "print(top_rows)"
   ]
  },
  {
   "cell_type": "markdown",
   "metadata": {
    "id": "TQ-MdwpLL7Dt"
   },
   "source": [
    "## **Dataset**\n",
    "\n",
    "The `COVID19Dataset` below does:\n",
    "* read `.csv` files\n",
    "* extract features\n",
    "* split `covid.train.csv` into train/dev sets\n",
    "* normalize features\n",
    "\n",
    "Finishing `TODO` below might make you pass medium baseline."
   ]
  },
  {
   "cell_type": "code",
   "execution_count": 86,
   "metadata": {
    "id": "0zlpIp9ANJRU"
   },
   "outputs": [],
   "source": [
    "class COVID19Dataset(Dataset):\n",
    "    ''' Dataset for loading and preprocessing the COVID19 dataset '''\n",
    "    def __init__(self,\n",
    "                 path,\n",
    "                 mode='train',\n",
    "                 target_only=False):\n",
    "        self.mode = mode\n",
    "\n",
    "        # Read data into numpy arrays\n",
    "        with open(path, 'r') as fp:\n",
    "            data = list(csv.reader(fp))\n",
    "            data = np.array(data[1:])[:, 1:].astype(float)\n",
    "        \n",
    "        if not target_only:\n",
    "            feats = list(range(93))\n",
    "        else:\n",
    "            # TODO: Using 40 states & 2 tested_positive features (indices = 57 & 75)\n",
    "            feats = [75, 57, 42, 60, 78, 43, 61, 79, 40, 58, 76, 41, 59, 77]\n",
    "            \"\"\"\n",
    "            feats = list(range(40))\n",
    "            feats.append(57)\n",
    "            feats.append(75)\n",
    "            \"\"\"\n",
    "            \"\"\"feats = [75, 57, 42, 60, 78, 43, 61, 79, 40, 58, 76, 41, 59, 77] #使用sklearn f-regression挑出最15 best feature(相關性)\"\"\"\n",
    "\n",
    "\n",
    "        if mode == 'test':\n",
    "            # Testing data\n",
    "            # data: 893 x 93 (40 states + day 1 (18) + day 2 (18) + day 3 (17))\n",
    "            data = data[:, feats] \n",
    "            self.data = torch.FloatTensor(data)\n",
    "            \n",
    "        else:\n",
    "            # Training data (train/dev sets)\n",
    "            # data: 2700 x 94 (40 states + day 1 (18) + day 2 (18) + day 3 (18))\n",
    "            target = data[:, -1] # take last column for answer\n",
    "            data = data[:, feats]\n",
    "            \n",
    "            # Splitting training data into train & dev sets\n",
    "            # dev = 1/10 trainging data\n",
    "            if mode == 'train':\n",
    "                indices = [i for i in range(len(data)) if i % 10 != 0]\n",
    "            elif mode == 'dev':\n",
    "                indices = [i for i in range(len(data)) if i % 10 == 0]\n",
    "            \n",
    "            # Convert data into PyTorch tensors\n",
    "            self.data = torch.FloatTensor(data[indices])\n",
    "            self.target = torch.FloatTensor(target[indices])\n",
    "\n",
    "        # Normalize features (TODO: you may remove this part to see what will happen)\n",
    "        # Done: bad result as divergent data\n",
    "        # normalize state information \n",
    "        self.data[:, 40:] = \\\n",
    "            (self.data[:, 40:] - self.data[:, 40:].mean(dim=0, keepdim=True)) \\\n",
    "            / self.data[:, 40:].std(dim=0, keepdim=True)\n",
    "\n",
    "        self.dim = self.data.shape[1]\n",
    "\n",
    "        print('Finished reading the {} set of COVID19 Dataset ({} samples found, each dim = {})'\n",
    "              .format(mode, len(self.data), self.dim))\n",
    "\n",
    "    def __getitem__(self, index):\n",
    "        # Returns one sample at a time\n",
    "        if self.mode in ['train', 'dev']:\n",
    "            # For training\n",
    "            return self.data[index], self.target[index]\n",
    "        else:\n",
    "            # For testing (no target)\n",
    "            return self.data[index]\n",
    "\n",
    "    def __len__(self):\n",
    "        # Returns the size of the dataset\n",
    "        return len(self.data)"
   ]
  },
  {
   "cell_type": "markdown",
   "metadata": {
    "id": "AlhTlkE7MDo3"
   },
   "source": [
    "## **DataLoader**\n",
    "\n",
    "A `DataLoader` loads data from a given `Dataset` into batches.\n"
   ]
  },
  {
   "cell_type": "code",
   "execution_count": 87,
   "metadata": {
    "id": "hlhLk5t6MBX3"
   },
   "outputs": [],
   "source": [
    "def prep_dataloader(path, mode, batch_size, n_jobs=0, target_only=False):\n",
    "    ''' Generates a dataset, then is put into a dataloader. '''\n",
    "    dataset = COVID19Dataset(path, mode=mode, target_only=target_only)  # Construct dataset\n",
    "    dataloader = DataLoader(\n",
    "        dataset, batch_size,\n",
    "        shuffle=(mode == 'train'), drop_last=False,\n",
    "        num_workers=n_jobs, pin_memory=True)                            # Construct dataloader\n",
    "    return dataloader"
   ]
  },
  {
   "cell_type": "markdown",
   "metadata": {
    "id": "SGuycwR0MeQB"
   },
   "source": [
    "# **Deep Neural Network**\n",
    "\n",
    "`NeuralNet` is an `nn.Module` designed for regression.\n",
    "The DNN consists of 2 fully-connected layers with ReLU activation.\n",
    "This module also included a function `cal_loss` for calculating loss.\n"
   ]
  },
  {
   "cell_type": "code",
   "execution_count": 88,
   "metadata": {
    "id": "49-uXYovOAI0"
   },
   "outputs": [],
   "source": [
    "class NeuralNet(nn.Module):\n",
    "    ''' A simple fully-connected deep neural network '''\n",
    "    def __init__(self, input_dim):\n",
    "        super(NeuralNet, self).__init__()\n",
    "\n",
    "        # Define your neural network here\n",
    "        # TODO: How to modify this model to achieve better performance?\n",
    "        # origin network\n",
    "        \"\"\"\n",
    "        self.net = nn.Sequential(\n",
    "            nn.Linear(input_dim, 64),\n",
    "            nn.ReLU(),\n",
    "            nn.Linear(64, 1)\n",
    "        )\n",
    "        \"\"\"\n",
    "        self.net = nn.Sequential(\n",
    "            nn.Linear(input_dim, 16),\n",
    "            nn.BatchNorm1d(16),\n",
    "            nn.Dropout(p=0.2),\n",
    "            nn.ReLU(),\n",
    "            nn.Linear(16, 1)\n",
    "        )\n",
    "        \"\"\"\n",
    "        self.net = nn.Sequential(\n",
    "            nn.Linear(input_dim, 32),\n",
    "            nn.BatchNorm1d(32),#使用BN，加速模型训练\n",
    "            nn.Dropout(p=0.2),#使用Dropout，减小过拟合，注意不能在BN之前\n",
    "            nn.LeakyReLU(),#更换激活函数\n",
    "            nn.Linear(32, 1)\n",
    "        )\n",
    "        \"\"\"\n",
    "        \"\"\"\n",
    "        test \n",
    "        self.net = nn.Sequential(\n",
    "            nn.Linear(input_dim, 32),\n",
    "            nn.LeakyReLU(),#更换激活函数\n",
    "            nn.BatchNorm1d(32),#使用BN，加速模型训练\n",
    "            nn.Dropout(p=0.2),#使用Dropout，减小过拟合，注意不能在BN之前\n",
    "            nn.Linear(32, 32),\n",
    "            nn.LeakyReLU(),#更换激活函数\n",
    "            nn.BatchNorm1d(32),#使用BN，加速模型训练\n",
    "            nn.Dropout(p=0.2),#使用Dropout，减小过拟合，注意不能在BN之前\n",
    "            nn.Linear(32, 32),\n",
    "            nn.LeakyReLU(),#更换激活函数\n",
    "            nn.BatchNorm1d(32),#使用BN，加速模型训练\n",
    "            nn.Dropout(p=0.2),#使用Dropout，减小过拟合，注意不能在BN之前\n",
    "            nn.Linear(32, 32),\n",
    "            nn.LeakyReLU(),#更换激活函数\n",
    "            nn.BatchNorm1d(32),#使用BN，加速模型训练\n",
    "            nn.Dropout(p=0.2),#使用Dropout，减小过拟合，注意不能在BN之前\n",
    "            nn.Linear(32, 1)\n",
    "        )        \n",
    "        \"\"\"\n",
    "        \"\"\"\n",
    "        self.net = nn.Sequential(\n",
    "            nn.Linear(input_dim, 32),\n",
    "            nn.LeakyReLU(),#更换激活函数\n",
    "            nn.BatchNorm1d(32),#使用BN，加速模型训练\n",
    "            nn.Dropout(p=0.2),#使用Dropout，减小过拟合，注意不能在BN之前\n",
    "            nn.Linear(32, 1)\n",
    "        )\n",
    "        \"\"\"\n",
    "        # Mean squared error loss\n",
    "        self.criterion = nn.MSELoss(reduction='mean')\n",
    "\n",
    "    def forward(self, x):\n",
    "        ''' Given input of size (batch_size x input_dim), compute output of the network '''\n",
    "        return self.net(x).squeeze(1)\n",
    "\n",
    "    def cal_loss(self, pred, target):\n",
    "        ''' Calculate loss '''\n",
    "        # TODO: you may implement L1/L2 regularization here\n",
    "        regularization_loss = 0\n",
    "        for param in model.parameters():\n",
    "        # Done: 使用L2, lambda = 0.00075\n",
    "            # regularization_loss += torch.sum(abs(param))\n",
    "            regularization_loss += torch.sum(param ** 2)\n",
    "        return self.criterion(pred, target) + 0.00075 * regularization_loss"
   ]
  },
  {
   "cell_type": "markdown",
   "metadata": {
    "id": "DvFWVjZ5Nvga"
   },
   "source": [
    "# **Train/Dev/Test**"
   ]
  },
  {
   "cell_type": "markdown",
   "metadata": {
    "id": "MAM8QecJOyqn"
   },
   "source": [
    "## **Training**"
   ]
  },
  {
   "cell_type": "code",
   "execution_count": 89,
   "metadata": {
    "id": "lOqcmYzMO7jB"
   },
   "outputs": [],
   "source": [
    "def train(tr_set, dv_set, model, config, device):\n",
    "    ''' DNN training '''\n",
    "\n",
    "    n_epochs = config['n_epochs']  # Maximum number of epochs\n",
    "\n",
    "    # Setup optimizer\n",
    "    optimizer = getattr(torch.optim, config['optimizer'])(\n",
    "        model.parameters(), **config['optim_hparas'])\n",
    "\n",
    "    min_mse = 1000.\n",
    "    loss_record = {'train': [], 'dev': []}      # for recording training loss\n",
    "    early_stop_cnt = 0\n",
    "    epoch = 0\n",
    "    while epoch < n_epochs:\n",
    "        model.train()                           # set model to training mode\n",
    "        for x, y in tr_set:                     # iterate through the dataloader\n",
    "            optimizer.zero_grad()               # set gradient to zero\n",
    "            x, y = x.to(device), y.to(device)   # move data to device (cpu/cuda)\n",
    "            pred = model(x)                     # forward pass (compute output)\n",
    "            mse_loss = model.cal_loss(pred, y)  # compute loss\n",
    "            mse_loss.backward()                 # compute gradient (backpropagation)\n",
    "            optimizer.step()                    # update model with optimizer\n",
    "            loss_record['train'].append(mse_loss.detach().cpu().item())\n",
    "\n",
    "        # After each epoch, test your model on the validation (development) set.\n",
    "        dev_mse = dev(dv_set, model, device)\n",
    "        if dev_mse < min_mse:\n",
    "            # Save model if your model improved\n",
    "            min_mse = dev_mse\n",
    "            print('Model improved after validation, saving model (epoch = {:4d}, loss = {:.4f})'\n",
    "                .format(epoch + 1, min_mse))\n",
    "            torch.save(model.state_dict(), config['save_path'])  # Save model to specified path\n",
    "            early_stop_cnt = 0\n",
    "        else:\n",
    "            early_stop_cnt += 1\n",
    "\n",
    "        epoch += 1\n",
    "        loss_record['dev'].append(dev_mse)\n",
    "        if early_stop_cnt > config['early_stop']:\n",
    "            # Stop training if your model stops improving for \"config['early_stop']\" epochs.\n",
    "            break\n",
    "\n",
    "    print('Finished training after {} epochs'.format(epoch))\n",
    "    return min_mse, loss_record"
   ]
  },
  {
   "cell_type": "markdown",
   "metadata": {
    "id": "0hSd4Bn3O2PL"
   },
   "source": [
    "## **Validation**"
   ]
  },
  {
   "cell_type": "code",
   "execution_count": 90,
   "metadata": {
    "id": "yrxrD3YsN3U2"
   },
   "outputs": [],
   "source": [
    "def dev(dv_set, model, device):\n",
    "    model.eval()                                # set model to evalutation mode\n",
    "    total_loss = 0\n",
    "    for x, y in dv_set:                         # iterate through the dataloader\n",
    "        x, y = x.to(device), y.to(device)       # move data to device (cpu/cuda)\n",
    "        with torch.no_grad():                   # disable gradient calculation\n",
    "            pred = model(x)                     # forward pass (compute output)\n",
    "            mse_loss = model.cal_loss(pred, y)  # compute loss\n",
    "        total_loss += mse_loss.detach().cpu().item() * len(x)  # accumulate loss\n",
    "    total_loss = total_loss / len(dv_set.dataset)              # compute averaged loss\n",
    "\n",
    "    return total_loss"
   ]
  },
  {
   "cell_type": "markdown",
   "metadata": {
    "id": "g0pdrhQAO41L"
   },
   "source": [
    "## **Testing**"
   ]
  },
  {
   "cell_type": "code",
   "execution_count": 91,
   "metadata": {
    "id": "aSBMRFlYN5tB"
   },
   "outputs": [],
   "source": [
    "def test(tt_set, model, device):\n",
    "    model.eval()                                # set model to evalutation mode\n",
    "    preds = []\n",
    "    for x in tt_set:                            # iterate through the dataloader\n",
    "        x = x.to(device)                        # move data to device (cpu/cuda)\n",
    "        with torch.no_grad():                   # disable gradient calculation\n",
    "            pred = model(x)                     # forward pass (compute output)\n",
    "            preds.append(pred.detach().cpu())   # collect prediction\n",
    "    preds = torch.cat(preds, dim=0).numpy()     # concatenate all predictions and convert to a numpy array\n",
    "    return preds"
   ]
  },
  {
   "cell_type": "markdown",
   "metadata": {
    "id": "SvckkF5dvf0j"
   },
   "source": [
    "# **Setup Hyper-parameters**\n",
    "\n",
    "`config` contains hyper-parameters for training and the path to save your model."
   ]
  },
  {
   "cell_type": "code",
   "execution_count": 92,
   "metadata": {
    "id": "NPXpdumwPjE7"
   },
   "outputs": [],
   "source": [
    "device = get_device()                 # get the current available device ('cpu' or 'cuda')\n",
    "os.makedirs('models', exist_ok=True)  # The trained model will be saved to ./models/\n",
    "target_only = True                   # TODO: Using 40 states & 2 tested_positive features\n",
    "\n",
    "# TODO: How to tune these hyper-parameters to improve your model's performance?\n",
    "config = {\n",
    "    'n_epochs': 10000,                # maximum number of epochs, default = 3000\n",
    "    'batch_size': 200,               # mini-batch size for dataloader, default = 270\n",
    "    #'optimizer': 'SGD',              # optimization algorithm (optimizer in torch.optim) : SGD : Stochastic Gradient Descent\n",
    "    'optimizer': 'Adam',             # optimization algorithm change to Adam and use default params\n",
    "    'optim_hparas': {                # hyper-parameters for the optimizer (depends on which optimizer you are using)\n",
    "        'lr': 0.0005,                 # learning rate of SGD\n",
    "        #'momentum': 0.9              # momentum for SGD\n",
    "    },\n",
    "    'early_stop': 1000,               # early stopping epochs (the number epochs since your model's last improvement)\n",
    "    'save_path': 'models/model.pth'  # your model will be saved here\n",
    "}"
   ]
  },
  {
   "cell_type": "markdown",
   "metadata": {
    "id": "6j1eOV3TOH-j"
   },
   "source": [
    "# **Load data and model**"
   ]
  },
  {
   "cell_type": "code",
   "execution_count": 93,
   "metadata": {
    "colab": {
     "base_uri": "https://localhost:8080/"
    },
    "executionInfo": {
     "elapsed": 424,
     "status": "ok",
     "timestamp": 1648470381976,
     "user": {
      "displayName": "陳鼎立",
      "photoUrl": "https://lh3.googleusercontent.com/a/default-user=s64",
      "userId": "13149118031320575379"
     },
     "user_tz": -480
    },
    "id": "eNrYBMmePLKm",
    "outputId": "f6c2f60a-aec6-4275-97b1-8500046f5b28"
   },
   "outputs": [
    {
     "name": "stderr",
     "output_type": "stream",
     "text": [
      "C:\\Users\\cheun\\AppData\\Local\\Temp\\ipykernel_16340\\1082981615.py:55: UserWarning: std(): degrees of freedom is <= 0. Correction should be strictly less than the reduction factor (input numel divided by output numel). (Triggered internally at C:\\cb\\pytorch_1000000000000\\work\\aten\\src\\ATen\\native\\ReduceOps.cpp:1760.)\n",
      "  / self.data[:, 40:].std(dim=0, keepdim=True)\n"
     ]
    },
    {
     "name": "stdout",
     "output_type": "stream",
     "text": [
      "Finished reading the train set of COVID19 Dataset (2362 samples found, each dim = 14)\n",
      "Finished reading the dev set of COVID19 Dataset (338 samples found, each dim = 14)\n",
      "Finished reading the test set of COVID19 Dataset (893 samples found, each dim = 14)\n"
     ]
    }
   ],
   "source": [
    "tr_set = prep_dataloader(tr_path, 'train', config['batch_size'], target_only=target_only)\n",
    "dv_set = prep_dataloader(tr_path, 'dev', config['batch_size'], target_only=target_only)\n",
    "tt_set = prep_dataloader(tt_path, 'test', config['batch_size'], target_only=target_only)\n"
   ]
  },
  {
   "cell_type": "code",
   "execution_count": 94,
   "metadata": {
    "id": "FHylSirLP9oh"
   },
   "outputs": [],
   "source": [
    "model = NeuralNet(tr_set.dataset.dim).to(device)  # Construct model and move to device"
   ]
  },
  {
   "cell_type": "markdown",
   "metadata": {
    "id": "sX2B_zgSOPTJ"
   },
   "source": [
    "# **Start Training!**"
   ]
  },
  {
   "cell_type": "code",
   "execution_count": 95,
   "metadata": {
    "colab": {
     "base_uri": "https://localhost:8080/"
    },
    "executionInfo": {
     "elapsed": 78026,
     "status": "ok",
     "timestamp": 1648470459998,
     "user": {
      "displayName": "陳鼎立",
      "photoUrl": "https://lh3.googleusercontent.com/a/default-user=s64",
      "userId": "13149118031320575379"
     },
     "user_tz": -480
    },
    "id": "GrEbUxazQAAZ",
    "outputId": "27c624e3-2c27-4b7a-f005-946d4356d2f3"
   },
   "outputs": [
    {
     "name": "stdout",
     "output_type": "stream",
     "text": [
      "Model improved after validation, saving model (epoch =    1, loss = 330.5211)\n",
      "Model improved after validation, saving model (epoch =    2, loss = 318.0475)\n",
      "Model improved after validation, saving model (epoch =    3, loss = 307.7035)\n",
      "Model improved after validation, saving model (epoch =    4, loss = 307.2974)\n",
      "Model improved after validation, saving model (epoch =    8, loss = 305.3990)\n",
      "Model improved after validation, saving model (epoch =    9, loss = 302.8586)\n",
      "Model improved after validation, saving model (epoch =   10, loss = 301.1056)\n",
      "Model improved after validation, saving model (epoch =   11, loss = 298.0860)\n",
      "Model improved after validation, saving model (epoch =   12, loss = 292.8806)\n",
      "Model improved after validation, saving model (epoch =   13, loss = 285.8538)\n",
      "Model improved after validation, saving model (epoch =   14, loss = 282.5001)\n",
      "Model improved after validation, saving model (epoch =   19, loss = 279.0984)\n",
      "Model improved after validation, saving model (epoch =   20, loss = 273.9058)\n",
      "Model improved after validation, saving model (epoch =   21, loss = 269.1299)\n",
      "Model improved after validation, saving model (epoch =   22, loss = 265.5755)\n",
      "Model improved after validation, saving model (epoch =   23, loss = 263.3881)\n",
      "Model improved after validation, saving model (epoch =   24, loss = 260.6139)\n",
      "Model improved after validation, saving model (epoch =   25, loss = 255.1947)\n",
      "Model improved after validation, saving model (epoch =   26, loss = 243.9566)\n",
      "Model improved after validation, saving model (epoch =   27, loss = 233.5560)\n",
      "Model improved after validation, saving model (epoch =   31, loss = 231.7949)\n",
      "Model improved after validation, saving model (epoch =   32, loss = 228.3576)\n",
      "Model improved after validation, saving model (epoch =   33, loss = 225.2354)\n",
      "Model improved after validation, saving model (epoch =   34, loss = 223.2282)\n",
      "Model improved after validation, saving model (epoch =   35, loss = 220.9245)\n",
      "Model improved after validation, saving model (epoch =   36, loss = 218.5892)\n",
      "Model improved after validation, saving model (epoch =   37, loss = 213.9651)\n",
      "Model improved after validation, saving model (epoch =   38, loss = 210.2441)\n",
      "Model improved after validation, saving model (epoch =   40, loss = 206.7278)\n",
      "Model improved after validation, saving model (epoch =   41, loss = 200.3926)\n",
      "Model improved after validation, saving model (epoch =   42, loss = 195.1402)\n",
      "Model improved after validation, saving model (epoch =   43, loss = 192.4103)\n",
      "Model improved after validation, saving model (epoch =   44, loss = 189.8286)\n",
      "Model improved after validation, saving model (epoch =   45, loss = 186.3721)\n",
      "Model improved after validation, saving model (epoch =   46, loss = 183.9818)\n",
      "Model improved after validation, saving model (epoch =   47, loss = 170.5041)\n",
      "Model improved after validation, saving model (epoch =   48, loss = 153.0037)\n",
      "Model improved after validation, saving model (epoch =   49, loss = 130.0421)\n",
      "Model improved after validation, saving model (epoch =   61, loss = 125.8597)\n",
      "Model improved after validation, saving model (epoch =   62, loss = 125.2607)\n",
      "Model improved after validation, saving model (epoch =   63, loss = 119.0840)\n",
      "Model improved after validation, saving model (epoch =   67, loss = 115.2906)\n",
      "Model improved after validation, saving model (epoch =   68, loss = 113.9808)\n",
      "Model improved after validation, saving model (epoch =   69, loss = 107.2874)\n",
      "Model improved after validation, saving model (epoch =   70, loss = 96.9460)\n",
      "Model improved after validation, saving model (epoch =   74, loss = 96.0060)\n",
      "Model improved after validation, saving model (epoch =   76, loss = 92.1938)\n",
      "Model improved after validation, saving model (epoch =   80, loss = 86.0915)\n",
      "Model improved after validation, saving model (epoch =   82, loss = 78.3253)\n",
      "Model improved after validation, saving model (epoch =   84, loss = 77.0352)\n",
      "Model improved after validation, saving model (epoch =   85, loss = 73.5083)\n",
      "Model improved after validation, saving model (epoch =   86, loss = 70.5668)\n",
      "Model improved after validation, saving model (epoch =   90, loss = 67.0220)\n",
      "Model improved after validation, saving model (epoch =   91, loss = 64.1163)\n",
      "Model improved after validation, saving model (epoch =   92, loss = 56.0281)\n",
      "Model improved after validation, saving model (epoch =   95, loss = 48.5596)\n",
      "Model improved after validation, saving model (epoch =   97, loss = 43.2559)\n",
      "Model improved after validation, saving model (epoch =   98, loss = 33.6375)\n",
      "Model improved after validation, saving model (epoch =  101, loss = 31.9958)\n",
      "Model improved after validation, saving model (epoch =  106, loss = 26.2880)\n",
      "Model improved after validation, saving model (epoch =  109, loss = 17.0796)\n",
      "Model improved after validation, saving model (epoch =  116, loss = 15.5278)\n",
      "Model improved after validation, saving model (epoch =  119, loss = 13.5553)\n",
      "Model improved after validation, saving model (epoch =  125, loss = 10.3569)\n",
      "Model improved after validation, saving model (epoch =  128, loss = 10.1636)\n",
      "Model improved after validation, saving model (epoch =  143, loss = 9.7226)\n",
      "Model improved after validation, saving model (epoch =  144, loss = 8.6489)\n",
      "Model improved after validation, saving model (epoch =  155, loss = 8.3721)\n",
      "Model improved after validation, saving model (epoch =  159, loss = 7.1380)\n",
      "Model improved after validation, saving model (epoch =  160, loss = 6.3338)\n",
      "Model improved after validation, saving model (epoch =  170, loss = 6.1929)\n",
      "Model improved after validation, saving model (epoch =  176, loss = 5.9772)\n",
      "Model improved after validation, saving model (epoch =  183, loss = 5.9767)\n",
      "Model improved after validation, saving model (epoch =  198, loss = 5.6801)\n",
      "Model improved after validation, saving model (epoch =  207, loss = 5.1814)\n",
      "Model improved after validation, saving model (epoch =  215, loss = 4.9403)\n",
      "Model improved after validation, saving model (epoch =  219, loss = 4.9370)\n",
      "Model improved after validation, saving model (epoch =  232, loss = 4.8529)\n",
      "Model improved after validation, saving model (epoch =  233, loss = 4.7687)\n",
      "Model improved after validation, saving model (epoch =  238, loss = 4.4889)\n",
      "Model improved after validation, saving model (epoch =  241, loss = 4.2948)\n",
      "Model improved after validation, saving model (epoch =  246, loss = 4.2416)\n",
      "Model improved after validation, saving model (epoch =  249, loss = 3.9843)\n",
      "Model improved after validation, saving model (epoch =  265, loss = 3.8706)\n",
      "Model improved after validation, saving model (epoch =  271, loss = 3.6437)\n",
      "Model improved after validation, saving model (epoch =  285, loss = 3.5826)\n",
      "Model improved after validation, saving model (epoch =  287, loss = 3.5210)\n",
      "Model improved after validation, saving model (epoch =  291, loss = 3.3808)\n",
      "Model improved after validation, saving model (epoch =  292, loss = 3.3285)\n",
      "Model improved after validation, saving model (epoch =  297, loss = 3.2601)\n",
      "Model improved after validation, saving model (epoch =  304, loss = 3.0872)\n",
      "Model improved after validation, saving model (epoch =  312, loss = 2.7395)\n",
      "Model improved after validation, saving model (epoch =  313, loss = 2.6982)\n",
      "Model improved after validation, saving model (epoch =  330, loss = 2.5412)\n",
      "Model improved after validation, saving model (epoch =  333, loss = 2.4044)\n",
      "Model improved after validation, saving model (epoch =  344, loss = 2.3786)\n",
      "Model improved after validation, saving model (epoch =  345, loss = 2.3286)\n",
      "Model improved after validation, saving model (epoch =  348, loss = 2.2065)\n",
      "Model improved after validation, saving model (epoch =  351, loss = 2.2027)\n",
      "Model improved after validation, saving model (epoch =  352, loss = 2.1319)\n",
      "Model improved after validation, saving model (epoch =  354, loss = 2.0648)\n",
      "Model improved after validation, saving model (epoch =  362, loss = 2.0585)\n",
      "Model improved after validation, saving model (epoch =  365, loss = 2.0306)\n",
      "Model improved after validation, saving model (epoch =  374, loss = 1.9586)\n",
      "Model improved after validation, saving model (epoch =  376, loss = 1.9472)\n",
      "Model improved after validation, saving model (epoch =  377, loss = 1.8430)\n",
      "Model improved after validation, saving model (epoch =  392, loss = 1.7093)\n",
      "Model improved after validation, saving model (epoch =  402, loss = 1.6368)\n",
      "Model improved after validation, saving model (epoch =  406, loss = 1.6268)\n",
      "Model improved after validation, saving model (epoch =  407, loss = 1.5757)\n",
      "Model improved after validation, saving model (epoch =  427, loss = 1.5638)\n",
      "Model improved after validation, saving model (epoch =  435, loss = 1.4204)\n",
      "Model improved after validation, saving model (epoch =  438, loss = 1.3946)\n",
      "Model improved after validation, saving model (epoch =  449, loss = 1.3722)\n",
      "Model improved after validation, saving model (epoch =  455, loss = 1.3478)\n",
      "Model improved after validation, saving model (epoch =  461, loss = 1.3359)\n",
      "Model improved after validation, saving model (epoch =  464, loss = 1.3109)\n",
      "Model improved after validation, saving model (epoch =  470, loss = 1.2387)\n",
      "Model improved after validation, saving model (epoch =  475, loss = 1.2267)\n",
      "Model improved after validation, saving model (epoch =  481, loss = 1.2075)\n",
      "Model improved after validation, saving model (epoch =  485, loss = 1.1972)\n",
      "Model improved after validation, saving model (epoch =  498, loss = 1.1952)\n",
      "Model improved after validation, saving model (epoch =  499, loss = 1.1803)\n",
      "Model improved after validation, saving model (epoch =  505, loss = 1.1552)\n",
      "Model improved after validation, saving model (epoch =  514, loss = 1.1412)\n",
      "Model improved after validation, saving model (epoch =  519, loss = 1.1070)\n",
      "Model improved after validation, saving model (epoch =  526, loss = 1.0960)\n",
      "Model improved after validation, saving model (epoch =  528, loss = 1.0821)\n",
      "Model improved after validation, saving model (epoch =  545, loss = 1.0583)\n",
      "Model improved after validation, saving model (epoch =  552, loss = 1.0565)\n",
      "Model improved after validation, saving model (epoch =  558, loss = 1.0403)\n",
      "Model improved after validation, saving model (epoch =  575, loss = 1.0344)\n",
      "Model improved after validation, saving model (epoch =  584, loss = 1.0235)\n",
      "Model improved after validation, saving model (epoch =  589, loss = 1.0160)\n",
      "Model improved after validation, saving model (epoch =  601, loss = 1.0110)\n",
      "Model improved after validation, saving model (epoch =  611, loss = 0.9889)\n",
      "Model improved after validation, saving model (epoch =  666, loss = 0.9831)\n",
      "Model improved after validation, saving model (epoch =  680, loss = 0.9754)\n",
      "Model improved after validation, saving model (epoch =  741, loss = 0.9697)\n",
      "Model improved after validation, saving model (epoch =  782, loss = 0.9653)\n",
      "Model improved after validation, saving model (epoch = 1107, loss = 0.9565)\n",
      "Finished training after 2108 epochs\n"
     ]
    }
   ],
   "source": [
    "model_loss, model_loss_record = train(tr_set, dv_set, model, config, device)"
   ]
  },
  {
   "cell_type": "code",
   "execution_count": 96,
   "metadata": {
    "colab": {
     "base_uri": "https://localhost:8080/"
    },
    "executionInfo": {
     "elapsed": 592,
     "status": "ok",
     "timestamp": 1648470460577,
     "user": {
      "displayName": "陳鼎立",
      "photoUrl": "https://lh3.googleusercontent.com/a/default-user=s64",
      "userId": "13149118031320575379"
     },
     "user_tz": -480
    },
    "id": "hsNO9nnXQBvP",
    "outputId": "e6bf0385-0baf-4f89-9313-6807b4e93c02"
   },
   "outputs": [
    {
     "data": {
      "image/png": "[encoded data removed]",
      "text/plain": [
       "<Figure size 600x400 with 1 Axes>"
      ]
     },
     "metadata": {},
     "output_type": "display_data"
    }
   ],
   "source": [
    "plot_learning_curve(model_loss_record, title='deep model')"
   ]
  },
  {
   "cell_type": "code",
   "execution_count": 97,
   "metadata": {
    "colab": {
     "base_uri": "https://localhost:8080/"
    },
    "executionInfo": {
     "elapsed": 12,
     "status": "ok",
     "timestamp": 1648470460578,
     "user": {
      "displayName": "陳鼎立",
      "photoUrl": "https://lh3.googleusercontent.com/a/default-user=s64",
      "userId": "13149118031320575379"
     },
     "user_tz": -480
    },
    "id": "3iZTVn5WQFpX",
    "outputId": "d4933e36-d919-4cb8-9858-149678bc780a"
   },
   "outputs": [
    {
     "data": {
      "image/png": "[encoded data removed]",
      "text/plain": [
       "<Figure size 500x500 with 1 Axes>"
      ]
     },
     "metadata": {},
     "output_type": "display_data"
    }
   ],
   "source": [
    "del model\n",
    "model = NeuralNet(tr_set.dataset.dim).to(device)\n",
    "ckpt = torch.load(config['save_path'], map_location='cpu')  # Load your best model\n",
    "model.load_state_dict(ckpt)\n",
    "plot_pred(dv_set, model, device)  # Show prediction on the validation set"
   ]
  },
  {
   "cell_type": "markdown",
   "metadata": {
    "id": "aQikz3IPiyPf"
   },
   "source": [
    "# **Testing**\n",
    "The predictions of your model on testing set will be stored at `pred.csv`."
   ]
  },
  {
   "cell_type": "code",
   "execution_count": 98,
   "metadata": {
    "colab": {
     "base_uri": "https://localhost:8080/"
    },
    "executionInfo": {
     "elapsed": 12,
     "status": "ok",
     "timestamp": 1648470460579,
     "user": {
      "displayName": "陳鼎立",
      "photoUrl": "https://lh3.googleusercontent.com/a/default-user=s64",
      "userId": "13149118031320575379"
     },
     "user_tz": -480
    },
    "id": "O8cTuQjQQOon",
    "outputId": "a199597f-e90e-4843-ca48-4fea640ef3f5"
   },
   "outputs": [
    {
     "name": "stdout",
     "output_type": "stream",
     "text": [
      "Saving results to pred.csv\n"
     ]
    }
   ],
   "source": [
    "def save_pred(preds, file):\n",
    "    ''' Save predictions to specified file '''\n",
    "    print('Saving results to {}'.format(file))\n",
    "    with open(file, 'w') as fp:\n",
    "        writer = csv.writer(fp)\n",
    "        writer.writerow(['id', 'tested_positive'])\n",
    "        for i, p in enumerate(preds):\n",
    "            writer.writerow([i, p])\n",
    "\n",
    "preds = test(tt_set, model, device)  # predict COVID-19 cases with your model\n",
    "save_pred(preds, 'pred.csv')         # save prediction file to pred.csv"
   ]
  },
  {
   "cell_type": "markdown",
   "metadata": {
    "id": "nfrVxqJanGpE"
   },
   "source": [
    "# **Hints**\n",
    "\n",
    "## **Simple Baseline**\n",
    "* Run sample code\n",
    "\n",
    "## **Medium Baseline**\n",
    "* Feature selection: 40 states + 2 `tested_positive` (`TODO` in dataset)\n",
    "\n",
    "## **Strong Baseline**\n",
    "* Feature selection (what other features are useful?)\n",
    "* DNN architecture (layers? dimension? activation function?)\n",
    "* Training (mini-batch? optimizer? learning rate?)\n",
    "* L2 regularization\n",
    "* There are some mistakes in the sample code, can you find them?"
   ]
  },
  {
   "cell_type": "markdown",
   "metadata": {
    "id": "9tmCwXgpot3t"
   },
   "source": [
    "# **Reference**\n",
    "This code is completely written by Heng-Jui Chang @ NTUEE.  \n",
    "Copying or reusing this code is required to specify the original author. \n",
    "\n",
    "E.g.  \n",
    "Source: Heng-Jui Chang @ NTUEE (https://github.com/ga642381/ML2021-Spring/blob/main/HW01/HW01.ipynb)\n"
   ]
  }
 ],
 "metadata": {
  "accelerator": "GPU",
  "colab": {
   "collapsed_sections": [],
   "name": "HW1_Regression_Ding_Li.ipynb",
   "provenance": []
  },
  "kernelspec": {
   "display_name": "Python 3 (ipykernel)",
   "language": "python",
   "name": "python3"
  },
  "language_info": {
   "codemirror_mode": {
    "name": "ipython",
    "version": 3
   },
   "file_extension": ".py",
   "mimetype": "text/x-python",
   "name": "python",
   "nbconvert_exporter": "python",
   "pygments_lexer": "ipython3",
   "version": "3.9.18"
  }
 },
 "nbformat": 4,
 "nbformat_minor": 4
}
