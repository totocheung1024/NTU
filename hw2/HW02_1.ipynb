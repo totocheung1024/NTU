{
  "cells": [
    {
      "cell_type": "markdown",
      "metadata": {
        "id": "view-in-github"
      },
      "source": [
        "<a href=\"https://colab.research.google.com/github/ga642381/ML2021-Spring/blob/main/HW02/HW02-1.ipynb\" target=\"_parent\"><img src=\"https://colab.research.google.com/assets/colab-badge.svg\" alt=\"Open In Colab\"/></a>"
      ]
    },
    {
      "cell_type": "code",
      "execution_count": 1,
      "metadata": {
        "colab": {
          "base_uri": "https://localhost:8080/",
          "height": 0
        },
        "id": "AgZlMJ79y9yW",
        "outputId": "37628d0c-151d-46f3-8f31-9eebe0eb9cc2"
      },
      "outputs": [
        {
          "name": "stdout",
          "output_type": "stream",
          "text": [
            "Mounted at /content/drive\n"
          ]
        }
      ],
      "source": [
        "###from google.colab import  drive\n",
        "###drive.mount(\"/content/drive\")"
      ]
    },
    {
      "cell_type": "code",
      "execution_count": 2,
      "metadata": {
        "colab": {
          "base_uri": "https://localhost:8080/",
          "height": 0
        },
        "id": "fA-6j21Ey-Iu",
        "outputId": "fa5f61a1-6523-49c4-8f27-48cd1f630221"
      },
      "outputs": [
        {
          "name": "stdout",
          "output_type": "stream",
          "text": [
            "/content/drive/MyDrive/hw2\n"
          ]
        }
      ],
      "source": [
        "###%cd /content/drive/MyDrive/hw2"
      ]
    },
    {
      "cell_type": "markdown",
      "metadata": {
        "id": "OYlaRwNu7ojq"
      },
      "source": [
        "# **Homework 2-1 Phoneme Classification**\n",
        "\n",
        "* Slides: https://speech.ee.ntu.edu.tw/~hylee/ml/ml2021-course-data/hw/HW02/HW02.pdf\n",
        "* Video (Chinese): https://youtu.be/PdjXnQbu2zo\n",
        "* Video (English): https://youtu.be/ESRr-VCykBs\n"
      ]
    },
    {
      "cell_type": "markdown",
      "metadata": {
        "id": "emUd7uS7crTz"
      },
      "source": [
        "## The DARPA TIMIT Acoustic-Phonetic Continuous Speech Corpus (TIMIT)\n",
        "The TIMIT corpus of reading speech has been designed to provide speech data for the acquisition of acoustic-phonetic knowledge and for the development and evaluation of automatic speech recognition systems.\n",
        "\n",
        "This homework is a multiclass classification task,\n",
        "we are going to train a deep neural network classifier to predict the phonemes for each frame from the speech corpus TIMIT.\n",
        "\n",
        "link: https://academictorrents.com/details/34e2b78745138186976cbc27939b1b34d18bd5b3"
      ]
    },
    {
      "cell_type": "markdown",
      "metadata": {
        "id": "KVUGfWTo7_Oj"
      },
      "source": [
        "## Download Data\n",
        "Download data from google drive, then unzip it.\n",
        "\n",
        "You should have `timit_11/train_11.npy`, `timit_11/train_label_11.npy`, and `timit_11/test_11.npy` after running this block.<br><br>\n",
        "`timit_11/`\n",
        "- `train_11.npy`: training data<br>\n",
        "- `train_label_11.npy`: training label<br>\n",
        "- `test_11.npy`:  testing data<br><br>\n",
        "\n",
        "**notes: if the google drive link is dead, you can download the data directly from Kaggle and upload it to the workspace**\n",
        "\n",
        "\n"
      ]
    },
    {
      "cell_type": "code",
      "execution_count": 2,
      "metadata": {
        "colab": {
          "base_uri": "https://localhost:8080/",
          "height": 0
        },
        "id": "OzkiMEcC3Foq",
        "outputId": "b4bca4ea-5a87-4de6-8d0c-2056b75558ce"
      },
      "outputs": [
        {
          "name": "stdout",
          "output_type": "stream",
          "text": [
            "/usr/local/lib/python3.10/dist-packages/gdown/cli.py:138: FutureWarning: Option `--id` was deprecated in version 4.3.1 and will be removed in 5.0. You don't need to pass it anymore to use a file ID.\n",
            "  warnings.warn(\n",
            "Downloading...\n",
            "From (original): https://drive.google.com/uc?id=1HPkcmQmFGu-3OknddKIa5dNDsR05lIQR\n",
            "From (redirected): https://drive.google.com/uc?id=1HPkcmQmFGu-3OknddKIa5dNDsR05lIQR&confirm=t&uuid=9d6869e8-1be8-48bf-87be-4f96773fe5d1\n",
            "To: /content/data.zip\n",
            "100% 372M/372M [00:06<00:00, 55.7MB/s]\n",
            "Archive:  data.zip\n",
            "   creating: timit_11/\n",
            "  inflating: timit_11/train_11.npy   \n",
            "  inflating: timit_11/test_11.npy    \n",
            "  inflating: timit_11/train_label_11.npy  \n",
            "data.zip  drive  sample_data  timit_11\n"
          ]
        }
      ],
      "source": [
        "!gdown --id '1HPkcmQmFGu-3OknddKIa5dNDsR05lIQR' --output data.zip\n",
        "!unzip data.zip\n",
        "!ls"
      ]
    },
    {
      "cell_type": "markdown",
      "metadata": {
        "id": "_L_4anls8Drv"
      },
      "source": [
        "## Preparing Data\n",
        "Load the training and testing data from the `.npy` file (NumPy array)."
      ]
    },
    {
      "cell_type": "code",
      "execution_count": 19,
      "metadata": {
        "colab": {
          "base_uri": "https://localhost:8080/",
          "height": 0
        },
        "id": "IJjLT8em-y9G",
        "outputId": "cafdf0b7-76ae-4646-bbb5-05e11c7e3f49"
      },
      "outputs": [
        {
          "name": "stdout",
          "output_type": "stream",
          "text": [
            "Loading data ...\n",
            "Size of training data: (1229932, 429)\n",
            "Size of testing data: (451552, 429)\n",
            "Size of training data label: (1229932,)\n"
          ]
        }
      ],
      "source": [
        "import numpy as np\n",
        "\n",
        "print('Loading data ...')\n",
        "\n",
        "data_root='./timit_11/'\n",
        "train = np.load(data_root + 'train_11.npy')\n",
        "train_label = np.load(data_root + 'train_label_11.npy')\n",
        "test = np.load(data_root + 'test_11.npy')\n",
        "\n",
        "print('Size of training data: {}'.format(train.shape))\n",
        "print('Size of testing data: {}'.format(test.shape))\n",
        "print('Size of training data label: {}'.format(train_label.shape))"
      ]
    },
    {
      "cell_type": "markdown",
      "metadata": {
        "id": "us5XW_x6udZQ"
      },
      "source": [
        "## Create Dataset"
      ]
    },
    {
      "cell_type": "code",
      "execution_count": 21,
      "metadata": {
        "id": "Fjf5EcmJtf4e"
      },
      "outputs": [],
      "source": [
        "import torch\n",
        "from torch.utils.data import Dataset\n",
        "\n",
        "class TIMITDataset(Dataset):\n",
        "    def __init__(self, X, y=None):\n",
        "        self.data = torch.from_numpy(X).float()\n",
        "        if y is not None:\n",
        "            y = y.astype(np.int64)\n",
        "            self.label = torch.LongTensor(y)\n",
        "        else:\n",
        "            self.label = None\n",
        "\n",
        "    def __getitem__(self, idx):\n",
        "        if self.label is not None:\n",
        "            return self.data[idx], self.label[idx]\n",
        "        else:\n",
        "            return self.data[idx]\n",
        "\n",
        "    def __len__(self):\n",
        "        return len(self.data)\n"
      ]
    },
    {
      "cell_type": "markdown",
      "metadata": {
        "id": "otIC6WhGeh9v"
      },
      "source": [
        "Split the labeled data into a training set and a validation set, you can modify the variable `VAL_RATIO` to change the ratio of validation data."
      ]
    },
    {
      "cell_type": "code",
      "execution_count": 22,
      "metadata": {
        "colab": {
          "base_uri": "https://localhost:8080/",
          "height": 0
        },
        "id": "sYqi_lAuvC59",
        "outputId": "b027d142-74ba-4eb0-a77f-ce2544c30507"
      },
      "outputs": [
        {
          "name": "stdout",
          "output_type": "stream",
          "text": [
            "Size of training set: (1168435, 429)\n",
            "Size of validation set: (61497, 429)\n"
          ]
        }
      ],
      "source": [
        "VAL_RATIO = 0.05\n",
        "\n",
        "percent = int(train.shape[0] * (1 - VAL_RATIO))\n",
        "train_x, train_y, val_x, val_y = train[:percent], train_label[:percent], train[percent:], train_label[percent:]\n",
        "print('Size of training set: {}'.format(train_x.shape))\n",
        "print('Size of validation set: {}'.format(val_x.shape))"
      ]
    },
    {
      "cell_type": "markdown",
      "metadata": {
        "id": "nbCfclUIgMTX"
      },
      "source": [
        "Create a data loader from the dataset, feel free to tweak the variable `BATCH_SIZE` here."
      ]
    },
    {
      "cell_type": "code",
      "execution_count": 23,
      "metadata": {
        "id": "RUCbQvqJurYc"
      },
      "outputs": [],
      "source": [
        "BATCH_SIZE = 2048\n",
        "\n",
        "from torch.utils.data import DataLoader\n",
        "\n",
        "train_set = TIMITDataset(train_x, train_y)\n",
        "val_set = TIMITDataset(val_x, val_y)\n",
        "train_loader = DataLoader(train_set, batch_size=BATCH_SIZE, shuffle=True) #only shuffle the training data\n",
        "val_loader = DataLoader(val_set, batch_size=BATCH_SIZE, shuffle=False)"
      ]
    },
    {
      "cell_type": "markdown",
      "metadata": {
        "id": "_SY7X0lUgb50"
      },
      "source": [
        "Cleanup the unneeded variables to save memory.<br>\n",
        "\n",
        "**notes: if you need to use these variables later, then you may remove this block or clean up unneeded variables later<br>the data size is quite huge, so be aware of memory usage in colab**"
      ]
    },
    {
      "cell_type": "code",
      "execution_count": 24,
      "metadata": {
        "colab": {
          "base_uri": "https://localhost:8080/",
          "height": 0
        },
        "id": "y8rzkGraeYeN",
        "outputId": "aeaa8c69-e7d4-43fb-f853-bd36fdc2f6cb"
      },
      "outputs": [
        {
          "data": {
            "text/plain": [
              "293"
            ]
          },
          "execution_count": 24,
          "metadata": {},
          "output_type": "execute_result"
        }
      ],
      "source": [
        "import gc\n",
        "\n",
        "del train, train_label, train_x, train_y, val_x, val_y\n",
        "gc.collect()"
      ]
    },
    {
      "cell_type": "markdown",
      "metadata": {
        "id": "IRqKNvNZwe3V"
      },
      "source": [
        "## Create Model"
      ]
    },
    {
      "cell_type": "markdown",
      "metadata": {
        "id": "FYr1ng5fh9pA"
      },
      "source": [
        "Define model architecture, you are encouraged to change and experiment with the model architecture."
      ]
    },
    {
      "cell_type": "code",
      "execution_count": 89,
      "metadata": {
        "id": "lbZrwT6Ny0XL"
      },
      "outputs": [],
      "source": [
        "import torch\n",
        "import torch.nn as nn\n",
        "\"\"\"\n",
        "class Classifier(nn.Module):\n",
        "    def __init__(self):\n",
        "        super(Classifier, self).__init__()\n",
        "        self.layer1 = nn.Linear(429, 1024)\n",
        "        self.layer2 = nn.Linear(1024, 512)\n",
        "        self.layer3 = nn.Linear(512, 128)\n",
        "        self.out = nn.Linear(128, 39)\n",
        "\n",
        "        self.bn1=nn.BatchNorm1d(1024)\n",
        "        self.bn2=nn.BatchNorm1d(512)\n",
        "        self.bn3=nn.BatchNorm1d(128)\n",
        "\n",
        "\n",
        "        self.act_fn = nn.ReLU()\n",
        "        self.dropout= nn.Dropout(0.5)\n",
        "\n",
        "    def forward(self, x):\n",
        "        x=self.layer1(x)\n",
        "        x=self.bn1(x)\n",
        "        x=self.act_fn(x)\n",
        "        x=self.dropout(x)\n",
        "\n",
        "        x=self.layer2(x)\n",
        "        x=self.bn2(x)\n",
        "        x=self.act_fn(x)\n",
        "        x=self.dropout(x)\n",
        "\n",
        "        x=self.layer3(x)\n",
        "        x=self.bn3(x)\n",
        "        x=self.act_fn(x)\n",
        "        x=self.dropout(x)\n",
        "\n",
        "        x = self.out(x)\n",
        "\n",
        "        return x\n",
        "\"\"\"\n",
        "\"\"\"\n",
        "class Classifier(nn.Module):\n",
        "    def __init__(self):\n",
        "        super(Classifier, self).__init__()\n",
        "        self.layer1 = nn.Linear(429, 1024)\n",
        "        self.layer2 = nn.Linear(1024, 2048)\n",
        "        self.layer3 = nn.Linear(2048, 4096)\n",
        "        self.layer4 = nn.Linear(4096, 2048)\n",
        "        self.layer5 = nn.Linear(2048, 1024)\n",
        "        self.layer6 = nn.Linear(1024, 512)\n",
        "        self.out = nn.Linear(512, 39)\n",
        "\n",
        "        self.bn1=nn.BatchNorm1d(1024)\n",
        "        self.bn2=nn.BatchNorm1d(2048)\n",
        "        self.bn3=nn.BatchNorm1d(4096)\n",
        "        self.bn4=nn.BatchNorm1d(2048)\n",
        "        self.bn5=nn.BatchNorm1d(1024)\n",
        "        self.bn6=nn.BatchNorm1d(512)\n",
        "\n",
        "        self.act_fn = nn.ReLU()\n",
        "        self.dropout= nn.Dropout(0.4)\n",
        "\n",
        "    def forward(self, x):\n",
        "        x=self.layer1(x)\n",
        "        x=self.bn1(x)\n",
        "        x=self.act_fn(x)\n",
        "        x=self.dropout(x)\n",
        "\n",
        "        x=self.layer2(x)\n",
        "        x=self.bn2(x)\n",
        "        x=self.act_fn(x)\n",
        "        x=self.dropout(x)\n",
        "\n",
        "        x=self.layer3(x)\n",
        "        x=self.bn3(x)\n",
        "        x=self.act_fn(x)\n",
        "        x=self.dropout(x)\n",
        "\n",
        "        x=self.layer4(x)\n",
        "        x=self.bn4(x)\n",
        "        x=self.act_fn(x)\n",
        "        x=self.dropout(x)\n",
        "\n",
        "        x=self.layer5(x)\n",
        "        x=self.bn5(x)\n",
        "        x=self.act_fn(x)\n",
        "        x=self.dropout(x)\n",
        "\n",
        "        x=self.layer6(x)\n",
        "        x=self.bn6(x)\n",
        "        x=self.act_fn(x)\n",
        "        x=self.dropout(x)\n",
        "\n",
        "        x = self.out(x)\n",
        "\n",
        "        return x \"\"\"\n",
        "\n",
        "class Classifier(nn.Module):\n",
        "    def __init__(self):\n",
        "        super(Classifier, self).__init__()\n",
        "        self.layer1 = nn.Linear(429, 2048)\n",
        "        self.layer2 = nn.Linear(2048, 2048)\n",
        "        self.layer3 = nn.Linear(2048, 4096)\n",
        "        self.layer4 = nn.Linear(4096, 2048)\n",
        "        self.layer5 = nn.Linear(2048, 1024)\n",
        "        self.layer6 = nn.Linear(1024, 512)\n",
        "        self.out = nn.Linear(512, 39)\n",
        "\n",
        "        self.bn1=nn.BatchNorm1d(2048)\n",
        "        self.bn2=nn.BatchNorm1d(2048)\n",
        "        self.bn3=nn.BatchNorm1d(4096)\n",
        "        self.bn4=nn.BatchNorm1d(2048)\n",
        "        self.bn5=nn.BatchNorm1d(1024)\n",
        "        self.bn6=nn.BatchNorm1d(512)\n",
        "\n",
        "        self.act_fn = nn.ReLU()\n",
        "        self.dropout= nn.Dropout(0.4)\n",
        "\n",
        "    def forward(self, x):\n",
        "        x=self.layer1(x)\n",
        "        x=self.bn1(x)\n",
        "        x=self.act_fn(x)\n",
        "        x=self.dropout(x)\n",
        "\n",
        "        x=self.layer2(x)\n",
        "        x=self.bn2(x)\n",
        "        x=self.act_fn(x)\n",
        "        x=self.dropout(x)\n",
        "\n",
        "        x=self.layer3(x)\n",
        "        x=self.bn3(x)\n",
        "        x=self.act_fn(x)\n",
        "        x=self.dropout(x)\n",
        "\n",
        "        x=self.layer4(x)\n",
        "        x=self.bn4(x)\n",
        "        x=self.act_fn(x)\n",
        "        x=self.dropout(x)\n",
        "\n",
        "        x=self.layer5(x)\n",
        "        x=self.bn5(x)\n",
        "        x=self.act_fn(x)\n",
        "        x=self.dropout(x)\n",
        "\n",
        "        x=self.layer6(x)\n",
        "        x=self.bn6(x)\n",
        "        x=self.act_fn(x)\n",
        "        x=self.dropout(x)\n",
        "\n",
        "        x = self.out(x)\n",
        "\n",
        "        return x"
      ]
    },
    {
      "cell_type": "markdown",
      "metadata": {
        "id": "VRYciXZvPbYh"
      },
      "source": [
        "## Training"
      ]
    },
    {
      "cell_type": "code",
      "execution_count": 90,
      "metadata": {
        "id": "y114Vmm3Ja6o"
      },
      "outputs": [],
      "source": [
        "#check device\n",
        "def get_device():\n",
        "  return 'cuda' if torch.cuda.is_available() else 'cpu'"
      ]
    },
    {
      "cell_type": "markdown",
      "metadata": {
        "id": "sEX-yjHjhGuH"
      },
      "source": [
        "Fix random seeds for reproducibility."
      ]
    },
    {
      "cell_type": "code",
      "execution_count": 91,
      "metadata": {
        "id": "88xPiUnm0tAd"
      },
      "outputs": [],
      "source": [
        "# fix random seed\n",
        "def same_seeds(seed):\n",
        "    torch.manual_seed(seed)\n",
        "    if torch.cuda.is_available():\n",
        "        torch.cuda.manual_seed(seed)\n",
        "        torch.cuda.manual_seed_all(seed)\n",
        "    np.random.seed(seed)\n",
        "    torch.backends.cudnn.benchmark = False\n",
        "    torch.backends.cudnn.deterministic = True"
      ]
    },
    {
      "cell_type": "markdown",
      "metadata": {
        "id": "KbBcBXkSp6RA"
      },
      "source": [
        "Feel free to change the training parameters here."
      ]
    },
    {
      "cell_type": "code",
      "execution_count": 92,
      "metadata": {
        "colab": {
          "base_uri": "https://localhost:8080/",
          "height": 0
        },
        "id": "QTp3ZXg1yO9Y",
        "outputId": "f12a90c7-b77c-4e9e-d807-995e2b0c8ace"
      },
      "outputs": [
        {
          "name": "stdout",
          "output_type": "stream",
          "text": [
            "DEVICE: cuda\n"
          ]
        }
      ],
      "source": [
        "# fix random seed for reproducibility\n",
        "same_seeds(0)\n",
        "\n",
        "# get device\n",
        "device = get_device()\n",
        "print(f'DEVICE: {device}')\n",
        "\n",
        "# training parameters\n",
        "num_epoch = 100               # number of training epoch\n",
        "learning_rate = 0.0001       # learning rate\n",
        "l2_weight_decay = 1e-4      # l2 regularization\n",
        "weight_decay_l1 = 0.0001          # l1 regularization\n",
        "weight_decay_l2 = 0.001      # l2 regularization\n",
        "\n",
        "# the path where checkpoint saved\n",
        "model_path = './model.ckpt'\n",
        "\n",
        "# create model, define a loss function, and optimizer\n",
        "model = Classifier().to(device)\n",
        "criterion = nn.CrossEntropyLoss()\n",
        "optimizer = torch.optim.Adam(model.parameters(), lr=learning_rate,weight_decay=l2_weight_decay)\n",
        "\n",
        "def cal_regularization(model, weight_decay_l1, weight_decay_l2):\n",
        "    l1 = 0\n",
        "    l2 = 0\n",
        "    for i in model.parameters():\n",
        "        l1 += torch.sum(abs(i))\n",
        "        l2 += torch.sum(torch.pow(i, 2))\n",
        "    return weight_decay_l1 * l1 + weight_decay_l2 * l2\n"
      ]
    },
    {
      "cell_type": "code",
      "execution_count": 93,
      "metadata": {
        "colab": {
          "base_uri": "https://localhost:8080/",
          "height": 2052
        },
        "id": "CdMWsBs7zzNs",
        "outputId": "4d30be34-2052-4882-b6f6-7fb00a854977"
      },
      "outputs": [
        {
          "name": "stdout",
          "output_type": "stream",
          "text": [
            "[001/100] Train Acc: 0.502188 Loss: 1.733399 | Val Acc: 0.625120 loss: 1.223793\n",
            "saving model with acc 0.625\n",
            "[002/100] Train Acc: 0.598171 Loss: 1.325369 | Val Acc: 0.646487 loss: 1.158968\n",
            "saving model with acc 0.646\n",
            "[003/100] Train Acc: 0.613821 Loss: 1.270208 | Val Acc: 0.657056 loss: 1.111435\n",
            "saving model with acc 0.657\n",
            "[004/100] Train Acc: 0.621990 Loss: 1.243764 | Val Acc: 0.649300 loss: 1.118785\n",
            "[005/100] Train Acc: 0.626294 Loss: 1.229161 | Val Acc: 0.660162 loss: 1.090466\n",
            "saving model with acc 0.660\n",
            "[006/100] Train Acc: 0.629771 Loss: 1.218003 | Val Acc: 0.659252 loss: 1.098082\n",
            "[007/100] Train Acc: 0.632809 Loss: 1.209947 | Val Acc: 0.672732 loss: 1.071693\n",
            "saving model with acc 0.673\n",
            "[008/100] Train Acc: 0.634895 Loss: 1.203987 | Val Acc: 0.666878 loss: 1.082382\n",
            "[009/100] Train Acc: 0.635961 Loss: 1.201470 | Val Acc: 0.673317 loss: 1.061986\n",
            "saving model with acc 0.673\n",
            "[010/100] Train Acc: 0.636853 Loss: 1.199540 | Val Acc: 0.668504 loss: 1.081527\n",
            "[011/100] Train Acc: 0.638384 Loss: 1.196830 | Val Acc: 0.674065 loss: 1.068805\n",
            "saving model with acc 0.674\n",
            "[012/100] Train Acc: 0.638497 Loss: 1.195156 | Val Acc: 0.678310 loss: 1.054096\n",
            "saving model with acc 0.678\n",
            "[013/100] Train Acc: 0.640285 Loss: 1.193512 | Val Acc: 0.664732 loss: 1.069719\n",
            "[014/100] Train Acc: 0.641127 Loss: 1.190576 | Val Acc: 0.678472 loss: 1.048340\n",
            "saving model with acc 0.678\n",
            "[015/100] Train Acc: 0.642350 Loss: 1.187748 | Val Acc: 0.676618 loss: 1.056406\n",
            "[016/100] Train Acc: 0.643883 Loss: 1.183959 | Val Acc: 0.686993 loss: 1.024894\n",
            "saving model with acc 0.687\n",
            "[017/100] Train Acc: 0.645166 Loss: 1.178329 | Val Acc: 0.684440 loss: 1.043215\n",
            "[018/100] Train Acc: 0.647747 Loss: 1.171893 | Val Acc: 0.690554 loss: 1.015851\n",
            "saving model with acc 0.691\n",
            "[019/100] Train Acc: 0.650617 Loss: 1.162758 | Val Acc: 0.691400 loss: 1.003977\n",
            "saving model with acc 0.691\n",
            "[020/100] Train Acc: 0.654505 Loss: 1.150105 | Val Acc: 0.696814 loss: 0.987513\n",
            "saving model with acc 0.697\n",
            "[021/100] Train Acc: 0.658599 Loss: 1.137256 | Val Acc: 0.698441 loss: 0.975620\n",
            "saving model with acc 0.698\n",
            "[022/100] Train Acc: 0.662200 Loss: 1.126893 | Val Acc: 0.704083 loss: 0.968814\n",
            "saving model with acc 0.704\n",
            "[023/100] Train Acc: 0.665328 Loss: 1.116516 | Val Acc: 0.709157 loss: 0.950787\n",
            "saving model with acc 0.709\n",
            "[024/100] Train Acc: 0.668397 Loss: 1.106959 | Val Acc: 0.709661 loss: 0.950474\n",
            "saving model with acc 0.710\n",
            "[025/100] Train Acc: 0.670964 Loss: 1.099961 | Val Acc: 0.709937 loss: 0.945036\n",
            "saving model with acc 0.710\n",
            "[026/100] Train Acc: 0.673516 Loss: 1.091416 | Val Acc: 0.711840 loss: 0.933200\n",
            "saving model with acc 0.712\n",
            "[027/100] Train Acc: 0.675716 Loss: 1.084907 | Val Acc: 0.714295 loss: 0.932099\n",
            "saving model with acc 0.714\n",
            "[028/100] Train Acc: 0.678185 Loss: 1.077566 | Val Acc: 0.717385 loss: 0.920275\n",
            "saving model with acc 0.717\n",
            "[029/100] Train Acc: 0.679361 Loss: 1.073986 | Val Acc: 0.720555 loss: 0.915175\n",
            "saving model with acc 0.721\n",
            "[030/100] Train Acc: 0.680863 Loss: 1.068200 | Val Acc: 0.721092 loss: 0.908387\n",
            "saving model with acc 0.721\n",
            "[031/100] Train Acc: 0.682124 Loss: 1.064787 | Val Acc: 0.724068 loss: 0.901046\n",
            "saving model with acc 0.724\n",
            "[032/100] Train Acc: 0.683911 Loss: 1.059982 | Val Acc: 0.722653 loss: 0.907659\n",
            "[033/100] Train Acc: 0.685235 Loss: 1.057260 | Val Acc: 0.723287 loss: 0.900526\n",
            "[034/100] Train Acc: 0.685767 Loss: 1.053095 | Val Acc: 0.726182 loss: 0.883953\n",
            "saving model with acc 0.726\n",
            "[035/100] Train Acc: 0.686262 Loss: 1.052083 | Val Acc: 0.723596 loss: 0.899670\n",
            "[036/100] Train Acc: 0.687158 Loss: 1.049788 | Val Acc: 0.725808 loss: 0.894049\n",
            "[037/100] Train Acc: 0.687757 Loss: 1.047017 | Val Acc: 0.724881 loss: 0.893232\n",
            "[038/100] Train Acc: 0.688357 Loss: 1.045259 | Val Acc: 0.730393 loss: 0.881295\n",
            "saving model with acc 0.730\n",
            "[039/100] Train Acc: 0.688577 Loss: 1.045357 | Val Acc: 0.727434 loss: 0.887151\n",
            "[040/100] Train Acc: 0.689232 Loss: 1.043685 | Val Acc: 0.727385 loss: 0.884886\n",
            "[041/100] Train Acc: 0.689575 Loss: 1.043408 | Val Acc: 0.729239 loss: 0.879395\n",
            "[042/100] Train Acc: 0.689556 Loss: 1.042125 | Val Acc: 0.727824 loss: 0.882645\n",
            "[043/100] Train Acc: 0.690062 Loss: 1.041317 | Val Acc: 0.728653 loss: 0.882046\n",
            "[044/100] Train Acc: 0.690517 Loss: 1.039220 | Val Acc: 0.729613 loss: 0.886569\n",
            "[045/100] Train Acc: 0.690854 Loss: 1.038766 | Val Acc: 0.728491 loss: 0.879780\n",
            "[046/100] Train Acc: 0.691328 Loss: 1.038281 | Val Acc: 0.727190 loss: 0.888727\n",
            "[047/100] Train Acc: 0.691563 Loss: 1.037023 | Val Acc: 0.730084 loss: 0.872269\n",
            "[048/100] Train Acc: 0.690819 Loss: 1.036809 | Val Acc: 0.730068 loss: 0.875560\n",
            "[049/100] Train Acc: 0.691150 Loss: 1.035954 | Val Acc: 0.735011 loss: 0.867449\n",
            "saving model with acc 0.735\n",
            "[050/100] Train Acc: 0.691521 Loss: 1.036085 | Val Acc: 0.730930 loss: 0.875716\n",
            "[051/100] Train Acc: 0.691087 Loss: 1.036991 | Val Acc: 0.732052 loss: 0.867750\n",
            "[052/100] Train Acc: 0.691497 Loss: 1.035626 | Val Acc: 0.734085 loss: 0.871319\n",
            "[053/100] Train Acc: 0.691908 Loss: 1.034676 | Val Acc: 0.730458 loss: 0.873995\n",
            "[054/100] Train Acc: 0.691565 Loss: 1.035864 | Val Acc: 0.730686 loss: 0.876583\n",
            "[055/100] Train Acc: 0.692579 Loss: 1.033668 | Val Acc: 0.731369 loss: 0.870233\n",
            "[056/100] Train Acc: 0.692257 Loss: 1.034176 | Val Acc: 0.731824 loss: 0.874501\n",
            "[057/100] Train Acc: 0.692552 Loss: 1.034461 | Val Acc: 0.733206 loss: 0.867002\n",
            "[058/100] Train Acc: 0.693023 Loss: 1.032738 | Val Acc: 0.736329 loss: 0.864889\n",
            "saving model with acc 0.736\n",
            "[059/100] Train Acc: 0.692904 Loss: 1.032135 | Val Acc: 0.733889 loss: 0.871362\n",
            "[060/100] Train Acc: 0.692832 Loss: 1.032363 | Val Acc: 0.729271 loss: 0.875215\n",
            "[061/100] Train Acc: 0.693294 Loss: 1.031670 | Val Acc: 0.729564 loss: 0.871796\n",
            "[062/100] Train Acc: 0.692999 Loss: 1.033086 | Val Acc: 0.732361 loss: 0.871909\n",
            "[063/100] Train Acc: 0.692645 Loss: 1.032224 | Val Acc: 0.731759 loss: 0.872068\n",
            "[064/100] Train Acc: 0.693476 Loss: 1.031034 | Val Acc: 0.731776 loss: 0.866556\n",
            "[065/100] Train Acc: 0.692486 Loss: 1.032380 | Val Acc: 0.731336 loss: 0.868182\n",
            "[066/100] Train Acc: 0.692905 Loss: 1.031413 | Val Acc: 0.729938 loss: 0.875335\n",
            "[067/100] Train Acc: 0.693343 Loss: 1.031679 | Val Acc: 0.732621 loss: 0.867623\n",
            "[068/100] Train Acc: 0.693505 Loss: 1.031151 | Val Acc: 0.730572 loss: 0.875147\n",
            "[069/100] Train Acc: 0.693307 Loss: 1.031205 | Val Acc: 0.734849 loss: 0.864958\n",
            "[070/100] Train Acc: 0.693295 Loss: 1.031331 | Val Acc: 0.731597 loss: 0.880166\n",
            "[071/100] Train Acc: 0.693578 Loss: 1.030068 | Val Acc: 0.730686 loss: 0.873698\n",
            "[072/100] Train Acc: 0.693579 Loss: 1.030445 | Val Acc: 0.729206 loss: 0.869540\n",
            "[073/100] Train Acc: 0.693433 Loss: 1.031018 | Val Acc: 0.729320 loss: 0.873076\n"
          ]
        },
        {
          "ename": "KeyboardInterrupt",
          "evalue": "",
          "output_type": "error",
          "traceback": [
            "\u001b[0;31m---------------------------------------------------------------------------\u001b[0m",
            "\u001b[0;31mKeyboardInterrupt\u001b[0m                         Traceback (most recent call last)",
            "\u001b[0;32m<ipython-input-93-5e2dae0cbc69>\u001b[0m in \u001b[0;36m<cell line: 4>\u001b[0;34m()\u001b[0m\n\u001b[1;32m     21\u001b[0m         \u001b[0moptimizer\u001b[0m\u001b[0;34m.\u001b[0m\u001b[0mstep\u001b[0m\u001b[0;34m(\u001b[0m\u001b[0;34m)\u001b[0m\u001b[0;34m\u001b[0m\u001b[0;34m\u001b[0m\u001b[0m\n\u001b[1;32m     22\u001b[0m \u001b[0;34m\u001b[0m\u001b[0m\n\u001b[0;32m---> 23\u001b[0;31m         \u001b[0mtrain_acc\u001b[0m \u001b[0;34m+=\u001b[0m \u001b[0;34m(\u001b[0m\u001b[0mtrain_pred\u001b[0m\u001b[0;34m.\u001b[0m\u001b[0mcpu\u001b[0m\u001b[0;34m(\u001b[0m\u001b[0;34m)\u001b[0m \u001b[0;34m==\u001b[0m \u001b[0mlabels\u001b[0m\u001b[0;34m.\u001b[0m\u001b[0mcpu\u001b[0m\u001b[0;34m(\u001b[0m\u001b[0;34m)\u001b[0m\u001b[0;34m)\u001b[0m\u001b[0;34m.\u001b[0m\u001b[0msum\u001b[0m\u001b[0;34m(\u001b[0m\u001b[0;34m)\u001b[0m\u001b[0;34m.\u001b[0m\u001b[0mitem\u001b[0m\u001b[0;34m(\u001b[0m\u001b[0;34m)\u001b[0m\u001b[0;34m\u001b[0m\u001b[0;34m\u001b[0m\u001b[0m\n\u001b[0m\u001b[1;32m     24\u001b[0m         \u001b[0mtrain_loss\u001b[0m \u001b[0;34m+=\u001b[0m \u001b[0mbatch_loss\u001b[0m\u001b[0;34m.\u001b[0m\u001b[0mitem\u001b[0m\u001b[0;34m(\u001b[0m\u001b[0;34m)\u001b[0m\u001b[0;34m\u001b[0m\u001b[0;34m\u001b[0m\u001b[0m\n\u001b[1;32m     25\u001b[0m \u001b[0;34m\u001b[0m\u001b[0m\n",
            "\u001b[0;31mKeyboardInterrupt\u001b[0m: "
          ]
        }
      ],
      "source": [
        "# start training\n",
        "\n",
        "best_acc = 0.0\n",
        "for epoch in range(num_epoch):\n",
        "    train_acc = 0.0\n",
        "    train_loss = 0.0\n",
        "    val_acc = 0.0\n",
        "    val_loss = 0.0\n",
        "\n",
        "    # training\n",
        "    model.train() # set the model to training mode\n",
        "    for i, data in enumerate(train_loader):\n",
        "        inputs, labels = data\n",
        "        inputs, labels = inputs.to(device), labels.to(device)\n",
        "        optimizer.zero_grad()\n",
        "        outputs = model(inputs)\n",
        "        batch_loss = criterion(outputs, labels)\n",
        "        _, train_pred = torch.max(outputs, 1) # get the index of the class with the highest probability\n",
        "        #batch_loss.backward()\n",
        "        (batch_loss + cal_regularization(model, weight_decay_l1, weight_decay_l2)).backward()\n",
        "        optimizer.step()\n",
        "\n",
        "        train_acc += (train_pred.cpu() == labels.cpu()).sum().item()\n",
        "        train_loss += batch_loss.item()\n",
        "\n",
        "    # validation\n",
        "    if len(val_set) > 0:\n",
        "        model.eval() # set the model to evaluation mode\n",
        "        with torch.no_grad():\n",
        "            for i, data in enumerate(val_loader):\n",
        "                inputs, labels = data\n",
        "                inputs, labels = inputs.to(device), labels.to(device)\n",
        "                outputs = model(inputs)\n",
        "                batch_loss = criterion(outputs, labels)\n",
        "                _, val_pred = torch.max(outputs, 1)\n",
        "\n",
        "                val_acc += (val_pred.cpu() == labels.cpu()).sum().item() # get the index of the class with the highest probability\n",
        "                val_loss += batch_loss.item()\n",
        "\n",
        "            print('[{:03d}/{:03d}] Train Acc: {:3.6f} Loss: {:3.6f} | Val Acc: {:3.6f} loss: {:3.6f}'.format(\n",
        "                epoch + 1, num_epoch, train_acc/len(train_set), train_loss/len(train_loader), val_acc/len(val_set), val_loss/len(val_loader)\n",
        "            ))\n",
        "\n",
        "            # if the model improves, save a checkpoint at this epoch\n",
        "            if val_acc > best_acc:\n",
        "                best_acc = val_acc\n",
        "                torch.save(model.state_dict(), model_path)\n",
        "                print('saving model with acc {:.3f}'.format(best_acc/len(val_set)))\n",
        "    else:\n",
        "        print('[{:03d}/{:03d}] Train Acc: {:3.6f} Loss: {:3.6f}'.format(\n",
        "            epoch + 1, num_epoch, train_acc/len(train_set), train_loss/len(train_loader)\n",
        "        ))\n",
        "\n",
        "# if not validating, save the last epoch\n",
        "if len(val_set) == 0:\n",
        "    torch.save(model.state_dict(), model_path)\n",
        "    print('saving model at last epoch')\n"
      ]
    },
    {
      "cell_type": "markdown",
      "metadata": {
        "id": "1Hi7jTn3PX-m"
      },
      "source": [
        "## Testing"
      ]
    },
    {
      "cell_type": "markdown",
      "metadata": {
        "id": "NfUECMFCn5VG"
      },
      "source": [
        "Create a testing dataset, and load model from the saved checkpoint."
      ]
    },
    {
      "cell_type": "code",
      "execution_count": 94,
      "metadata": {
        "colab": {
          "base_uri": "https://localhost:8080/",
          "height": 0
        },
        "id": "1PKjtAScPWtr",
        "outputId": "baa3c44a-4435-4bda-d138-c60862ea9337"
      },
      "outputs": [
        {
          "data": {
            "text/plain": [
              "<All keys matched successfully>"
            ]
          },
          "execution_count": 94,
          "metadata": {},
          "output_type": "execute_result"
        }
      ],
      "source": [
        "# create testing dataset\n",
        "test_set = TIMITDataset(test, None)\n",
        "test_loader = DataLoader(test_set, batch_size=BATCH_SIZE, shuffle=False)\n",
        "\n",
        "# create model and load weights from checkpoint\n",
        "model = Classifier().to(device)\n",
        "model.load_state_dict(torch.load(model_path))"
      ]
    },
    {
      "cell_type": "markdown",
      "metadata": {
        "id": "940TtCCdoYd0"
      },
      "source": [
        "Make prediction."
      ]
    },
    {
      "cell_type": "code",
      "execution_count": 95,
      "metadata": {
        "id": "84HU5GGjPqR0"
      },
      "outputs": [],
      "source": [
        "predict = []\n",
        "model.eval() # set the model to evaluation mode\n",
        "with torch.no_grad():\n",
        "    for i, data in enumerate(test_loader):\n",
        "        inputs = data\n",
        "        inputs = inputs.to(device)\n",
        "        outputs = model(inputs)\n",
        "        _, test_pred = torch.max(outputs, 1) # get the index of the class with the highest probability\n",
        "\n",
        "        for y in test_pred.cpu().numpy():\n",
        "            predict.append(y)"
      ]
    },
    {
      "cell_type": "markdown",
      "metadata": {
        "id": "AWDf_C-omElb"
      },
      "source": [
        "Write prediction to a CSV file.\n",
        "\n",
        "After finish running this block, download the file `prediction.csv` from the files section on the left-hand side and submit it to Kaggle."
      ]
    },
    {
      "cell_type": "code",
      "execution_count": 96,
      "metadata": {
        "id": "GuljYSPHcZir"
      },
      "outputs": [],
      "source": [
        "with open('prediction.csv', 'w') as f:\n",
        "    f.write('Id,Class\\n')\n",
        "    for i, y in enumerate(predict):\n",
        "        f.write('{},{}\\n'.format(i, y))"
      ]
    }
  ],
  "metadata": {
    "accelerator": "GPU",
    "colab": {
      "provenance": []
    },
    "kernelspec": {
      "display_name": "Python 3",
      "name": "python3"
    }
  },
  "nbformat": 4,
  "nbformat_minor": 0
}
