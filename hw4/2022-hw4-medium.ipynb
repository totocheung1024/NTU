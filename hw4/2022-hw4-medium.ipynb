{
 "cells": [
  {
   "cell_type": "markdown",
   "id": "25b2bcb1",
   "metadata": {
    "id": "C_jdZ5vHJ4A9",
    "papermill": {
     "duration": 0.040402,
     "end_time": "2022-03-27T02:38:57.579536",
     "exception": false,
     "start_time": "2022-03-27T02:38:57.539134",
     "status": "completed"
    },
    "tags": []
   },
   "source": [
    "# Task description\n",
    "- Classify the speakers of given features.\n",
    "- Main goal: Learn how to use transformer.\n",
    "- Baselines:\n",
    "  - Easy: Run sample code and know how to use transformer.\n",
    "  - Medium: Know how to adjust parameters of transformer.\n",
    "  - Strong: Construct [conformer](https://arxiv.org/abs/2005.08100) which is a variety of transformer. \n",
    "  - Boss: Implement [Self-Attention Pooling](https://arxiv.org/pdf/2008.01077v1.pdf) & [Additive Margin Softmax](https://arxiv.org/pdf/1801.05599.pdf) to further boost the performance.\n",
    "\n",
    "- Other links\n",
    "  - Kaggle: [link](https://www.kaggle.com/t/ac77388c90204a4c8daebeddd40ff916)\n",
    "  - Slide: [link](https://docs.google.com/presentation/d/1HLAj7UUIjZOycDe7DaVLSwJfXVd3bXPOyzSb6Zk3hYU/edit?usp=sharing)\n",
    "  - Data: [link](https://github.com/MachineLearningHW/ML_HW4_Dataset)\n",
    "\n",
    "# Download dataset\n",
    "- Data is [here](https://github.com/MachineLearningHW/ML_HW4_Dataset)"
   ]
  },
  {
   "cell_type": "markdown",
   "id": "4ebffa8d",
   "metadata": {
    "id": "LhLNWB-AK2Z5",
    "papermill": {
     "duration": 0.024689,
     "end_time": "2022-03-27T02:38:57.646673",
     "exception": false,
     "start_time": "2022-03-27T02:38:57.621984",
     "status": "completed"
    },
    "tags": []
   },
   "source": [
    "\"\"\"\n",
    "If the links below become inaccessible, please connect TAs.\n",
    "\"\"\"\n",
    "\n",
    "!wget https://github.com/MachineLearningHW/ML_HW4_Dataset/raw/0.0.1/Dataset.tar.gz.partaa\n",
    "!wget https://github.com/MachineLearningHW/ML_HW4_Dataset/raw/0.0.1/Dataset.tar.gz.partab\n",
    "!wget https://github.com/MachineLearningHW/ML_HW4_Dataset/raw/0.0.1/Dataset.tar.gz.partac\n",
    "!wget https://github.com/MachineLearningHW/ML_HW4_Dataset/raw/0.0.1/Dataset.tar.gz.partad\n",
    "\n",
    "!cat Dataset.tar.gz.parta* > Dataset.tar.gz\n",
    "\n",
    "!tar zxvf Dataset.tar.gz"
   ]
  },
  {
   "cell_type": "markdown",
   "id": "ce3ca5e1",
   "metadata": {
    "id": "ENWVAUDVJtVY",
    "papermill": {
     "duration": 0.029554,
     "end_time": "2022-03-27T02:38:57.700885",
     "exception": false,
     "start_time": "2022-03-27T02:38:57.671331",
     "status": "completed"
    },
    "tags": []
   },
   "source": [
    "## Fix Random Seed"
   ]
  },
  {
   "cell_type": "code",
   "execution_count": 1,
   "id": "c14ba23d",
   "metadata": {
    "execution": {
     "iopub.execute_input": "2022-03-27T02:38:57.765036Z",
     "iopub.status.busy": "2022-03-27T02:38:57.764235Z",
     "iopub.status.idle": "2022-03-27T02:38:59.300794Z",
     "shell.execute_reply": "2022-03-27T02:38:59.301593Z",
     "shell.execute_reply.started": "2022-03-26T03:11:51.942509Z"
    },
    "id": "E6burzCXIyuA",
    "papermill": {
     "duration": 1.574795,
     "end_time": "2022-03-27T02:38:59.301965",
     "exception": false,
     "start_time": "2022-03-27T02:38:57.727170",
     "status": "completed"
    },
    "tags": []
   },
   "outputs": [],
   "source": [
    "import numpy as np\n",
    "import torch\n",
    "import random\n",
    "\n",
    "def set_seed(seed):\n",
    "    np.random.seed(seed)\n",
    "    random.seed(seed)\n",
    "    torch.manual_seed(seed)\n",
    "    if torch.cuda.is_available():\n",
    "        torch.cuda.manual_seed(seed)\n",
    "        torch.cuda.manual_seed_all(seed)\n",
    "    torch.backends.cudnn.benchmark = False\n",
    "    torch.backends.cudnn.deterministic = True\n",
    "\n",
    "set_seed(87)"
   ]
  },
  {
   "cell_type": "markdown",
   "id": "579e695c",
   "metadata": {
    "id": "k7dVbxW2LASN",
    "papermill": {
     "duration": 0.028241,
     "end_time": "2022-03-27T02:38:59.358975",
     "exception": false,
     "start_time": "2022-03-27T02:38:59.330734",
     "status": "completed"
    },
    "tags": []
   },
   "source": [
    "# Data\n",
    "\n",
    "## Dataset\n",
    "- Original dataset is [Voxceleb2](https://www.robots.ox.ac.uk/~vgg/data/voxceleb/vox2.html).\n",
    "- The [license](https://creativecommons.org/licenses/by/4.0/) and [complete version](https://www.robots.ox.ac.uk/~vgg/data/voxceleb/files/license.txt) of Voxceleb2.\n",
    "- We randomly select 600 speakers from Voxceleb2.\n",
    "- Then preprocess the raw waveforms into mel-spectrograms.\n",
    "\n",
    "- Args:\n",
    "  - data_dir: The path to the data directory.\n",
    "  - metadata_path: The path to the metadata.\n",
    "  - segment_len: The length of audio segment for training. \n",
    "- The architecture of data directory \\\\\n",
    "  - data directory \\\\\n",
    "  |---- metadata.json \\\\\n",
    "  |---- testdata.json \\\\\n",
    "  |---- mapping.json \\\\\n",
    "  |---- uttr-{random string}.pt \\\\\n",
    "\n",
    "- The information in metadata\n",
    "  - \"n_mels\": The dimention of mel-spectrogram.\n",
    "  - \"speakers\": A dictionary. \n",
    "    - Key: speaker ids.\n",
    "    - value: \"feature_path\" and \"mel_len\"\n",
    "\n",
    "\n",
    "For efficiency, we segment the mel-spectrograms into segments in the traing step."
   ]
  },
  {
   "cell_type": "code",
   "execution_count": 2,
   "id": "75e0ab1b",
   "metadata": {
    "execution": {
     "iopub.execute_input": "2022-03-27T02:38:59.425144Z",
     "iopub.status.busy": "2022-03-27T02:38:59.420510Z",
     "iopub.status.idle": "2022-03-27T02:38:59.436125Z",
     "shell.execute_reply": "2022-03-27T02:38:59.436671Z",
     "shell.execute_reply.started": "2022-03-26T03:11:53.35184Z"
    },
    "id": "KpuGxl4CI2pr",
    "papermill": {
     "duration": 0.049596,
     "end_time": "2022-03-27T02:38:59.436802",
     "exception": false,
     "start_time": "2022-03-27T02:38:59.387206",
     "status": "completed"
    },
    "tags": []
   },
   "outputs": [],
   "source": [
    "import os\n",
    "import json\n",
    "import torch\n",
    "import random\n",
    "from pathlib import Path\n",
    "from torch.utils.data import Dataset\n",
    "from torch.nn.utils.rnn import pad_sequence\n",
    " \n",
    " \n",
    "class myDataset(Dataset):\n",
    "\tdef __init__(self, data_dir, segment_len=128):\n",
    "\t\tself.data_dir = data_dir\n",
    "\t\tself.segment_len = segment_len\n",
    "\t\n",
    "\t\t# Load the mapping from speaker neme to their corresponding id. \n",
    "\t\tmapping_path = Path(data_dir) / \"mapping.json\"\n",
    "\t\tmapping = json.load(mapping_path.open())\n",
    "\t\tself.speaker2id = mapping[\"speaker2id\"]\n",
    "\t\n",
    "\t\t# Load metadata of training data.\n",
    "\t\tmetadata_path = Path(data_dir) / \"metadata.json\"\n",
    "\t\tmetadata = json.load(open(metadata_path))[\"speakers\"]\n",
    "\t\n",
    "\t\t# Get the total number of speaker.\n",
    "\t\tself.speaker_num = len(metadata.keys())\n",
    "\t\tself.data = []\n",
    "\t\tfor speaker in metadata.keys():\n",
    "\t\t\tfor utterances in metadata[speaker]:\n",
    "\t\t\t\tself.data.append([utterances[\"feature_path\"], self.speaker2id[speaker]])\n",
    " \n",
    "\tdef __len__(self):\n",
    "\t\t\treturn len(self.data)\n",
    " \n",
    "\tdef __getitem__(self, index):\n",
    "\t\tfeat_path, speaker = self.data[index]\n",
    "\t\t# Load preprocessed mel-spectrogram.\n",
    "\t\tmel = torch.load(os.path.join(self.data_dir, feat_path))\n",
    "\n",
    "\t\t# Segmemt mel-spectrogram into \"segment_len\" frames.\n",
    "\t\tif len(mel) > self.segment_len:\n",
    "\t\t\t# Randomly get the starting point of the segment.\n",
    "\t\t\tstart = random.randint(0, len(mel) - self.segment_len)\n",
    "\t\t\t# Get a segment with \"segment_len\" frames.\n",
    "\t\t\tmel = torch.FloatTensor(mel[start:start+self.segment_len])\n",
    "\t\telse:\n",
    "\t\t\tmel = torch.FloatTensor(mel)\n",
    "\t\t# Turn the speaker id into long for computing loss later.\n",
    "\t\tspeaker = torch.FloatTensor([speaker]).long()\n",
    "\t\treturn mel, speaker\n",
    " \n",
    "\tdef get_speaker_number(self):\n",
    "\t\treturn self.speaker_num"
   ]
  },
  {
   "cell_type": "markdown",
   "id": "9ca9867d",
   "metadata": {
    "id": "668hverTMlGN",
    "papermill": {
     "duration": 0.026934,
     "end_time": "2022-03-27T02:38:59.491249",
     "exception": false,
     "start_time": "2022-03-27T02:38:59.464315",
     "status": "completed"
    },
    "tags": []
   },
   "source": [
    "## Dataloader\n",
    "- Split dataset into training dataset(90%) and validation dataset(10%).\n",
    "- Create dataloader to iterate the data."
   ]
  },
  {
   "cell_type": "code",
   "execution_count": 3,
   "id": "ee6ab73a",
   "metadata": {
    "execution": {
     "iopub.execute_input": "2022-03-27T02:38:59.556729Z",
     "iopub.status.busy": "2022-03-27T02:38:59.555942Z",
     "iopub.status.idle": "2022-03-27T02:38:59.559625Z",
     "shell.execute_reply": "2022-03-27T02:38:59.560619Z",
     "shell.execute_reply.started": "2022-03-26T03:11:53.365107Z"
    },
    "id": "B7c2gZYoJDRS",
    "papermill": {
     "duration": 0.042499,
     "end_time": "2022-03-27T02:38:59.560790",
     "exception": false,
     "start_time": "2022-03-27T02:38:59.518291",
     "status": "completed"
    },
    "tags": []
   },
   "outputs": [],
   "source": [
    "import torch\n",
    "from torch.utils.data import DataLoader, random_split\n",
    "from torch.nn.utils.rnn import pad_sequence\n",
    "\n",
    "\n",
    "def collate_batch(batch):\n",
    "\t# Process features within a batch.\n",
    "\t\"\"\"Collate a batch of data.\"\"\"\n",
    "\tmel, speaker = zip(*batch)\n",
    "\t# Because we train the model batch by batch, we need to pad the features in the same batch to make their lengths the same.\n",
    "\tmel = pad_sequence(mel, batch_first=True, padding_value=-20)    # pad log 10^(-20) which is very small value.\n",
    "\t# mel: (batch size, length, 40)\n",
    "\treturn mel, torch.FloatTensor(speaker).long()\n",
    "\n",
    "\n",
    "def get_dataloader(data_dir, batch_size, n_workers):\n",
    "\t\"\"\"Generate dataloader\"\"\"\n",
    "\tdataset = myDataset(data_dir)\n",
    "\tspeaker_num = dataset.get_speaker_number()\n",
    "\t# Split dataset into training dataset and validation dataset\n",
    "\ttrainlen = int(0.9 * len(dataset))\n",
    "\tlengths = [trainlen, len(dataset) - trainlen]\n",
    "\ttrainset, validset = random_split(dataset, lengths)\n",
    "\n",
    "\ttrain_loader = DataLoader(\n",
    "\t\ttrainset,\n",
    "\t\tbatch_size=batch_size,\n",
    "\t\tshuffle=True,\n",
    "\t\tdrop_last=True,\n",
    "\t\tnum_workers=n_workers,\n",
    "\t\tpin_memory=True,\n",
    "\t\tcollate_fn=collate_batch,\n",
    "\t)\n",
    "\tvalid_loader = DataLoader(\n",
    "\t\tvalidset,\n",
    "\t\tbatch_size=batch_size,\n",
    "\t\tnum_workers=n_workers,\n",
    "\t\tdrop_last=True,\n",
    "\t\tpin_memory=True,\n",
    "\t\tcollate_fn=collate_batch,\n",
    "\t)\n",
    "\n",
    "\treturn train_loader, valid_loader, speaker_num"
   ]
  },
  {
   "cell_type": "markdown",
   "id": "8a0a7c78",
   "metadata": {
    "id": "5FOSZYxrMqhc",
    "papermill": {
     "duration": 0.023876,
     "end_time": "2022-03-27T02:38:59.611057",
     "exception": false,
     "start_time": "2022-03-27T02:38:59.587181",
     "status": "completed"
    },
    "tags": []
   },
   "source": [
    "# Model\n",
    "- TransformerEncoderLayer:\n",
    "  - Base transformer encoder layer in [Attention Is All You Need](https://arxiv.org/abs/1706.03762)\n",
    "  - Parameters:\n",
    "    - d_model: the number of expected features of the input (required).\n",
    "\n",
    "    - nhead: the number of heads of the multiheadattention models (required).\n",
    "\n",
    "    - dim_feedforward: the dimension of the feedforward network model (default=2048).\n",
    "\n",
    "    - dropout: the dropout value (default=0.1).\n",
    "\n",
    "    - activation: the activation function of intermediate layer, relu or gelu (default=relu).\n",
    "\n",
    "- TransformerEncoder:\n",
    "  - TransformerEncoder is a stack of N transformer encoder layers\n",
    "  - Parameters:\n",
    "    - encoder_layer: an instance of the TransformerEncoderLayer() class (required).\n",
    "\n",
    "    - num_layers: the number of sub-encoder-layers in the encoder (required).\n",
    "\n",
    "    - norm: the layer normalization component (optional)."
   ]
  },
  {
   "cell_type": "code",
   "execution_count": 4,
   "id": "d39eb12a",
   "metadata": {
    "execution": {
     "iopub.execute_input": "2022-03-27T02:38:59.657958Z",
     "iopub.status.busy": "2022-03-27T02:38:59.657408Z",
     "iopub.status.idle": "2022-03-27T02:38:59.661412Z",
     "shell.execute_reply": "2022-03-27T02:38:59.661776Z",
     "shell.execute_reply.started": "2022-03-26T03:11:53.379904Z"
    },
    "id": "iXZ5B0EKJGs8",
    "papermill": {
     "duration": 0.026986,
     "end_time": "2022-03-27T02:38:59.661925",
     "exception": false,
     "start_time": "2022-03-27T02:38:59.634939",
     "status": "completed"
    },
    "tags": []
   },
   "outputs": [],
   "source": [
    "import torch\n",
    "import torch.nn as nn\n",
    "import torch.nn.functional as F\n",
    "\n",
    "\n",
    "class Classifier(nn.Module):\n",
    "\tdef __init__(self, d_model=224, n_spks=600, dropout=0.2):\n",
    "\t\tsuper().__init__()\n",
    "\t\t# Project the dimension of features from that of input into d_model.\n",
    "\t\tself.prenet = nn.Linear(40, d_model)\n",
    "\t\t# TODO:\n",
    "\t\t#   Change Transformer to Conformer.\n",
    "\t\t#   https://arxiv.org/abs/2005.08100\n",
    "\t\tself.encoder_layer = nn.TransformerEncoderLayer(d_model=d_model, dim_feedforward=d_model*2, nhead=2, dropout=dropout)\n",
    "\t\tself.encoder = nn.TransformerEncoder(self.encoder_layer, num_layers=3)\n",
    "\n",
    "\t\t# Project the the dimension of features from d_model into speaker nums.\n",
    "\t\tself.pred_layer = nn.Sequential(\n",
    "\t\t\tnn.BatchNorm1d(d_model),\n",
    "\t\t\t#nn.Linear(d_model, d_model),\n",
    "\t\t\t#nn.ReLU(),\n",
    "\t\t\tnn.Linear(d_model, n_spks),\n",
    "\t\t)\n",
    "\n",
    "\tdef forward(self, mels):\n",
    "\t\t\"\"\"\n",
    "\t\targs:\n",
    "\t\t\tmels: (batch size, length, 40)\n",
    "\t\treturn:\n",
    "\t\t\tout: (batch size, n_spks)\n",
    "\t\t\"\"\"\n",
    "\t\t# out: (batch size, length, d_model)\n",
    "\t\tout = self.prenet(mels)\n",
    "\t\t# out: (length, batch size, d_model)\n",
    "\t\tout = out.permute(1, 0, 2)\n",
    "\t\t# The encoder layer expect features in the shape of (length, batch size, d_model).\n",
    "\t\tout = self.encoder(out)\n",
    "\t\t# out: (batch size, length, d_model)\n",
    "\t\tout = out.transpose(0, 1) \n",
    "\t\t# mean pooling\n",
    "\t\tstats = out.mean(dim=1)\n",
    "\n",
    "\t\t# out: (batch, n_spks)\n",
    "\t\tout = self.pred_layer(stats)\n",
    "\t\treturn out"
   ]
  },
  {
   "cell_type": "markdown",
   "id": "99c27a71",
   "metadata": {
    "id": "W7yX8JinM5Ly",
    "papermill": {
     "duration": 0.015215,
     "end_time": "2022-03-27T02:38:59.692799",
     "exception": false,
     "start_time": "2022-03-27T02:38:59.677584",
     "status": "completed"
    },
    "tags": []
   },
   "source": [
    "# Learning rate schedule\n",
    "- For transformer architecture, the design of learning rate schedule is different from that of CNN.\n",
    "- Previous works show that the warmup of learning rate is useful for training models with transformer architectures.\n",
    "- The warmup schedule\n",
    "  - Set learning rate to 0 in the beginning.\n",
    "  - The learning rate increases linearly from 0 to initial learning rate during warmup period."
   ]
  },
  {
   "cell_type": "code",
   "execution_count": 5,
   "id": "0720bd62",
   "metadata": {
    "execution": {
     "iopub.execute_input": "2022-03-27T02:38:59.732150Z",
     "iopub.status.busy": "2022-03-27T02:38:59.731470Z",
     "iopub.status.idle": "2022-03-27T02:38:59.733603Z",
     "shell.execute_reply": "2022-03-27T02:38:59.734044Z",
     "shell.execute_reply.started": "2022-03-26T03:11:53.393773Z"
    },
    "id": "ykt0N1nVJJi2",
    "papermill": {
     "duration": 0.025613,
     "end_time": "2022-03-27T02:38:59.734169",
     "exception": false,
     "start_time": "2022-03-27T02:38:59.708556",
     "status": "completed"
    },
    "tags": []
   },
   "outputs": [],
   "source": [
    "import math\n",
    "\n",
    "import torch\n",
    "from torch.optim import Optimizer\n",
    "from torch.optim.lr_scheduler import LambdaLR\n",
    "\n",
    "\n",
    "def get_cosine_schedule_with_warmup(\n",
    "\toptimizer: Optimizer,\n",
    "\tnum_warmup_steps: int,\n",
    "\tnum_training_steps: int,\n",
    "\tnum_cycles: float = 0.5,\n",
    "\tlast_epoch: int = -1,\n",
    "):\n",
    "\t\"\"\"\n",
    "\tCreate a schedule with a learning rate that decreases following the values of the cosine function between the\n",
    "\tinitial lr set in the optimizer to 0, after a warmup period during which it increases linearly between 0 and the\n",
    "\tinitial lr set in the optimizer.\n",
    "\n",
    "\tArgs:\n",
    "\t\toptimizer (:class:`~torch.optim.Optimizer`):\n",
    "\t\tThe optimizer for which to schedule the learning rate.\n",
    "\t\tnum_warmup_steps (:obj:`int`):\n",
    "\t\tThe number of steps for the warmup phase.\n",
    "\t\tnum_training_steps (:obj:`int`):\n",
    "\t\tThe total number of training steps.\n",
    "\t\tnum_cycles (:obj:`float`, `optional`, defaults to 0.5):\n",
    "\t\tThe number of waves in the cosine schedule (the defaults is to just decrease from the max value to 0\n",
    "\t\tfollowing a half-cosine).\n",
    "\t\tlast_epoch (:obj:`int`, `optional`, defaults to -1):\n",
    "\t\tThe index of the last epoch when resuming training.\n",
    "\n",
    "\tReturn:\n",
    "\t\t:obj:`torch.optim.lr_scheduler.LambdaLR` with the appropriate schedule.\n",
    "\t\"\"\"\n",
    "\tdef lr_lambda(current_step):\n",
    "\t\t# Warmup\n",
    "\t\tif current_step < num_warmup_steps:\n",
    "\t\t\treturn float(current_step) / float(max(1, num_warmup_steps))\n",
    "\t\t# decadence\n",
    "\t\tprogress = float(current_step - num_warmup_steps) / float(\n",
    "\t\t\tmax(1, num_training_steps - num_warmup_steps)\n",
    "\t\t)\n",
    "\t\treturn max(\n",
    "\t\t\t0.0, 0.5 * (1.0 + math.cos(math.pi * float(num_cycles) * 2.0 * progress))\n",
    "\t\t)\n",
    "\n",
    "\treturn LambdaLR(optimizer, lr_lambda, last_epoch)"
   ]
  },
  {
   "cell_type": "markdown",
   "id": "e162de66",
   "metadata": {
    "id": "-LN2XkteM_uH",
    "papermill": {
     "duration": 0.015852,
     "end_time": "2022-03-27T02:38:59.767811",
     "exception": false,
     "start_time": "2022-03-27T02:38:59.751959",
     "status": "completed"
    },
    "tags": []
   },
   "source": [
    "# Model Function\n",
    "- Model forward function."
   ]
  },
  {
   "cell_type": "code",
   "execution_count": 6,
   "id": "24fb40a0",
   "metadata": {
    "execution": {
     "iopub.execute_input": "2022-03-27T02:38:59.804812Z",
     "iopub.status.busy": "2022-03-27T02:38:59.804155Z",
     "iopub.status.idle": "2022-03-27T02:38:59.806292Z",
     "shell.execute_reply": "2022-03-27T02:38:59.806662Z",
     "shell.execute_reply.started": "2022-03-26T03:11:53.406544Z"
    },
    "id": "N-rr8529JMz0",
    "papermill": {
     "duration": 0.023237,
     "end_time": "2022-03-27T02:38:59.806777",
     "exception": false,
     "start_time": "2022-03-27T02:38:59.783540",
     "status": "completed"
    },
    "tags": []
   },
   "outputs": [],
   "source": [
    "import torch\n",
    "\n",
    "\n",
    "def model_fn(batch, model, criterion, device):\n",
    "\t\"\"\"Forward a batch through the model.\"\"\"\n",
    "\n",
    "\tmels, labels = batch\n",
    "\tmels = mels.to(device)\n",
    "\tlabels = labels.to(device)\n",
    "\n",
    "\touts = model(mels)\n",
    "\n",
    "\tloss = criterion(outs, labels)\n",
    "\n",
    "\t# Get the speaker id with highest probability.\n",
    "\tpreds = outs.argmax(1)\n",
    "\t# Compute accuracy.\n",
    "\taccuracy = torch.mean((preds == labels).float())\n",
    "\n",
    "\treturn loss, accuracy"
   ]
  },
  {
   "cell_type": "markdown",
   "id": "6758dd3e",
   "metadata": {
    "id": "cwM_xyOtNCI2",
    "papermill": {
     "duration": 0.015172,
     "end_time": "2022-03-27T02:38:59.837250",
     "exception": false,
     "start_time": "2022-03-27T02:38:59.822078",
     "status": "completed"
    },
    "tags": []
   },
   "source": [
    "# Validate\n",
    "- Calculate accuracy of the validation set."
   ]
  },
  {
   "cell_type": "code",
   "execution_count": 7,
   "id": "cf694d6f",
   "metadata": {
    "execution": {
     "iopub.execute_input": "2022-03-27T02:38:59.875681Z",
     "iopub.status.busy": "2022-03-27T02:38:59.875110Z",
     "iopub.status.idle": "2022-03-27T02:38:59.878059Z",
     "shell.execute_reply": "2022-03-27T02:38:59.878456Z",
     "shell.execute_reply.started": "2022-03-26T03:11:53.418416Z"
    },
    "id": "YAiv6kpdJRTJ",
    "papermill": {
     "duration": 0.025697,
     "end_time": "2022-03-27T02:38:59.878575",
     "exception": false,
     "start_time": "2022-03-27T02:38:59.852878",
     "status": "completed"
    },
    "tags": []
   },
   "outputs": [],
   "source": [
    "from tqdm import tqdm\n",
    "import torch\n",
    "\n",
    "\n",
    "def valid(dataloader, model, criterion, device): \n",
    "\t\"\"\"Validate on validation set.\"\"\"\n",
    "\n",
    "\tmodel.eval()\n",
    "\trunning_loss = 0.0\n",
    "\trunning_accuracy = 0.0\n",
    "\tpbar = tqdm(total=len(dataloader.dataset), ncols=0, desc=\"Valid\", unit=\" uttr\")\n",
    "\n",
    "\tfor i, batch in enumerate(dataloader):\n",
    "\t\twith torch.no_grad():\n",
    "\t\t\tloss, accuracy = model_fn(batch, model, criterion, device)\n",
    "\t\t\trunning_loss += loss.item()\n",
    "\t\t\trunning_accuracy += accuracy.item()\n",
    "\n",
    "\t\tpbar.update(dataloader.batch_size)\n",
    "\t\tpbar.set_postfix(\n",
    "\t\t\tloss=f\"{running_loss / (i+1):.2f}\",\n",
    "\t\t\taccuracy=f\"{running_accuracy / (i+1):.2f}\",\n",
    "\t\t)\n",
    "\n",
    "\tpbar.close()\n",
    "\tmodel.train()\n",
    "\n",
    "\treturn running_accuracy / len(dataloader)"
   ]
  },
  {
   "cell_type": "markdown",
   "id": "034b4e31",
   "metadata": {
    "id": "g6ne9G-eNEdG",
    "papermill": {
     "duration": 0.015159,
     "end_time": "2022-03-27T02:38:59.909065",
     "exception": false,
     "start_time": "2022-03-27T02:38:59.893906",
     "status": "completed"
    },
    "tags": []
   },
   "source": [
    "# Main function"
   ]
  },
  {
   "cell_type": "code",
   "execution_count": 8,
   "id": "913da3c6",
   "metadata": {
    "execution": {
     "iopub.execute_input": "2022-03-27T02:38:59.956722Z",
     "iopub.status.busy": "2022-03-27T02:38:59.956185Z",
     "iopub.status.idle": "2022-03-27T03:25:46.653624Z",
     "shell.execute_reply": "2022-03-27T03:25:46.654496Z",
     "shell.execute_reply.started": "2022-03-26T03:14:25.555041Z"
    },
    "id": "Usv9s-CuJSG7",
    "papermill": {
     "duration": 2806.730324,
     "end_time": "2022-03-27T03:25:46.654705",
     "exception": false,
     "start_time": "2022-03-27T02:38:59.924381",
     "status": "completed"
    },
    "tags": []
   },
   "outputs": [
    {
     "name": "stdout",
     "output_type": "stream",
     "text": [
      "[Info]: Use cuda now!\n"
     ]
    },
    {
     "name": "stderr",
     "output_type": "stream",
     "text": [
      "/opt/conda/lib/python3.7/site-packages/torch/utils/data/dataloader.py:481: UserWarning: This DataLoader will create 8 worker processes in total. Our suggested max number of worker in current system is 2, which is smaller than what this DataLoader is going to create. Please be aware that excessive worker creation might get DataLoader running slow or even freeze, lower the worker number to avoid potential slowness/freeze if necessary.\n",
      "  cpuset_checked))\n"
     ]
    },
    {
     "name": "stdout",
     "output_type": "stream",
     "text": [
      "[Info]: Finish loading data!\n",
      "Layer: 0 parameter num: 8960\n",
      "Layer: 1 parameter num: 224\n",
      "Layer: 2 parameter num: 150528\n",
      "Layer: 3 parameter num: 672\n",
      "Layer: 4 parameter num: 50176\n",
      "Layer: 5 parameter num: 224\n",
      "Layer: 6 parameter num: 100352\n",
      "Layer: 7 parameter num: 448\n",
      "Layer: 8 parameter num: 100352\n",
      "Layer: 9 parameter num: 224\n",
      "Layer: 10 parameter num: 224\n",
      "Layer: 11 parameter num: 224\n",
      "Layer: 12 parameter num: 224\n",
      "Layer: 13 parameter num: 224\n",
      "Layer: 14 parameter num: 150528\n",
      "Layer: 15 parameter num: 672\n",
      "Layer: 16 parameter num: 50176\n",
      "Layer: 17 parameter num: 224\n",
      "Layer: 18 parameter num: 100352\n",
      "Layer: 19 parameter num: 448\n",
      "Layer: 20 parameter num: 100352\n",
      "Layer: 21 parameter num: 224\n",
      "Layer: 22 parameter num: 224\n",
      "Layer: 23 parameter num: 224\n",
      "Layer: 24 parameter num: 224\n",
      "Layer: 25 parameter num: 224\n",
      "Layer: 26 parameter num: 150528\n",
      "Layer: 27 parameter num: 672\n",
      "Layer: 28 parameter num: 50176\n",
      "Layer: 29 parameter num: 224\n",
      "Layer: 30 parameter num: 100352\n",
      "Layer: 31 parameter num: 448\n",
      "Layer: 32 parameter num: 100352\n",
      "Layer: 33 parameter num: 224\n",
      "Layer: 34 parameter num: 224\n",
      "Layer: 35 parameter num: 224\n",
      "Layer: 36 parameter num: 224\n",
      "Layer: 37 parameter num: 224\n",
      "Layer: 38 parameter num: 150528\n",
      "Layer: 39 parameter num: 672\n",
      "Layer: 40 parameter num: 50176\n",
      "Layer: 41 parameter num: 224\n",
      "Layer: 42 parameter num: 100352\n",
      "Layer: 43 parameter num: 448\n",
      "Layer: 44 parameter num: 100352\n",
      "Layer: 45 parameter num: 224\n",
      "Layer: 46 parameter num: 224\n",
      "Layer: 47 parameter num: 224\n",
      "Layer: 48 parameter num: 224\n",
      "Layer: 49 parameter num: 224\n",
      "Layer: 50 parameter num: 224\n",
      "Layer: 51 parameter num: 224\n",
      "Layer: 52 parameter num: 134400\n",
      "Layer: 53 parameter num: 600\n",
      "Total params: 1760120\n",
      "[Info]: Finish creating model!\n"
     ]
    },
    {
     "name": "stderr",
     "output_type": "stream",
     "text": [
      "Train: 100% 2000/2000 [01:02<00:00, 31.79 step/s, accuracy=0.19, loss=3.80, step=2000]\n",
      "Valid: 100% 5664/5667 [00:06<00:00, 929.02 uttr/s, accuracy=0.26, loss=3.54] \n",
      "Train: 100% 2000/2000 [00:49<00:00, 40.07 step/s, accuracy=0.34, loss=2.89, step=4000]\n",
      "Valid: 100% 5664/5667 [00:02<00:00, 1936.66 uttr/s, accuracy=0.39, loss=2.78]\n",
      "Train: 100% 2000/2000 [00:53<00:00, 37.50 step/s, accuracy=0.53, loss=2.30, step=6000]\n",
      "Valid: 100% 5664/5667 [00:02<00:00, 1916.46 uttr/s, accuracy=0.49, loss=2.30]\n",
      "Train: 100% 2000/2000 [00:52<00:00, 38.37 step/s, accuracy=0.72, loss=1.10, step=8000]\n",
      "Valid: 100% 5664/5667 [00:03<00:00, 1773.99 uttr/s, accuracy=0.54, loss=2.08]\n",
      "Train: 100% 2000/2000 [00:52<00:00, 37.94 step/s, accuracy=0.62, loss=1.29, step=1e+4]\n",
      "Valid: 100% 5664/5667 [00:03<00:00, 1721.05 uttr/s, accuracy=0.57, loss=1.95]\n",
      "Train:   0% 5/2000 [00:00<01:20, 24.63 step/s, accuracy=0.50, loss=1.87, step=1e+4]"
     ]
    },
    {
     "name": "stdout",
     "output_type": "stream",
     "text": [
      "Step 10000, best model saved. (accuracy=0.5655)\n"
     ]
    },
    {
     "name": "stderr",
     "output_type": "stream",
     "text": [
      "Train: 100% 2000/2000 [00:53<00:00, 37.72 step/s, accuracy=0.75, loss=0.96, step=12000]\n",
      "Valid: 100% 5664/5667 [00:04<00:00, 1384.28 uttr/s, accuracy=0.61, loss=1.71]\n",
      "Train: 100% 2000/2000 [00:50<00:00, 39.87 step/s, accuracy=0.66, loss=1.53, step=14000]\n",
      "Valid: 100% 5664/5667 [00:02<00:00, 1905.13 uttr/s, accuracy=0.60, loss=1.80]\n",
      "Train: 100% 2000/2000 [00:54<00:00, 36.64 step/s, accuracy=0.72, loss=1.41, step=16000]\n",
      "Valid: 100% 5664/5667 [00:03<00:00, 1768.94 uttr/s, accuracy=0.64, loss=1.59]\n",
      "Train: 100% 2000/2000 [00:48<00:00, 40.89 step/s, accuracy=0.69, loss=1.28, step=18000]\n",
      "Valid: 100% 5664/5667 [00:02<00:00, 1932.41 uttr/s, accuracy=0.64, loss=1.58]\n",
      "Train: 100% 2000/2000 [00:55<00:00, 35.91 step/s, accuracy=0.62, loss=1.91, step=2e+4]\n",
      "Valid: 100% 5664/5667 [00:03<00:00, 1802.40 uttr/s, accuracy=0.69, loss=1.42]\n",
      "Train:   0% 7/2000 [00:00<01:01, 32.15 step/s, accuracy=0.72, loss=1.11, step=2e+4]"
     ]
    },
    {
     "name": "stdout",
     "output_type": "stream",
     "text": [
      "Step 20000, best model saved. (accuracy=0.6856)\n"
     ]
    },
    {
     "name": "stderr",
     "output_type": "stream",
     "text": [
      "Train: 100% 2000/2000 [00:48<00:00, 40.90 step/s, accuracy=0.75, loss=0.92, step=22000]\n",
      "Valid: 100% 5664/5667 [00:03<00:00, 1640.46 uttr/s, accuracy=0.68, loss=1.42]\n",
      "Train: 100% 2000/2000 [00:49<00:00, 40.26 step/s, accuracy=0.69, loss=0.94, step=24000]\n",
      "Valid: 100% 5664/5667 [00:02<00:00, 1933.56 uttr/s, accuracy=0.71, loss=1.31]\n",
      "Train: 100% 2000/2000 [00:57<00:00, 34.98 step/s, accuracy=0.75, loss=0.64, step=26000]\n",
      "Valid: 100% 5664/5667 [00:03<00:00, 1750.15 uttr/s, accuracy=0.71, loss=1.32]\n",
      "Train: 100% 2000/2000 [00:48<00:00, 41.16 step/s, accuracy=0.78, loss=0.84, step=28000]\n",
      "Valid: 100% 5664/5667 [00:03<00:00, 1569.13 uttr/s, accuracy=0.72, loss=1.27]\n",
      "Train: 100% 2000/2000 [00:56<00:00, 35.58 step/s, accuracy=0.75, loss=1.02, step=3e+4]\n",
      "Valid: 100% 5664/5667 [00:05<00:00, 1130.24 uttr/s, accuracy=0.74, loss=1.24]\n",
      "Train:   0% 5/2000 [00:00<01:23, 23.95 step/s, accuracy=0.84, loss=0.57, step=3e+4]"
     ]
    },
    {
     "name": "stdout",
     "output_type": "stream",
     "text": [
      "Step 30000, best model saved. (accuracy=0.7355)\n"
     ]
    },
    {
     "name": "stderr",
     "output_type": "stream",
     "text": [
      "Train: 100% 2000/2000 [00:50<00:00, 39.87 step/s, accuracy=0.75, loss=0.67, step=32000]\n",
      "Valid: 100% 5664/5667 [00:03<00:00, 1738.77 uttr/s, accuracy=0.74, loss=1.20]\n",
      "Train: 100% 2000/2000 [00:49<00:00, 40.41 step/s, accuracy=0.78, loss=0.58, step=34000]\n",
      "Valid: 100% 5664/5667 [00:03<00:00, 1797.07 uttr/s, accuracy=0.75, loss=1.15]\n",
      "Train: 100% 2000/2000 [01:00<00:00, 33.01 step/s, accuracy=0.78, loss=0.75, step=36000]\n",
      "Valid: 100% 5664/5667 [00:03<00:00, 1604.41 uttr/s, accuracy=0.75, loss=1.12]\n",
      "Train: 100% 2000/2000 [00:48<00:00, 41.13 step/s, accuracy=0.84, loss=0.71, step=38000]\n",
      "Valid: 100% 5664/5667 [00:02<00:00, 1927.32 uttr/s, accuracy=0.76, loss=1.14]\n",
      "Train: 100% 2000/2000 [00:49<00:00, 40.53 step/s, accuracy=0.84, loss=0.72, step=4e+4]\n",
      "Valid: 100% 5664/5667 [00:05<00:00, 1020.02 uttr/s, accuracy=0.77, loss=1.09]\n",
      "Train:   0% 7/2000 [00:00<01:03, 31.52 step/s, accuracy=0.81, loss=0.56, step=4e+4]"
     ]
    },
    {
     "name": "stdout",
     "output_type": "stream",
     "text": [
      "Step 40000, best model saved. (accuracy=0.7700)\n"
     ]
    },
    {
     "name": "stderr",
     "output_type": "stream",
     "text": [
      "Train: 100% 2000/2000 [01:01<00:00, 32.32 step/s, accuracy=0.81, loss=0.58, step=42000]\n",
      "Valid: 100% 5664/5667 [00:02<00:00, 1893.57 uttr/s, accuracy=0.76, loss=1.08]\n",
      "Train: 100% 2000/2000 [00:49<00:00, 40.31 step/s, accuracy=0.81, loss=0.86, step=44000]\n",
      "Valid: 100% 5664/5667 [00:03<00:00, 1727.36 uttr/s, accuracy=0.78, loss=1.01]\n",
      "Train: 100% 2000/2000 [00:48<00:00, 41.02 step/s, accuracy=0.84, loss=0.44, step=46000]\n",
      "Valid: 100% 5664/5667 [00:02<00:00, 1926.35 uttr/s, accuracy=0.79, loss=0.99]\n",
      "Train: 100% 2000/2000 [00:49<00:00, 40.46 step/s, accuracy=0.78, loss=0.67, step=48000]\n",
      "Valid: 100% 5664/5667 [00:03<00:00, 1618.41 uttr/s, accuracy=0.80, loss=0.96]\n",
      "Train: 100% 2000/2000 [00:48<00:00, 41.03 step/s, accuracy=0.88, loss=0.34, step=5e+4]\n",
      "Valid: 100% 5664/5667 [00:04<00:00, 1236.07 uttr/s, accuracy=0.80, loss=0.96]\n",
      "Train:   0% 6/2000 [00:00<01:11, 27.92 step/s, accuracy=0.84, loss=0.69, step=5e+4]"
     ]
    },
    {
     "name": "stdout",
     "output_type": "stream",
     "text": [
      "Step 50000, best model saved. (accuracy=0.7994)\n"
     ]
    },
    {
     "name": "stderr",
     "output_type": "stream",
     "text": [
      "Train: 100% 2000/2000 [01:06<00:00, 30.15 step/s, accuracy=0.72, loss=0.59, step=52000]\n",
      "Valid: 100% 5664/5667 [00:02<00:00, 1916.84 uttr/s, accuracy=0.80, loss=0.95]\n",
      "Train: 100% 2000/2000 [00:49<00:00, 40.43 step/s, accuracy=1.00, loss=0.11, step=54000]\n",
      "Valid: 100% 5664/5667 [00:02<00:00, 1920.76 uttr/s, accuracy=0.81, loss=0.91]\n",
      "Train: 100% 2000/2000 [00:49<00:00, 40.52 step/s, accuracy=0.94, loss=0.39, step=56000]\n",
      "Valid: 100% 5664/5667 [00:03<00:00, 1781.70 uttr/s, accuracy=0.82, loss=0.87]\n",
      "Train: 100% 2000/2000 [00:48<00:00, 40.90 step/s, accuracy=0.94, loss=0.22, step=58000]\n",
      "Valid: 100% 5664/5667 [00:03<00:00, 1748.41 uttr/s, accuracy=0.82, loss=0.86]\n",
      "Train: 100% 2000/2000 [00:49<00:00, 40.50 step/s, accuracy=0.84, loss=0.46, step=6e+4]\n",
      "Valid: 100% 5664/5667 [00:03<00:00, 1726.11 uttr/s, accuracy=0.82, loss=0.85]\n",
      "Train:   0% 7/2000 [00:00<01:32, 21.51 step/s, accuracy=0.91, loss=0.29, step=6e+4]"
     ]
    },
    {
     "name": "stdout",
     "output_type": "stream",
     "text": [
      "Step 60000, best model saved. (accuracy=0.8243)\n"
     ]
    },
    {
     "name": "stderr",
     "output_type": "stream",
     "text": [
      "Train: 100% 2000/2000 [01:10<00:00, 28.50 step/s, accuracy=0.88, loss=0.43, step=62000]\n",
      "Valid: 100% 5664/5667 [00:03<00:00, 1828.51 uttr/s, accuracy=0.83, loss=0.81]\n",
      "Train: 100% 2000/2000 [00:49<00:00, 40.26 step/s, accuracy=0.97, loss=0.40, step=64000]\n",
      "Valid: 100% 5664/5667 [00:03<00:00, 1789.94 uttr/s, accuracy=0.82, loss=0.86]\n",
      "Train: 100% 2000/2000 [00:49<00:00, 40.41 step/s, accuracy=0.97, loss=0.24, step=66000]\n",
      "Valid: 100% 5664/5667 [00:03<00:00, 1774.89 uttr/s, accuracy=0.83, loss=0.83]\n",
      "Train: 100% 2000/2000 [00:48<00:00, 41.08 step/s, accuracy=0.94, loss=0.20, step=68000]\n",
      "Valid: 100% 5664/5667 [00:03<00:00, 1752.58 uttr/s, accuracy=0.85, loss=0.76]\n",
      "Train: 100% 2000/2000 [00:48<00:00, 41.03 step/s, accuracy=0.84, loss=0.38, step=7e+4]\n",
      "Valid: 100% 5664/5667 [00:02<00:00, 1937.84 uttr/s, accuracy=0.85, loss=0.74]\n",
      "Train:   0% 9/2000 [00:00<00:48, 40.84 step/s, accuracy=0.91, loss=0.52, step=7e+4]"
     ]
    },
    {
     "name": "stdout",
     "output_type": "stream",
     "text": [
      "Step 70000, best model saved. (accuracy=0.8520)\n"
     ]
    },
    {
     "name": "stderr",
     "output_type": "stream",
     "text": [
      "Train: 100% 2000/2000 [01:07<00:00, 29.71 step/s, accuracy=0.97, loss=0.22, step=72000]\n",
      "Valid: 100% 5664/5667 [00:04<00:00, 1220.49 uttr/s, accuracy=0.85, loss=0.75]\n",
      "Train: 100% 2000/2000 [00:54<00:00, 36.82 step/s, accuracy=0.94, loss=0.19, step=74000]\n",
      "Valid: 100% 5664/5667 [00:02<00:00, 1920.68 uttr/s, accuracy=0.85, loss=0.74]\n",
      "Train: 100% 2000/2000 [00:49<00:00, 40.82 step/s, accuracy=0.91, loss=0.23, step=76000]\n",
      "Valid: 100% 5664/5667 [00:03<00:00, 1736.32 uttr/s, accuracy=0.86, loss=0.71]\n",
      "Train: 100% 2000/2000 [00:48<00:00, 40.94 step/s, accuracy=1.00, loss=0.13, step=78000]\n",
      "Valid: 100% 5664/5667 [00:03<00:00, 1856.41 uttr/s, accuracy=0.86, loss=0.70]\n",
      "Train: 100% 2000/2000 [00:49<00:00, 40.46 step/s, accuracy=0.91, loss=0.15, step=8e+4]\n",
      "Valid: 100% 5664/5667 [00:02<00:00, 1900.88 uttr/s, accuracy=0.86, loss=0.69]\n",
      "Train:   0% 8/2000 [00:00<00:51, 38.63 step/s, accuracy=0.94, loss=0.25, step=8e+4]"
     ]
    },
    {
     "name": "stdout",
     "output_type": "stream",
     "text": [
      "Step 80000, best model saved. (accuracy=0.8639)\n"
     ]
    },
    {
     "name": "stderr",
     "output_type": "stream",
     "text": [
      "Train: 100% 2000/2000 [00:48<00:00, 40.84 step/s, accuracy=0.94, loss=0.20, step=82000]\n",
      "Valid: 100% 5664/5667 [00:02<00:00, 1904.42 uttr/s, accuracy=0.86, loss=0.70]\n",
      "Train: 100% 2000/2000 [00:49<00:00, 40.08 step/s, accuracy=1.00, loss=0.03, step=84000]\n",
      "Valid: 100% 5664/5667 [00:03<00:00, 1712.75 uttr/s, accuracy=0.87, loss=0.66]\n",
      "Train: 100% 2000/2000 [00:48<00:00, 40.85 step/s, accuracy=0.94, loss=0.35, step=86000]\n",
      "Valid: 100% 5664/5667 [00:03<00:00, 1668.73 uttr/s, accuracy=0.87, loss=0.70]\n",
      "Train: 100% 2000/2000 [00:49<00:00, 40.10 step/s, accuracy=0.97, loss=0.11, step=88000]\n",
      "Valid: 100% 5664/5667 [00:03<00:00, 1876.90 uttr/s, accuracy=0.87, loss=0.71]\n",
      "Train: 100% 2000/2000 [00:49<00:00, 40.17 step/s, accuracy=0.97, loss=0.09, step=9e+4]\n",
      "Valid: 100% 5664/5667 [00:02<00:00, 1916.95 uttr/s, accuracy=0.87, loss=0.70]\n",
      "Train:   0% 8/2000 [00:00<00:58, 33.89 step/s, accuracy=1.00, loss=0.04, step=9e+4]"
     ]
    },
    {
     "name": "stdout",
     "output_type": "stream",
     "text": [
      "Step 90000, best model saved. (accuracy=0.8713)\n"
     ]
    },
    {
     "name": "stderr",
     "output_type": "stream",
     "text": [
      "Train: 100% 2000/2000 [01:08<00:00, 29.30 step/s, accuracy=0.94, loss=0.15, step=92000]\n",
      "Valid: 100% 5664/5667 [00:05<00:00, 1037.77 uttr/s, accuracy=0.87, loss=0.67]\n",
      "Train: 100% 2000/2000 [00:59<00:00, 33.73 step/s, accuracy=0.94, loss=0.18, step=94000]\n",
      "Valid: 100% 5664/5667 [00:02<00:00, 1891.88 uttr/s, accuracy=0.87, loss=0.66]\n",
      "Train: 100% 2000/2000 [00:49<00:00, 40.71 step/s, accuracy=0.94, loss=0.18, step=96000]\n",
      "Valid: 100% 5664/5667 [00:03<00:00, 1652.85 uttr/s, accuracy=0.87, loss=0.68]\n",
      "Train: 100% 2000/2000 [00:49<00:00, 40.54 step/s, accuracy=1.00, loss=0.03, step=98000]\n",
      "Valid: 100% 5664/5667 [00:02<00:00, 1934.32 uttr/s, accuracy=0.87, loss=0.66]\n",
      "Train: 100% 2000/2000 [00:48<00:00, 41.01 step/s, accuracy=1.00, loss=0.02, step=1e+5]\n",
      "Valid: 100% 5664/5667 [00:03<00:00, 1768.54 uttr/s, accuracy=0.88, loss=0.66]\n",
      "Train:   0% 0/2000 [00:00<?, ? step/s]\n"
     ]
    },
    {
     "name": "stdout",
     "output_type": "stream",
     "text": [
      "Step 100000, best model saved. (accuracy=0.8755)\n"
     ]
    }
   ],
   "source": [
    "from tqdm import tqdm\n",
    "\n",
    "import torch\n",
    "import torch.nn as nn\n",
    "from torch.optim import AdamW\n",
    "from torch.utils.data import DataLoader, random_split\n",
    "\n",
    "\n",
    "def parse_args():\n",
    "\t\"\"\"arguments\"\"\"\n",
    "\tconfig = {\n",
    "\t\t\"data_dir\": \"../input/ml2022spring-hw4/Dataset\",\n",
    "\t\t\"save_path\": \"model.ckpt\",\n",
    "\t\t\"batch_size\": 32,\n",
    "\t\t\"n_workers\": 8,\n",
    "\t\t\"valid_steps\": 2000,\n",
    "\t\t\"warmup_steps\": 1000,\n",
    "\t\t\"save_steps\": 10000,\n",
    "\t\t\"total_steps\": 100000,\n",
    "\t}\n",
    "\n",
    "\treturn config\n",
    "\n",
    "\n",
    "def main(\n",
    "\tdata_dir,\n",
    "\tsave_path,\n",
    "\tbatch_size,\n",
    "\tn_workers,\n",
    "\tvalid_steps,\n",
    "\twarmup_steps,\n",
    "\ttotal_steps,\n",
    "\tsave_steps,\n",
    "):\n",
    "\t\"\"\"Main function.\"\"\"\n",
    "\tdevice = torch.device(\"cuda\" if torch.cuda.is_available() else \"cpu\")\n",
    "\tprint(f\"[Info]: Use {device} now!\")\n",
    "\n",
    "\ttrain_loader, valid_loader, speaker_num = get_dataloader(data_dir, batch_size, n_workers)\n",
    "\ttrain_iterator = iter(train_loader)\n",
    "\tprint(f\"[Info]: Finish loading data!\",flush = True)\n",
    "\n",
    "\tmodel = Classifier(n_spks=speaker_num).to(device)\n",
    "\ttotal_params = 0\n",
    "\tfor i, param in enumerate(model.parameters()):\n",
    "\t\tprint('Layer:', i, 'parameter num:', param.numel())\n",
    "\t\ttotal_params += param.numel()\n",
    "\tprint(f'Total params: {total_params}')\n",
    "\tcriterion = nn.CrossEntropyLoss()\n",
    "\toptimizer = AdamW(model.parameters(), lr=1e-3)\n",
    "\tscheduler = get_cosine_schedule_with_warmup(optimizer, warmup_steps, total_steps)\n",
    "\tprint(f\"[Info]: Finish creating model!\",flush = True)\n",
    "\n",
    "\tbest_accuracy = -1.0\n",
    "\tbest_state_dict = None\n",
    "\n",
    "\tpbar = tqdm(total=valid_steps, ncols=0, desc=\"Train\", unit=\" step\")\n",
    "\n",
    "\tfor step in range(total_steps):\n",
    "\t\t# Get data\n",
    "\t\ttry:\n",
    "\t\t\tbatch = next(train_iterator)\n",
    "\t\texcept StopIteration:\n",
    "\t\t\ttrain_iterator = iter(train_loader)\n",
    "\t\t\tbatch = next(train_iterator)\n",
    "\n",
    "\t\tloss, accuracy = model_fn(batch, model, criterion, device)\n",
    "\t\tbatch_loss = loss.item()\n",
    "\t\tbatch_accuracy = accuracy.item()\n",
    "\n",
    "\t\t# Updata model\n",
    "\t\tloss.backward()\n",
    "\t\toptimizer.step()\n",
    "\t\tscheduler.step()\n",
    "\t\toptimizer.zero_grad()\n",
    "\n",
    "\t\t# Log\n",
    "\t\tpbar.update()\n",
    "\t\tpbar.set_postfix(\n",
    "\t\t\tloss=f\"{batch_loss:.2f}\",\n",
    "\t\t\taccuracy=f\"{batch_accuracy:.2f}\",\n",
    "\t\t\tstep=step + 1,\n",
    "\t\t)\n",
    "\n",
    "\t\t# Do validation\n",
    "\t\tif (step + 1) % valid_steps == 0:\n",
    "\t\t\tpbar.close()\n",
    "\n",
    "\t\t\tvalid_accuracy = valid(valid_loader, model, criterion, device)\n",
    "\n",
    "\t\t\t# keep the best model\n",
    "\t\t\tif valid_accuracy > best_accuracy:\n",
    "\t\t\t\tbest_accuracy = valid_accuracy\n",
    "\t\t\t\tbest_state_dict = model.state_dict()\n",
    "\n",
    "\t\t\tpbar = tqdm(total=valid_steps, ncols=0, desc=\"Train\", unit=\" step\")\n",
    "\n",
    "\t\t# Save the best model so far.\n",
    "\t\tif (step + 1) % save_steps == 0 and best_state_dict is not None:\n",
    "\t\t\ttorch.save(best_state_dict, save_path)\n",
    "\t\t\tpbar.write(f\"Step {step + 1}, best model saved. (accuracy={best_accuracy:.4f})\")\n",
    "\n",
    "\tpbar.close()\n",
    "\n",
    "\n",
    "if __name__ == \"__main__\":\n",
    "\tmain(**parse_args())"
   ]
  },
  {
   "cell_type": "markdown",
   "id": "82c9b236",
   "metadata": {
    "id": "NLatBYAhNNMx",
    "papermill": {
     "duration": 42.580356,
     "end_time": "2022-03-27T03:27:11.889094",
     "exception": false,
     "start_time": "2022-03-27T03:26:29.308738",
     "status": "completed"
    },
    "tags": []
   },
   "source": [
    "# Inference\n",
    "\n",
    "## Dataset of inference"
   ]
  },
  {
   "cell_type": "code",
   "execution_count": 9,
   "id": "9a7d34d5",
   "metadata": {
    "execution": {
     "iopub.execute_input": "2022-03-27T03:28:38.878110Z",
     "iopub.status.busy": "2022-03-27T03:28:38.877234Z",
     "iopub.status.idle": "2022-03-27T03:28:38.879692Z",
     "shell.execute_reply": "2022-03-27T03:28:38.879270Z",
     "shell.execute_reply.started": "2022-03-26T03:11:53.443077Z"
    },
    "id": "efS4pCmAJXJH",
    "papermill": {
     "duration": 43.543162,
     "end_time": "2022-03-27T03:28:38.879802",
     "exception": false,
     "start_time": "2022-03-27T03:27:55.336640",
     "status": "completed"
    },
    "tags": []
   },
   "outputs": [],
   "source": [
    "import os\n",
    "import json\n",
    "import torch\n",
    "from pathlib import Path\n",
    "from torch.utils.data import Dataset\n",
    "\n",
    "\n",
    "class InferenceDataset(Dataset):\n",
    "\tdef __init__(self, data_dir):\n",
    "\t\ttestdata_path = Path(data_dir) / \"testdata.json\"\n",
    "\t\tmetadata = json.load(testdata_path.open())\n",
    "\t\tself.data_dir = data_dir\n",
    "\t\tself.data = metadata[\"utterances\"]\n",
    "\n",
    "\tdef __len__(self):\n",
    "\t\treturn len(self.data)\n",
    "\n",
    "\tdef __getitem__(self, index):\n",
    "\t\tutterance = self.data[index]\n",
    "\t\tfeat_path = utterance[\"feature_path\"]\n",
    "\t\tmel = torch.load(os.path.join(self.data_dir, feat_path))\n",
    "\n",
    "\t\treturn feat_path, mel\n",
    "\n",
    "\n",
    "def inference_collate_batch(batch):\n",
    "\t\"\"\"Collate a batch of data.\"\"\"\n",
    "\tfeat_paths, mels = zip(*batch)\n",
    "\n",
    "\treturn feat_paths, torch.stack(mels)"
   ]
  },
  {
   "cell_type": "markdown",
   "id": "bf9e6c1d",
   "metadata": {
    "id": "tl0WnYwxNK_S",
    "papermill": {
     "duration": 43.573066,
     "end_time": "2022-03-27T03:30:06.436767",
     "exception": false,
     "start_time": "2022-03-27T03:29:22.863701",
     "status": "completed"
    },
    "tags": []
   },
   "source": [
    "## Main funcrion of Inference"
   ]
  },
  {
   "cell_type": "code",
   "execution_count": 10,
   "id": "fb79558c",
   "metadata": {
    "execution": {
     "iopub.execute_input": "2022-03-27T03:31:31.796572Z",
     "iopub.status.busy": "2022-03-27T03:31:31.795949Z",
     "iopub.status.idle": "2022-03-27T03:32:03.832648Z",
     "shell.execute_reply": "2022-03-27T03:32:03.832207Z",
     "shell.execute_reply.started": "2022-03-26T03:11:53.445451Z"
    },
    "id": "i8SAbuXEJb2A",
    "papermill": {
     "duration": 74.976985,
     "end_time": "2022-03-27T03:32:03.832775",
     "exception": false,
     "start_time": "2022-03-27T03:30:48.855790",
     "status": "completed"
    },
    "tags": []
   },
   "outputs": [
    {
     "name": "stdout",
     "output_type": "stream",
     "text": [
      "[Info]: Use cuda now!\n",
      "[Info]: Finish loading data!\n",
      "[Info]: Finish creating model!\n"
     ]
    },
    {
     "data": {
      "application/vnd.jupyter.widget-view+json": {
       "model_id": "7fe4675da75449ca94303aa59396ebca",
       "version_major": 2,
       "version_minor": 0
      },
      "text/plain": [
       "  0%|          | 0/8000 [00:00<?, ?it/s]"
      ]
     },
     "metadata": {},
     "output_type": "display_data"
    }
   ],
   "source": [
    "import json\n",
    "import csv\n",
    "from pathlib import Path\n",
    "from tqdm.notebook import tqdm\n",
    "\n",
    "import torch\n",
    "from torch.utils.data import DataLoader\n",
    "\n",
    "def parse_args():\n",
    "\t\"\"\"arguments\"\"\"  \n",
    "\tconfig = {\n",
    "\t\t\"data_dir\": \"../input/ml2022spring-hw4/Dataset\",\n",
    "\t\t\"model_path\": \"model.ckpt\",\n",
    "\t\t\"output_path\": \"output.csv\",\n",
    "\t}\n",
    "\n",
    "\treturn config\n",
    "\n",
    "\n",
    "def main(\n",
    "\tdata_dir,\n",
    "\tmodel_path,\n",
    "\toutput_path,\n",
    "):\n",
    "\t\"\"\"Main function.\"\"\"\n",
    "\tdevice = torch.device(\"cuda\" if torch.cuda.is_available() else \"cpu\")\n",
    "\tprint(f\"[Info]: Use {device} now!\")\n",
    "\n",
    "\tmapping_path = Path(data_dir) / \"mapping.json\"\n",
    "\tmapping = json.load(mapping_path.open())\n",
    "\n",
    "\tdataset = InferenceDataset(data_dir)\n",
    "\tdataloader = DataLoader(\n",
    "\t\tdataset,\n",
    "\t\tbatch_size=1,\n",
    "\t\tshuffle=False,\n",
    "\t\tdrop_last=False,\n",
    "\t\tnum_workers=8,\n",
    "\t\tcollate_fn=inference_collate_batch,\n",
    "\t)\n",
    "\tprint(f\"[Info]: Finish loading data!\",flush = True)\n",
    "\n",
    "\tspeaker_num = len(mapping[\"id2speaker\"])\n",
    "\tmodel = Classifier(n_spks=speaker_num).to(device)\n",
    "\tmodel.load_state_dict(torch.load(model_path))\n",
    "\tmodel.eval()\n",
    "\tprint(f\"[Info]: Finish creating model!\",flush = True)\n",
    "\n",
    "\tresults = [[\"Id\", \"Category\"]]\n",
    "\tfor feat_paths, mels in tqdm(dataloader):\n",
    "\t\twith torch.no_grad():\n",
    "\t\t\tmels = mels.to(device)\n",
    "\t\t\touts = model(mels)\n",
    "\t\t\tpreds = outs.argmax(1).cpu().numpy()\n",
    "\t\t\tfor feat_path, pred in zip(feat_paths, preds):\n",
    "\t\t\t\tresults.append([feat_path, mapping[\"id2speaker\"][str(pred)]])\n",
    "\n",
    "\twith open(output_path, 'w', newline='') as csvfile:\n",
    "\t\twriter = csv.writer(csvfile)\n",
    "\t\twriter.writerows(results)\n",
    "\n",
    "\n",
    "if __name__ == \"__main__\":\n",
    "\tmain(**parse_args())"
   ]
  }
 ],
 "metadata": {
  "kernelspec": {
   "display_name": "Python 3",
   "language": "python",
   "name": "python3"
  },
  "language_info": {
   "codemirror_mode": {
    "name": "ipython",
    "version": 3
   },
   "file_extension": ".py",
   "mimetype": "text/x-python",
   "name": "python",
   "nbconvert_exporter": "python",
   "pygments_lexer": "ipython3",
   "version": "3.7.12"
  },
  "papermill": {
   "default_parameters": {},
   "duration": 3238.22373,
   "end_time": "2022-03-27T03:32:47.600248",
   "environment_variables": {},
   "exception": null,
   "input_path": "__notebook__.ipynb",
   "output_path": "__notebook__.ipynb",
   "parameters": {},
   "start_time": "2022-03-27T02:38:49.376518",
   "version": "2.3.3"
  },
  "widgets": {
   "application/vnd.jupyter.widget-state+json": {
    "state": {
     "20ec18f7475e49ae8312db90be538857": {
      "model_module": "@jupyter-widgets/base",
      "model_module_version": "1.2.0",
      "model_name": "LayoutModel",
      "state": {
       "_model_module": "@jupyter-widgets/base",
       "_model_module_version": "1.2.0",
       "_model_name": "LayoutModel",
       "_view_count": null,
       "_view_module": "@jupyter-widgets/base",
       "_view_module_version": "1.2.0",
       "_view_name": "LayoutView",
       "align_content": null,
       "align_items": null,
       "align_self": null,
       "border": null,
       "bottom": null,
       "display": null,
       "flex": null,
       "flex_flow": null,
       "grid_area": null,
       "grid_auto_columns": null,
       "grid_auto_flow": null,
       "grid_auto_rows": null,
       "grid_column": null,
       "grid_gap": null,
       "grid_row": null,
       "grid_template_areas": null,
       "grid_template_columns": null,
       "grid_template_rows": null,
       "height": null,
       "justify_content": null,
       "justify_items": null,
       "left": null,
       "margin": null,
       "max_height": null,
       "max_width": null,
       "min_height": null,
       "min_width": null,
       "object_fit": null,
       "object_position": null,
       "order": null,
       "overflow": null,
       "overflow_x": null,
       "overflow_y": null,
       "padding": null,
       "right": null,
       "top": null,
       "visibility": null,
       "width": null
      }
     },
     "22f528dc92214bccb4a471ce77c2cf44": {
      "model_module": "@jupyter-widgets/base",
      "model_module_version": "1.2.0",
      "model_name": "LayoutModel",
      "state": {
       "_model_module": "@jupyter-widgets/base",
       "_model_module_version": "1.2.0",
       "_model_name": "LayoutModel",
       "_view_count": null,
       "_view_module": "@jupyter-widgets/base",
       "_view_module_version": "1.2.0",
       "_view_name": "LayoutView",
       "align_content": null,
       "align_items": null,
       "align_self": null,
       "border": null,
       "bottom": null,
       "display": null,
       "flex": null,
       "flex_flow": null,
       "grid_area": null,
       "grid_auto_columns": null,
       "grid_auto_flow": null,
       "grid_auto_rows": null,
       "grid_column": null,
       "grid_gap": null,
       "grid_row": null,
       "grid_template_areas": null,
       "grid_template_columns": null,
       "grid_template_rows": null,
       "height": null,
       "justify_content": null,
       "justify_items": null,
       "left": null,
       "margin": null,
       "max_height": null,
       "max_width": null,
       "min_height": null,
       "min_width": null,
       "object_fit": null,
       "object_position": null,
       "order": null,
       "overflow": null,
       "overflow_x": null,
       "overflow_y": null,
       "padding": null,
       "right": null,
       "top": null,
       "visibility": null,
       "width": null
      }
     },
     "24ed9da338204293b5908a93c1a824eb": {
      "model_module": "@jupyter-widgets/controls",
      "model_module_version": "1.5.0",
      "model_name": "DescriptionStyleModel",
      "state": {
       "_model_module": "@jupyter-widgets/controls",
       "_model_module_version": "1.5.0",
       "_model_name": "DescriptionStyleModel",
       "_view_count": null,
       "_view_module": "@jupyter-widgets/base",
       "_view_module_version": "1.2.0",
       "_view_name": "StyleView",
       "description_width": ""
      }
     },
     "4d5db45673844e1a9dbbf260c8677b5a": {
      "model_module": "@jupyter-widgets/controls",
      "model_module_version": "1.5.0",
      "model_name": "HTMLModel",
      "state": {
       "_dom_classes": [],
       "_model_module": "@jupyter-widgets/controls",
       "_model_module_version": "1.5.0",
       "_model_name": "HTMLModel",
       "_view_count": null,
       "_view_module": "@jupyter-widgets/controls",
       "_view_module_version": "1.5.0",
       "_view_name": "HTMLView",
       "description": "",
       "description_tooltip": null,
       "layout": "IPY_MODEL_ae3befcbb1ac4f8c8a61c49681ed2435",
       "placeholder": "​",
       "style": "IPY_MODEL_24ed9da338204293b5908a93c1a824eb",
       "value": "100%"
      }
     },
     "7acd58154e234bb5ac190f52d9be56d7": {
      "model_module": "@jupyter-widgets/controls",
      "model_module_version": "1.5.0",
      "model_name": "ProgressStyleModel",
      "state": {
       "_model_module": "@jupyter-widgets/controls",
       "_model_module_version": "1.5.0",
       "_model_name": "ProgressStyleModel",
       "_view_count": null,
       "_view_module": "@jupyter-widgets/base",
       "_view_module_version": "1.2.0",
       "_view_name": "StyleView",
       "bar_color": null,
       "description_width": ""
      }
     },
     "7fe4675da75449ca94303aa59396ebca": {
      "model_module": "@jupyter-widgets/controls",
      "model_module_version": "1.5.0",
      "model_name": "HBoxModel",
      "state": {
       "_dom_classes": [],
       "_model_module": "@jupyter-widgets/controls",
       "_model_module_version": "1.5.0",
       "_model_name": "HBoxModel",
       "_view_count": null,
       "_view_module": "@jupyter-widgets/controls",
       "_view_module_version": "1.5.0",
       "_view_name": "HBoxView",
       "box_style": "",
       "children": [
        "IPY_MODEL_4d5db45673844e1a9dbbf260c8677b5a",
        "IPY_MODEL_a4c063ed344047aab2dfb799d7772841",
        "IPY_MODEL_e0359c614a32487e80af70b0a52a327c"
       ],
       "layout": "IPY_MODEL_20ec18f7475e49ae8312db90be538857"
      }
     },
     "8ff3e2347ba242b5878292f6b1ce7b68": {
      "model_module": "@jupyter-widgets/base",
      "model_module_version": "1.2.0",
      "model_name": "LayoutModel",
      "state": {
       "_model_module": "@jupyter-widgets/base",
       "_model_module_version": "1.2.0",
       "_model_name": "LayoutModel",
       "_view_count": null,
       "_view_module": "@jupyter-widgets/base",
       "_view_module_version": "1.2.0",
       "_view_name": "LayoutView",
       "align_content": null,
       "align_items": null,
       "align_self": null,
       "border": null,
       "bottom": null,
       "display": null,
       "flex": null,
       "flex_flow": null,
       "grid_area": null,
       "grid_auto_columns": null,
       "grid_auto_flow": null,
       "grid_auto_rows": null,
       "grid_column": null,
       "grid_gap": null,
       "grid_row": null,
       "grid_template_areas": null,
       "grid_template_columns": null,
       "grid_template_rows": null,
       "height": null,
       "justify_content": null,
       "justify_items": null,
       "left": null,
       "margin": null,
       "max_height": null,
       "max_width": null,
       "min_height": null,
       "min_width": null,
       "object_fit": null,
       "object_position": null,
       "order": null,
       "overflow": null,
       "overflow_x": null,
       "overflow_y": null,
       "padding": null,
       "right": null,
       "top": null,
       "visibility": null,
       "width": null
      }
     },
     "9ecb79a550e143ae90d84dbeeac6a21d": {
      "model_module": "@jupyter-widgets/controls",
      "model_module_version": "1.5.0",
      "model_name": "DescriptionStyleModel",
      "state": {
       "_model_module": "@jupyter-widgets/controls",
       "_model_module_version": "1.5.0",
       "_model_name": "DescriptionStyleModel",
       "_view_count": null,
       "_view_module": "@jupyter-widgets/base",
       "_view_module_version": "1.2.0",
       "_view_name": "StyleView",
       "description_width": ""
      }
     },
     "a4c063ed344047aab2dfb799d7772841": {
      "model_module": "@jupyter-widgets/controls",
      "model_module_version": "1.5.0",
      "model_name": "FloatProgressModel",
      "state": {
       "_dom_classes": [],
       "_model_module": "@jupyter-widgets/controls",
       "_model_module_version": "1.5.0",
       "_model_name": "FloatProgressModel",
       "_view_count": null,
       "_view_module": "@jupyter-widgets/controls",
       "_view_module_version": "1.5.0",
       "_view_name": "ProgressView",
       "bar_style": "success",
       "description": "",
       "description_tooltip": null,
       "layout": "IPY_MODEL_8ff3e2347ba242b5878292f6b1ce7b68",
       "max": 8000.0,
       "min": 0.0,
       "orientation": "horizontal",
       "style": "IPY_MODEL_7acd58154e234bb5ac190f52d9be56d7",
       "value": 8000.0
      }
     },
     "ae3befcbb1ac4f8c8a61c49681ed2435": {
      "model_module": "@jupyter-widgets/base",
      "model_module_version": "1.2.0",
      "model_name": "LayoutModel",
      "state": {
       "_model_module": "@jupyter-widgets/base",
       "_model_module_version": "1.2.0",
       "_model_name": "LayoutModel",
       "_view_count": null,
       "_view_module": "@jupyter-widgets/base",
       "_view_module_version": "1.2.0",
       "_view_name": "LayoutView",
       "align_content": null,
       "align_items": null,
       "align_self": null,
       "border": null,
       "bottom": null,
       "display": null,
       "flex": null,
       "flex_flow": null,
       "grid_area": null,
       "grid_auto_columns": null,
       "grid_auto_flow": null,
       "grid_auto_rows": null,
       "grid_column": null,
       "grid_gap": null,
       "grid_row": null,
       "grid_template_areas": null,
       "grid_template_columns": null,
       "grid_template_rows": null,
       "height": null,
       "justify_content": null,
       "justify_items": null,
       "left": null,
       "margin": null,
       "max_height": null,
       "max_width": null,
       "min_height": null,
       "min_width": null,
       "object_fit": null,
       "object_position": null,
       "order": null,
       "overflow": null,
       "overflow_x": null,
       "overflow_y": null,
       "padding": null,
       "right": null,
       "top": null,
       "visibility": null,
       "width": null
      }
     },
     "e0359c614a32487e80af70b0a52a327c": {
      "model_module": "@jupyter-widgets/controls",
      "model_module_version": "1.5.0",
      "model_name": "HTMLModel",
      "state": {
       "_dom_classes": [],
       "_model_module": "@jupyter-widgets/controls",
       "_model_module_version": "1.5.0",
       "_model_name": "HTMLModel",
       "_view_count": null,
       "_view_module": "@jupyter-widgets/controls",
       "_view_module_version": "1.5.0",
       "_view_name": "HTMLView",
       "description": "",
       "description_tooltip": null,
       "layout": "IPY_MODEL_22f528dc92214bccb4a471ce77c2cf44",
       "placeholder": "​",
       "style": "IPY_MODEL_9ecb79a550e143ae90d84dbeeac6a21d",
       "value": " 8000/8000 [00:31&lt;00:00, 257.71it/s]"
      }
     }
    },
    "version_major": 2,
    "version_minor": 0
   }
  }
 },
 "nbformat": 4,
 "nbformat_minor": 5
}
