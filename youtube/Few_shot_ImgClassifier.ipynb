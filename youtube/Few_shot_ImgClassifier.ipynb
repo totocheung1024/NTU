{
  "nbformat": 4,
  "nbformat_minor": 0,
  "metadata": {
    "kernelspec": {
      "display_name": "Python 3",
      "language": "python",
      "name": "python3"
    },
    "language_info": {
      "codemirror_mode": {
        "name": "ipython",
        "version": 2
      },
      "file_extension": ".py",
      "mimetype": "text/x-python",
      "name": "python",
      "nbconvert_exporter": "python",
      "pygments_lexer": "ipython2",
      "version": "2.7.6"
    },
    "colab": {
      "provenance": [],
      "toc_visible": true
    },
    "accelerator": "GPU",
    "widgets": {
      "application/vnd.jupyter.widget-state+json": {
        "cbcb5fc7cf5e4a8ca847aee54f3185ac": {
          "model_module": "@jupyter-widgets/controls",
          "model_name": "HBoxModel",
          "model_module_version": "1.5.0",
          "state": {
            "_dom_classes": [],
            "_model_module": "@jupyter-widgets/controls",
            "_model_module_version": "1.5.0",
            "_model_name": "HBoxModel",
            "_view_count": null,
            "_view_module": "@jupyter-widgets/controls",
            "_view_module_version": "1.5.0",
            "_view_name": "HBoxView",
            "box_style": "",
            "children": [
              "IPY_MODEL_e22b04e4a69542c98dd78e80b72e2122",
              "IPY_MODEL_9c67bfdb82d945fa84cd9f17abffd9e7",
              "IPY_MODEL_bd89b0f497c54ae7bd050c3c4f0981fe"
            ],
            "layout": "IPY_MODEL_61006366e92d4d27ac04d328980f810e"
          }
        },
        "e22b04e4a69542c98dd78e80b72e2122": {
          "model_module": "@jupyter-widgets/controls",
          "model_name": "HTMLModel",
          "model_module_version": "1.5.0",
          "state": {
            "_dom_classes": [],
            "_model_module": "@jupyter-widgets/controls",
            "_model_module_version": "1.5.0",
            "_model_name": "HTMLModel",
            "_view_count": null,
            "_view_module": "@jupyter-widgets/controls",
            "_view_module_version": "1.5.0",
            "_view_name": "HTMLView",
            "description": "",
            "description_tooltip": null,
            "layout": "IPY_MODEL_c3779daee4664489b3b03ad8bbfc8049",
            "placeholder": "​",
            "style": "IPY_MODEL_0a3a63b96b384ecb9fef3ba98dd34f03",
            "value": ""
          }
        },
        "9c67bfdb82d945fa84cd9f17abffd9e7": {
          "model_module": "@jupyter-widgets/controls",
          "model_name": "FloatProgressModel",
          "model_module_version": "1.5.0",
          "state": {
            "_dom_classes": [],
            "_model_module": "@jupyter-widgets/controls",
            "_model_module_version": "1.5.0",
            "_model_name": "FloatProgressModel",
            "_view_count": null,
            "_view_module": "@jupyter-widgets/controls",
            "_view_module_version": "1.5.0",
            "_view_name": "ProgressView",
            "bar_style": "success",
            "description": "",
            "description_tooltip": null,
            "layout": "IPY_MODEL_c4fc3dcc415641f08b28dcb241b765ba",
            "max": 9464212,
            "min": 0,
            "orientation": "horizontal",
            "style": "IPY_MODEL_242c0be834b64bb9b9c5dd5a41913bb4",
            "value": 9464212
          }
        },
        "bd89b0f497c54ae7bd050c3c4f0981fe": {
          "model_module": "@jupyter-widgets/controls",
          "model_name": "HTMLModel",
          "model_module_version": "1.5.0",
          "state": {
            "_dom_classes": [],
            "_model_module": "@jupyter-widgets/controls",
            "_model_module_version": "1.5.0",
            "_model_name": "HTMLModel",
            "_view_count": null,
            "_view_module": "@jupyter-widgets/controls",
            "_view_module_version": "1.5.0",
            "_view_name": "HTMLView",
            "description": "",
            "description_tooltip": null,
            "layout": "IPY_MODEL_4f03d0c319da4f6aa2ae3e039442b805",
            "placeholder": "​",
            "style": "IPY_MODEL_0ede97754fee4456972ecff40c10d114",
            "value": " 9464832/? [00:00&lt;00:00, 29385342.67it/s]"
          }
        },
        "61006366e92d4d27ac04d328980f810e": {
          "model_module": "@jupyter-widgets/base",
          "model_name": "LayoutModel",
          "model_module_version": "1.2.0",
          "state": {
            "_model_module": "@jupyter-widgets/base",
            "_model_module_version": "1.2.0",
            "_model_name": "LayoutModel",
            "_view_count": null,
            "_view_module": "@jupyter-widgets/base",
            "_view_module_version": "1.2.0",
            "_view_name": "LayoutView",
            "align_content": null,
            "align_items": null,
            "align_self": null,
            "border": null,
            "bottom": null,
            "display": null,
            "flex": null,
            "flex_flow": null,
            "grid_area": null,
            "grid_auto_columns": null,
            "grid_auto_flow": null,
            "grid_auto_rows": null,
            "grid_column": null,
            "grid_gap": null,
            "grid_row": null,
            "grid_template_areas": null,
            "grid_template_columns": null,
            "grid_template_rows": null,
            "height": null,
            "justify_content": null,
            "justify_items": null,
            "left": null,
            "margin": null,
            "max_height": null,
            "max_width": null,
            "min_height": null,
            "min_width": null,
            "object_fit": null,
            "object_position": null,
            "order": null,
            "overflow": null,
            "overflow_x": null,
            "overflow_y": null,
            "padding": null,
            "right": null,
            "top": null,
            "visibility": null,
            "width": null
          }
        },
        "c3779daee4664489b3b03ad8bbfc8049": {
          "model_module": "@jupyter-widgets/base",
          "model_name": "LayoutModel",
          "model_module_version": "1.2.0",
          "state": {
            "_model_module": "@jupyter-widgets/base",
            "_model_module_version": "1.2.0",
            "_model_name": "LayoutModel",
            "_view_count": null,
            "_view_module": "@jupyter-widgets/base",
            "_view_module_version": "1.2.0",
            "_view_name": "LayoutView",
            "align_content": null,
            "align_items": null,
            "align_self": null,
            "border": null,
            "bottom": null,
            "display": null,
            "flex": null,
            "flex_flow": null,
            "grid_area": null,
            "grid_auto_columns": null,
            "grid_auto_flow": null,
            "grid_auto_rows": null,
            "grid_column": null,
            "grid_gap": null,
            "grid_row": null,
            "grid_template_areas": null,
            "grid_template_columns": null,
            "grid_template_rows": null,
            "height": null,
            "justify_content": null,
            "justify_items": null,
            "left": null,
            "margin": null,
            "max_height": null,
            "max_width": null,
            "min_height": null,
            "min_width": null,
            "object_fit": null,
            "object_position": null,
            "order": null,
            "overflow": null,
            "overflow_x": null,
            "overflow_y": null,
            "padding": null,
            "right": null,
            "top": null,
            "visibility": null,
            "width": null
          }
        },
        "0a3a63b96b384ecb9fef3ba98dd34f03": {
          "model_module": "@jupyter-widgets/controls",
          "model_name": "DescriptionStyleModel",
          "model_module_version": "1.5.0",
          "state": {
            "_model_module": "@jupyter-widgets/controls",
            "_model_module_version": "1.5.0",
            "_model_name": "DescriptionStyleModel",
            "_view_count": null,
            "_view_module": "@jupyter-widgets/base",
            "_view_module_version": "1.2.0",
            "_view_name": "StyleView",
            "description_width": ""
          }
        },
        "c4fc3dcc415641f08b28dcb241b765ba": {
          "model_module": "@jupyter-widgets/base",
          "model_name": "LayoutModel",
          "model_module_version": "1.2.0",
          "state": {
            "_model_module": "@jupyter-widgets/base",
            "_model_module_version": "1.2.0",
            "_model_name": "LayoutModel",
            "_view_count": null,
            "_view_module": "@jupyter-widgets/base",
            "_view_module_version": "1.2.0",
            "_view_name": "LayoutView",
            "align_content": null,
            "align_items": null,
            "align_self": null,
            "border": null,
            "bottom": null,
            "display": null,
            "flex": null,
            "flex_flow": null,
            "grid_area": null,
            "grid_auto_columns": null,
            "grid_auto_flow": null,
            "grid_auto_rows": null,
            "grid_column": null,
            "grid_gap": null,
            "grid_row": null,
            "grid_template_areas": null,
            "grid_template_columns": null,
            "grid_template_rows": null,
            "height": null,
            "justify_content": null,
            "justify_items": null,
            "left": null,
            "margin": null,
            "max_height": null,
            "max_width": null,
            "min_height": null,
            "min_width": null,
            "object_fit": null,
            "object_position": null,
            "order": null,
            "overflow": null,
            "overflow_x": null,
            "overflow_y": null,
            "padding": null,
            "right": null,
            "top": null,
            "visibility": null,
            "width": null
          }
        },
        "242c0be834b64bb9b9c5dd5a41913bb4": {
          "model_module": "@jupyter-widgets/controls",
          "model_name": "ProgressStyleModel",
          "model_module_version": "1.5.0",
          "state": {
            "_model_module": "@jupyter-widgets/controls",
            "_model_module_version": "1.5.0",
            "_model_name": "ProgressStyleModel",
            "_view_count": null,
            "_view_module": "@jupyter-widgets/base",
            "_view_module_version": "1.2.0",
            "_view_name": "StyleView",
            "bar_color": null,
            "description_width": ""
          }
        },
        "4f03d0c319da4f6aa2ae3e039442b805": {
          "model_module": "@jupyter-widgets/base",
          "model_name": "LayoutModel",
          "model_module_version": "1.2.0",
          "state": {
            "_model_module": "@jupyter-widgets/base",
            "_model_module_version": "1.2.0",
            "_model_name": "LayoutModel",
            "_view_count": null,
            "_view_module": "@jupyter-widgets/base",
            "_view_module_version": "1.2.0",
            "_view_name": "LayoutView",
            "align_content": null,
            "align_items": null,
            "align_self": null,
            "border": null,
            "bottom": null,
            "display": null,
            "flex": null,
            "flex_flow": null,
            "grid_area": null,
            "grid_auto_columns": null,
            "grid_auto_flow": null,
            "grid_auto_rows": null,
            "grid_column": null,
            "grid_gap": null,
            "grid_row": null,
            "grid_template_areas": null,
            "grid_template_columns": null,
            "grid_template_rows": null,
            "height": null,
            "justify_content": null,
            "justify_items": null,
            "left": null,
            "margin": null,
            "max_height": null,
            "max_width": null,
            "min_height": null,
            "min_width": null,
            "object_fit": null,
            "object_position": null,
            "order": null,
            "overflow": null,
            "overflow_x": null,
            "overflow_y": null,
            "padding": null,
            "right": null,
            "top": null,
            "visibility": null,
            "width": null
          }
        },
        "0ede97754fee4456972ecff40c10d114": {
          "model_module": "@jupyter-widgets/controls",
          "model_name": "DescriptionStyleModel",
          "model_module_version": "1.5.0",
          "state": {
            "_model_module": "@jupyter-widgets/controls",
            "_model_module_version": "1.5.0",
            "_model_name": "DescriptionStyleModel",
            "_view_count": null,
            "_view_module": "@jupyter-widgets/base",
            "_view_module_version": "1.2.0",
            "_view_name": "StyleView",
            "description_width": ""
          }
        },
        "b178e1e0c7774e7cb1a4d29f36e400da": {
          "model_module": "@jupyter-widgets/controls",
          "model_name": "HBoxModel",
          "model_module_version": "1.5.0",
          "state": {
            "_dom_classes": [],
            "_model_module": "@jupyter-widgets/controls",
            "_model_module_version": "1.5.0",
            "_model_name": "HBoxModel",
            "_view_count": null,
            "_view_module": "@jupyter-widgets/controls",
            "_view_module_version": "1.5.0",
            "_view_name": "HBoxView",
            "box_style": "",
            "children": [
              "IPY_MODEL_5fee00f347d044c6b534ff42b4d62c31",
              "IPY_MODEL_3f23ba90b2d64d37a710abae74e66753",
              "IPY_MODEL_ea487f0722e445e78ace3386a9cedb60"
            ],
            "layout": "IPY_MODEL_9e96a18d160a48729f17198502433fd8"
          }
        },
        "5fee00f347d044c6b534ff42b4d62c31": {
          "model_module": "@jupyter-widgets/controls",
          "model_name": "HTMLModel",
          "model_module_version": "1.5.0",
          "state": {
            "_dom_classes": [],
            "_model_module": "@jupyter-widgets/controls",
            "_model_module_version": "1.5.0",
            "_model_name": "HTMLModel",
            "_view_count": null,
            "_view_module": "@jupyter-widgets/controls",
            "_view_module_version": "1.5.0",
            "_view_name": "HTMLView",
            "description": "",
            "description_tooltip": null,
            "layout": "IPY_MODEL_f824f7743c0c45e38879bd4b28bedece",
            "placeholder": "​",
            "style": "IPY_MODEL_09f8b1433c6942b197e10c3990f25f16",
            "value": ""
          }
        },
        "3f23ba90b2d64d37a710abae74e66753": {
          "model_module": "@jupyter-widgets/controls",
          "model_name": "FloatProgressModel",
          "model_module_version": "1.5.0",
          "state": {
            "_dom_classes": [],
            "_model_module": "@jupyter-widgets/controls",
            "_model_module_version": "1.5.0",
            "_model_name": "FloatProgressModel",
            "_view_count": null,
            "_view_module": "@jupyter-widgets/controls",
            "_view_module_version": "1.5.0",
            "_view_name": "ProgressView",
            "bar_style": "success",
            "description": "",
            "description_tooltip": null,
            "layout": "IPY_MODEL_64eb3369a1954913a9b93463a219d322",
            "max": 6462886,
            "min": 0,
            "orientation": "horizontal",
            "style": "IPY_MODEL_9760cd1e7f3b41b991f9b436765a2d2a",
            "value": 6462886
          }
        },
        "ea487f0722e445e78ace3386a9cedb60": {
          "model_module": "@jupyter-widgets/controls",
          "model_name": "HTMLModel",
          "model_module_version": "1.5.0",
          "state": {
            "_dom_classes": [],
            "_model_module": "@jupyter-widgets/controls",
            "_model_module_version": "1.5.0",
            "_model_name": "HTMLModel",
            "_view_count": null,
            "_view_module": "@jupyter-widgets/controls",
            "_view_module_version": "1.5.0",
            "_view_name": "HTMLView",
            "description": "",
            "description_tooltip": null,
            "layout": "IPY_MODEL_3023f681c2c14b4da356b5138075adee",
            "placeholder": "​",
            "style": "IPY_MODEL_f75ceedec67147319d915cba9c7eb1a7",
            "value": " 6463488/? [00:00&lt;00:00, 16751437.70it/s]"
          }
        },
        "9e96a18d160a48729f17198502433fd8": {
          "model_module": "@jupyter-widgets/base",
          "model_name": "LayoutModel",
          "model_module_version": "1.2.0",
          "state": {
            "_model_module": "@jupyter-widgets/base",
            "_model_module_version": "1.2.0",
            "_model_name": "LayoutModel",
            "_view_count": null,
            "_view_module": "@jupyter-widgets/base",
            "_view_module_version": "1.2.0",
            "_view_name": "LayoutView",
            "align_content": null,
            "align_items": null,
            "align_self": null,
            "border": null,
            "bottom": null,
            "display": null,
            "flex": null,
            "flex_flow": null,
            "grid_area": null,
            "grid_auto_columns": null,
            "grid_auto_flow": null,
            "grid_auto_rows": null,
            "grid_column": null,
            "grid_gap": null,
            "grid_row": null,
            "grid_template_areas": null,
            "grid_template_columns": null,
            "grid_template_rows": null,
            "height": null,
            "justify_content": null,
            "justify_items": null,
            "left": null,
            "margin": null,
            "max_height": null,
            "max_width": null,
            "min_height": null,
            "min_width": null,
            "object_fit": null,
            "object_position": null,
            "order": null,
            "overflow": null,
            "overflow_x": null,
            "overflow_y": null,
            "padding": null,
            "right": null,
            "top": null,
            "visibility": null,
            "width": null
          }
        },
        "f824f7743c0c45e38879bd4b28bedece": {
          "model_module": "@jupyter-widgets/base",
          "model_name": "LayoutModel",
          "model_module_version": "1.2.0",
          "state": {
            "_model_module": "@jupyter-widgets/base",
            "_model_module_version": "1.2.0",
            "_model_name": "LayoutModel",
            "_view_count": null,
            "_view_module": "@jupyter-widgets/base",
            "_view_module_version": "1.2.0",
            "_view_name": "LayoutView",
            "align_content": null,
            "align_items": null,
            "align_self": null,
            "border": null,
            "bottom": null,
            "display": null,
            "flex": null,
            "flex_flow": null,
            "grid_area": null,
            "grid_auto_columns": null,
            "grid_auto_flow": null,
            "grid_auto_rows": null,
            "grid_column": null,
            "grid_gap": null,
            "grid_row": null,
            "grid_template_areas": null,
            "grid_template_columns": null,
            "grid_template_rows": null,
            "height": null,
            "justify_content": null,
            "justify_items": null,
            "left": null,
            "margin": null,
            "max_height": null,
            "max_width": null,
            "min_height": null,
            "min_width": null,
            "object_fit": null,
            "object_position": null,
            "order": null,
            "overflow": null,
            "overflow_x": null,
            "overflow_y": null,
            "padding": null,
            "right": null,
            "top": null,
            "visibility": null,
            "width": null
          }
        },
        "09f8b1433c6942b197e10c3990f25f16": {
          "model_module": "@jupyter-widgets/controls",
          "model_name": "DescriptionStyleModel",
          "model_module_version": "1.5.0",
          "state": {
            "_model_module": "@jupyter-widgets/controls",
            "_model_module_version": "1.5.0",
            "_model_name": "DescriptionStyleModel",
            "_view_count": null,
            "_view_module": "@jupyter-widgets/base",
            "_view_module_version": "1.2.0",
            "_view_name": "StyleView",
            "description_width": ""
          }
        },
        "64eb3369a1954913a9b93463a219d322": {
          "model_module": "@jupyter-widgets/base",
          "model_name": "LayoutModel",
          "model_module_version": "1.2.0",
          "state": {
            "_model_module": "@jupyter-widgets/base",
            "_model_module_version": "1.2.0",
            "_model_name": "LayoutModel",
            "_view_count": null,
            "_view_module": "@jupyter-widgets/base",
            "_view_module_version": "1.2.0",
            "_view_name": "LayoutView",
            "align_content": null,
            "align_items": null,
            "align_self": null,
            "border": null,
            "bottom": null,
            "display": null,
            "flex": null,
            "flex_flow": null,
            "grid_area": null,
            "grid_auto_columns": null,
            "grid_auto_flow": null,
            "grid_auto_rows": null,
            "grid_column": null,
            "grid_gap": null,
            "grid_row": null,
            "grid_template_areas": null,
            "grid_template_columns": null,
            "grid_template_rows": null,
            "height": null,
            "justify_content": null,
            "justify_items": null,
            "left": null,
            "margin": null,
            "max_height": null,
            "max_width": null,
            "min_height": null,
            "min_width": null,
            "object_fit": null,
            "object_position": null,
            "order": null,
            "overflow": null,
            "overflow_x": null,
            "overflow_y": null,
            "padding": null,
            "right": null,
            "top": null,
            "visibility": null,
            "width": null
          }
        },
        "9760cd1e7f3b41b991f9b436765a2d2a": {
          "model_module": "@jupyter-widgets/controls",
          "model_name": "ProgressStyleModel",
          "model_module_version": "1.5.0",
          "state": {
            "_model_module": "@jupyter-widgets/controls",
            "_model_module_version": "1.5.0",
            "_model_name": "ProgressStyleModel",
            "_view_count": null,
            "_view_module": "@jupyter-widgets/base",
            "_view_module_version": "1.2.0",
            "_view_name": "StyleView",
            "bar_color": null,
            "description_width": ""
          }
        },
        "3023f681c2c14b4da356b5138075adee": {
          "model_module": "@jupyter-widgets/base",
          "model_name": "LayoutModel",
          "model_module_version": "1.2.0",
          "state": {
            "_model_module": "@jupyter-widgets/base",
            "_model_module_version": "1.2.0",
            "_model_name": "LayoutModel",
            "_view_count": null,
            "_view_module": "@jupyter-widgets/base",
            "_view_module_version": "1.2.0",
            "_view_name": "LayoutView",
            "align_content": null,
            "align_items": null,
            "align_self": null,
            "border": null,
            "bottom": null,
            "display": null,
            "flex": null,
            "flex_flow": null,
            "grid_area": null,
            "grid_auto_columns": null,
            "grid_auto_flow": null,
            "grid_auto_rows": null,
            "grid_column": null,
            "grid_gap": null,
            "grid_row": null,
            "grid_template_areas": null,
            "grid_template_columns": null,
            "grid_template_rows": null,
            "height": null,
            "justify_content": null,
            "justify_items": null,
            "left": null,
            "margin": null,
            "max_height": null,
            "max_width": null,
            "min_height": null,
            "min_width": null,
            "object_fit": null,
            "object_position": null,
            "order": null,
            "overflow": null,
            "overflow_x": null,
            "overflow_y": null,
            "padding": null,
            "right": null,
            "top": null,
            "visibility": null,
            "width": null
          }
        },
        "f75ceedec67147319d915cba9c7eb1a7": {
          "model_module": "@jupyter-widgets/controls",
          "model_name": "DescriptionStyleModel",
          "model_module_version": "1.5.0",
          "state": {
            "_model_module": "@jupyter-widgets/controls",
            "_model_module_version": "1.5.0",
            "_model_name": "DescriptionStyleModel",
            "_view_count": null,
            "_view_module": "@jupyter-widgets/base",
            "_view_module_version": "1.2.0",
            "_view_name": "StyleView",
            "description_width": ""
          }
        },
        "0e724e08ddb54187bd306c662ccfa52a": {
          "model_module": "@jupyter-widgets/controls",
          "model_name": "HBoxModel",
          "model_module_version": "1.5.0",
          "state": {
            "_dom_classes": [],
            "_model_module": "@jupyter-widgets/controls",
            "_model_module_version": "1.5.0",
            "_model_name": "HBoxModel",
            "_view_count": null,
            "_view_module": "@jupyter-widgets/controls",
            "_view_module_version": "1.5.0",
            "_view_name": "HBoxView",
            "box_style": "",
            "children": [
              "IPY_MODEL_f1fe6a912c4249b885e584052ed8fc69",
              "IPY_MODEL_19b5d77e21c14c27bc2fe2801cd8533b",
              "IPY_MODEL_53adc2eeef014ef691322010fd3a7851"
            ],
            "layout": "IPY_MODEL_727b2aee55d3472fb49f446aff22701d"
          }
        },
        "f1fe6a912c4249b885e584052ed8fc69": {
          "model_module": "@jupyter-widgets/controls",
          "model_name": "HTMLModel",
          "model_module_version": "1.5.0",
          "state": {
            "_dom_classes": [],
            "_model_module": "@jupyter-widgets/controls",
            "_model_module_version": "1.5.0",
            "_model_name": "HTMLModel",
            "_view_count": null,
            "_view_module": "@jupyter-widgets/controls",
            "_view_module_version": "1.5.0",
            "_view_name": "HTMLView",
            "description": "",
            "description_tooltip": null,
            "layout": "IPY_MODEL_434acacbfd4b4ca393aaaf6b9dbf5884",
            "placeholder": "​",
            "style": "IPY_MODEL_b8dd90bdcc754ee4a3a9cbb9c981c170",
            "value": "100%"
          }
        },
        "19b5d77e21c14c27bc2fe2801cd8533b": {
          "model_module": "@jupyter-widgets/controls",
          "model_name": "FloatProgressModel",
          "model_module_version": "1.5.0",
          "state": {
            "_dom_classes": [],
            "_model_module": "@jupyter-widgets/controls",
            "_model_module_version": "1.5.0",
            "_model_name": "FloatProgressModel",
            "_view_count": null,
            "_view_module": "@jupyter-widgets/controls",
            "_view_module_version": "1.5.0",
            "_view_name": "ProgressView",
            "bar_style": "success",
            "description": "",
            "description_tooltip": null,
            "layout": "IPY_MODEL_4344e77b164b44fcb04915acf8c5a214",
            "max": 46830571,
            "min": 0,
            "orientation": "horizontal",
            "style": "IPY_MODEL_46afbbce2e31452680bcba0bd9bac72c",
            "value": 46830571
          }
        },
        "53adc2eeef014ef691322010fd3a7851": {
          "model_module": "@jupyter-widgets/controls",
          "model_name": "HTMLModel",
          "model_module_version": "1.5.0",
          "state": {
            "_dom_classes": [],
            "_model_module": "@jupyter-widgets/controls",
            "_model_module_version": "1.5.0",
            "_model_name": "HTMLModel",
            "_view_count": null,
            "_view_module": "@jupyter-widgets/controls",
            "_view_module_version": "1.5.0",
            "_view_name": "HTMLView",
            "description": "",
            "description_tooltip": null,
            "layout": "IPY_MODEL_376ce5e1071e42139270f6cbbb93627b",
            "placeholder": "​",
            "style": "IPY_MODEL_74dd50df5b224979b0ea187c6a896b89",
            "value": " 44.7M/44.7M [00:00&lt;00:00, 71.2MB/s]"
          }
        },
        "727b2aee55d3472fb49f446aff22701d": {
          "model_module": "@jupyter-widgets/base",
          "model_name": "LayoutModel",
          "model_module_version": "1.2.0",
          "state": {
            "_model_module": "@jupyter-widgets/base",
            "_model_module_version": "1.2.0",
            "_model_name": "LayoutModel",
            "_view_count": null,
            "_view_module": "@jupyter-widgets/base",
            "_view_module_version": "1.2.0",
            "_view_name": "LayoutView",
            "align_content": null,
            "align_items": null,
            "align_self": null,
            "border": null,
            "bottom": null,
            "display": null,
            "flex": null,
            "flex_flow": null,
            "grid_area": null,
            "grid_auto_columns": null,
            "grid_auto_flow": null,
            "grid_auto_rows": null,
            "grid_column": null,
            "grid_gap": null,
            "grid_row": null,
            "grid_template_areas": null,
            "grid_template_columns": null,
            "grid_template_rows": null,
            "height": null,
            "justify_content": null,
            "justify_items": null,
            "left": null,
            "margin": null,
            "max_height": null,
            "max_width": null,
            "min_height": null,
            "min_width": null,
            "object_fit": null,
            "object_position": null,
            "order": null,
            "overflow": null,
            "overflow_x": null,
            "overflow_y": null,
            "padding": null,
            "right": null,
            "top": null,
            "visibility": null,
            "width": null
          }
        },
        "434acacbfd4b4ca393aaaf6b9dbf5884": {
          "model_module": "@jupyter-widgets/base",
          "model_name": "LayoutModel",
          "model_module_version": "1.2.0",
          "state": {
            "_model_module": "@jupyter-widgets/base",
            "_model_module_version": "1.2.0",
            "_model_name": "LayoutModel",
            "_view_count": null,
            "_view_module": "@jupyter-widgets/base",
            "_view_module_version": "1.2.0",
            "_view_name": "LayoutView",
            "align_content": null,
            "align_items": null,
            "align_self": null,
            "border": null,
            "bottom": null,
            "display": null,
            "flex": null,
            "flex_flow": null,
            "grid_area": null,
            "grid_auto_columns": null,
            "grid_auto_flow": null,
            "grid_auto_rows": null,
            "grid_column": null,
            "grid_gap": null,
            "grid_row": null,
            "grid_template_areas": null,
            "grid_template_columns": null,
            "grid_template_rows": null,
            "height": null,
            "justify_content": null,
            "justify_items": null,
            "left": null,
            "margin": null,
            "max_height": null,
            "max_width": null,
            "min_height": null,
            "min_width": null,
            "object_fit": null,
            "object_position": null,
            "order": null,
            "overflow": null,
            "overflow_x": null,
            "overflow_y": null,
            "padding": null,
            "right": null,
            "top": null,
            "visibility": null,
            "width": null
          }
        },
        "b8dd90bdcc754ee4a3a9cbb9c981c170": {
          "model_module": "@jupyter-widgets/controls",
          "model_name": "DescriptionStyleModel",
          "model_module_version": "1.5.0",
          "state": {
            "_model_module": "@jupyter-widgets/controls",
            "_model_module_version": "1.5.0",
            "_model_name": "DescriptionStyleModel",
            "_view_count": null,
            "_view_module": "@jupyter-widgets/base",
            "_view_module_version": "1.2.0",
            "_view_name": "StyleView",
            "description_width": ""
          }
        },
        "4344e77b164b44fcb04915acf8c5a214": {
          "model_module": "@jupyter-widgets/base",
          "model_name": "LayoutModel",
          "model_module_version": "1.2.0",
          "state": {
            "_model_module": "@jupyter-widgets/base",
            "_model_module_version": "1.2.0",
            "_model_name": "LayoutModel",
            "_view_count": null,
            "_view_module": "@jupyter-widgets/base",
            "_view_module_version": "1.2.0",
            "_view_name": "LayoutView",
            "align_content": null,
            "align_items": null,
            "align_self": null,
            "border": null,
            "bottom": null,
            "display": null,
            "flex": null,
            "flex_flow": null,
            "grid_area": null,
            "grid_auto_columns": null,
            "grid_auto_flow": null,
            "grid_auto_rows": null,
            "grid_column": null,
            "grid_gap": null,
            "grid_row": null,
            "grid_template_areas": null,
            "grid_template_columns": null,
            "grid_template_rows": null,
            "height": null,
            "justify_content": null,
            "justify_items": null,
            "left": null,
            "margin": null,
            "max_height": null,
            "max_width": null,
            "min_height": null,
            "min_width": null,
            "object_fit": null,
            "object_position": null,
            "order": null,
            "overflow": null,
            "overflow_x": null,
            "overflow_y": null,
            "padding": null,
            "right": null,
            "top": null,
            "visibility": null,
            "width": null
          }
        },
        "46afbbce2e31452680bcba0bd9bac72c": {
          "model_module": "@jupyter-widgets/controls",
          "model_name": "ProgressStyleModel",
          "model_module_version": "1.5.0",
          "state": {
            "_model_module": "@jupyter-widgets/controls",
            "_model_module_version": "1.5.0",
            "_model_name": "ProgressStyleModel",
            "_view_count": null,
            "_view_module": "@jupyter-widgets/base",
            "_view_module_version": "1.2.0",
            "_view_name": "StyleView",
            "bar_color": null,
            "description_width": ""
          }
        },
        "376ce5e1071e42139270f6cbbb93627b": {
          "model_module": "@jupyter-widgets/base",
          "model_name": "LayoutModel",
          "model_module_version": "1.2.0",
          "state": {
            "_model_module": "@jupyter-widgets/base",
            "_model_module_version": "1.2.0",
            "_model_name": "LayoutModel",
            "_view_count": null,
            "_view_module": "@jupyter-widgets/base",
            "_view_module_version": "1.2.0",
            "_view_name": "LayoutView",
            "align_content": null,
            "align_items": null,
            "align_self": null,
            "border": null,
            "bottom": null,
            "display": null,
            "flex": null,
            "flex_flow": null,
            "grid_area": null,
            "grid_auto_columns": null,
            "grid_auto_flow": null,
            "grid_auto_rows": null,
            "grid_column": null,
            "grid_gap": null,
            "grid_row": null,
            "grid_template_areas": null,
            "grid_template_columns": null,
            "grid_template_rows": null,
            "height": null,
            "justify_content": null,
            "justify_items": null,
            "left": null,
            "margin": null,
            "max_height": null,
            "max_width": null,
            "min_height": null,
            "min_width": null,
            "object_fit": null,
            "object_position": null,
            "order": null,
            "overflow": null,
            "overflow_x": null,
            "overflow_y": null,
            "padding": null,
            "right": null,
            "top": null,
            "visibility": null,
            "width": null
          }
        },
        "74dd50df5b224979b0ea187c6a896b89": {
          "model_module": "@jupyter-widgets/controls",
          "model_name": "DescriptionStyleModel",
          "model_module_version": "1.5.0",
          "state": {
            "_model_module": "@jupyter-widgets/controls",
            "_model_module_version": "1.5.0",
            "_model_name": "DescriptionStyleModel",
            "_view_count": null,
            "_view_module": "@jupyter-widgets/base",
            "_view_module_version": "1.2.0",
            "_view_name": "StyleView",
            "description_width": ""
          }
        }
      }
    }
  },
  "cells": [
    {
      "cell_type": "markdown",
      "source": [
        "# Update:\n",
        "\n",
        "March 22, 2022: There was an 'AttributeError' in the training part. It's because the label method in train_set is incorrectly used right before the TaskSampler. It is corrected. Nothing else is changed.\n",
        "Feel free to comment on the video if you face an error."
      ],
      "metadata": {
        "id": "wL764XBiam9z"
      }
    },
    {
      "cell_type": "markdown",
      "source": [
        "Github link of the author: https://github.com/sicara"
      ],
      "metadata": {
        "id": "lwAp-nfxfSY5"
      }
    },
    {
      "cell_type": "markdown",
      "metadata": {
        "collapsed": false,
        "pycharm": {
          "name": "#%% md\n"
        },
        "id": "CDlQJEY27Krj"
      },
      "source": [
        "# Your own few-shot classification model ready in 15mn with PyTorch\n",
        "\n",
        "[![Open In Colab](https://colab.research.google.com/assets/colab-badge.svg)](https://colab.research.google.com/github/sicara/easy-few-shot-learning/blob/master/notebooks/my_first_few_shot_classifier.ipynb)\n",
        "\n",
        "I have been working on few-shot classification for a while now. The more I talk about it, the more the people around me seem to feel that it's some kind of dark magic. Even sadder: I noticed that very few actually used it on their projects. I think that's too bad, so I decided to make a tutorial so you'll have no excuse to deprive yourself of the power of few-shot learning methods.\n",
        "\n",
        "In 15 minutes and just a few lines of code, we are going to implement\n",
        "the [Prototypical Networks](https://arxiv.org/abs/1703.05175). It's the favorite method of\n",
        "many few-shot learning researchers (~2000 citations in 3 years), because 1) it works well,\n",
        "and 2) it's incredibly easy to grasp and to implement."
      ]
    },
    {
      "cell_type": "markdown",
      "metadata": {
        "collapsed": false,
        "pycharm": {
          "name": "#%% md\n"
        },
        "id": "x_bBRt3U7Krp"
      },
      "source": [
        "## Discovering Prototypical Networks\n",
        "First, let's install the [tutorial GitHub repository](https://github.com/sicara/easy-few-shot-learning) and import some packages. If you're on Colab right now, you should also check that you're using a GPU (Edit > Notebook settings)."
      ]
    },
    {
      "cell_type": "code",
      "metadata": {
        "id": "1_tS8L5S9OTY",
        "colab": {
          "base_uri": "https://localhost:8080/"
        },
        "outputId": "20bd0f5c-ef0e-4dd5-9c24-7088bfa7c3b3"
      },
      "source": [
        "!pip install easyfsl"
      ],
      "execution_count": null,
      "outputs": [
        {
          "output_type": "stream",
          "name": "stdout",
          "text": [
            "Collecting easyfsl\n",
            "  Downloading easyfsl-1.0.0-py3-none-any.whl (49 kB)\n",
            "\u001b[?25l\r\u001b[K     |██████▋                         | 10 kB 18.4 MB/s eta 0:00:01\r\u001b[K     |█████████████▎                  | 20 kB 19.5 MB/s eta 0:00:01\r\u001b[K     |████████████████████            | 30 kB 21.6 MB/s eta 0:00:01\r\u001b[K     |██████████████████████████▋     | 40 kB 22.9 MB/s eta 0:00:01\r\u001b[K     |████████████████████████████████| 49 kB 2.0 MB/s \n",
            "\u001b[?25hRequirement already satisfied: torch>=1.4.0 in /usr/local/lib/python3.7/dist-packages (from easyfsl) (1.10.0+cu111)\n",
            "Requirement already satisfied: pandas>=1.1.0 in /usr/local/lib/python3.7/dist-packages (from easyfsl) (1.3.5)\n",
            "Requirement already satisfied: torchvision>=0.7.0 in /usr/local/lib/python3.7/dist-packages (from easyfsl) (0.11.1+cu111)\n",
            "Requirement already satisfied: tqdm>=4.1.0 in /usr/local/lib/python3.7/dist-packages (from easyfsl) (4.63.0)\n",
            "Requirement already satisfied: matplotlib>=3.0.0 in /usr/local/lib/python3.7/dist-packages (from easyfsl) (3.2.2)\n",
            "Requirement already satisfied: cycler>=0.10 in /usr/local/lib/python3.7/dist-packages (from matplotlib>=3.0.0->easyfsl) (0.11.0)\n",
            "Requirement already satisfied: kiwisolver>=1.0.1 in /usr/local/lib/python3.7/dist-packages (from matplotlib>=3.0.0->easyfsl) (1.4.0)\n",
            "Requirement already satisfied: pyparsing!=2.0.4,!=2.1.2,!=2.1.6,>=2.0.1 in /usr/local/lib/python3.7/dist-packages (from matplotlib>=3.0.0->easyfsl) (3.0.7)\n",
            "Requirement already satisfied: python-dateutil>=2.1 in /usr/local/lib/python3.7/dist-packages (from matplotlib>=3.0.0->easyfsl) (2.8.2)\n",
            "Requirement already satisfied: numpy>=1.11 in /usr/local/lib/python3.7/dist-packages (from matplotlib>=3.0.0->easyfsl) (1.21.5)\n",
            "Requirement already satisfied: typing-extensions in /usr/local/lib/python3.7/dist-packages (from kiwisolver>=1.0.1->matplotlib>=3.0.0->easyfsl) (3.10.0.2)\n",
            "Requirement already satisfied: pytz>=2017.3 in /usr/local/lib/python3.7/dist-packages (from pandas>=1.1.0->easyfsl) (2018.9)\n",
            "Requirement already satisfied: six>=1.5 in /usr/local/lib/python3.7/dist-packages (from python-dateutil>=2.1->matplotlib>=3.0.0->easyfsl) (1.15.0)\n",
            "Requirement already satisfied: pillow!=8.3.0,>=5.3.0 in /usr/local/lib/python3.7/dist-packages (from torchvision>=0.7.0->easyfsl) (7.1.2)\n",
            "Installing collected packages: easyfsl\n",
            "Successfully installed easyfsl-1.0.0\n"
          ]
        }
      ]
    },
    {
      "cell_type": "code",
      "metadata": {
        "collapsed": true,
        "id": "gD5jDtGZ7Krp"
      },
      "source": [
        "import torch\n",
        "from torch import nn, optim\n",
        "from torch.utils.data import DataLoader\n",
        "from torchvision import transforms\n",
        "from torchvision.datasets import Omniglot\n",
        "from torchvision.models import resnet18\n",
        "from tqdm import tqdm\n",
        "\n",
        "from easyfsl.samplers import TaskSampler\n",
        "from easyfsl.utils import plot_images, sliding_average"
      ],
      "execution_count": null,
      "outputs": []
    },
    {
      "cell_type": "markdown",
      "metadata": {
        "collapsed": false,
        "pycharm": {
          "name": "#%% md\n"
        },
        "id": "Z8nQO1Ch7Krq"
      },
      "source": [
        "Now, we need a dataset. I suggest we use [Omniglot](https://github.com/brendenlake/omniglot), a popular MNIST-like benchmark\n",
        "for few-shot classification. It contains 1623 characters from 50 different alphabets. Each character has been written by\n",
        "20 different people.\n",
        "\n",
        "Bonus: it's part of the `torchivision` package, so it's very easy to download\n",
        "and work with."
      ]
    },
    {
      "cell_type": "code",
      "metadata": {
        "pycharm": {
          "name": "#%%\n"
        },
        "id": "OrUCQ7AslpFO",
        "colab": {
          "base_uri": "https://localhost:8080/",
          "height": 149,
          "referenced_widgets": [
            "cbcb5fc7cf5e4a8ca847aee54f3185ac",
            "e22b04e4a69542c98dd78e80b72e2122",
            "9c67bfdb82d945fa84cd9f17abffd9e7",
            "bd89b0f497c54ae7bd050c3c4f0981fe",
            "61006366e92d4d27ac04d328980f810e",
            "c3779daee4664489b3b03ad8bbfc8049",
            "0a3a63b96b384ecb9fef3ba98dd34f03",
            "c4fc3dcc415641f08b28dcb241b765ba",
            "242c0be834b64bb9b9c5dd5a41913bb4",
            "4f03d0c319da4f6aa2ae3e039442b805",
            "0ede97754fee4456972ecff40c10d114",
            "b178e1e0c7774e7cb1a4d29f36e400da",
            "5fee00f347d044c6b534ff42b4d62c31",
            "3f23ba90b2d64d37a710abae74e66753",
            "ea487f0722e445e78ace3386a9cedb60",
            "9e96a18d160a48729f17198502433fd8",
            "f824f7743c0c45e38879bd4b28bedece",
            "09f8b1433c6942b197e10c3990f25f16",
            "64eb3369a1954913a9b93463a219d322",
            "9760cd1e7f3b41b991f9b436765a2d2a",
            "3023f681c2c14b4da356b5138075adee",
            "f75ceedec67147319d915cba9c7eb1a7"
          ]
        },
        "outputId": "36b7e58a-88dc-4a11-a1ba-24590127e872"
      },
      "source": [
        "image_size = 28\n",
        "\n",
        "# NB: background=True selects the train set, background=False selects the test set\n",
        "# It's the nomenclature from the original paper, we just have to deal with it\n",
        "\n",
        "train_set = Omniglot(\n",
        "    root=\"./data\",\n",
        "    background=True,\n",
        "    transform=transforms.Compose(\n",
        "        [\n",
        "            transforms.Grayscale(num_output_channels=3),\n",
        "            transforms.RandomResizedCrop(image_size),\n",
        "            transforms.RandomHorizontalFlip(),\n",
        "            transforms.ToTensor(),\n",
        "        ]\n",
        "    ),\n",
        "    download=True,\n",
        ")\n",
        "test_set = Omniglot(\n",
        "    root=\"./data\",\n",
        "    background=False,\n",
        "    transform=transforms.Compose(\n",
        "        [\n",
        "            # Omniglot images have 1 channel, but our model will expect 3-channel images\n",
        "            transforms.Grayscale(num_output_channels=3),\n",
        "            transforms.Resize([int(image_size * 1.15), int(image_size * 1.15)]),\n",
        "            transforms.CenterCrop(image_size),\n",
        "            transforms.ToTensor(),\n",
        "        ]\n",
        "    ),\n",
        "    download=True,\n",
        ")\n"
      ],
      "execution_count": null,
      "outputs": [
        {
          "output_type": "stream",
          "name": "stdout",
          "text": [
            "Downloading https://raw.githubusercontent.com/brendenlake/omniglot/master/python/images_background.zip to ./data/omniglot-py/images_background.zip\n"
          ]
        },
        {
          "output_type": "display_data",
          "data": {
            "text/plain": [
              "  0%|          | 0/9464212 [00:00<?, ?it/s]"
            ],
            "application/vnd.jupyter.widget-view+json": {
              "version_major": 2,
              "version_minor": 0,
              "model_id": "cbcb5fc7cf5e4a8ca847aee54f3185ac"
            }
          },
          "metadata": {}
        },
        {
          "output_type": "stream",
          "name": "stdout",
          "text": [
            "Extracting ./data/omniglot-py/images_background.zip to ./data/omniglot-py\n",
            "Downloading https://raw.githubusercontent.com/brendenlake/omniglot/master/python/images_evaluation.zip to ./data/omniglot-py/images_evaluation.zip\n"
          ]
        },
        {
          "output_type": "display_data",
          "data": {
            "text/plain": [
              "  0%|          | 0/6462886 [00:00<?, ?it/s]"
            ],
            "application/vnd.jupyter.widget-view+json": {
              "version_major": 2,
              "version_minor": 0,
              "model_id": "b178e1e0c7774e7cb1a4d29f36e400da"
            }
          },
          "metadata": {}
        },
        {
          "output_type": "stream",
          "name": "stdout",
          "text": [
            "Extracting ./data/omniglot-py/images_evaluation.zip to ./data/omniglot-py\n"
          ]
        }
      ]
    },
    {
      "cell_type": "markdown",
      "metadata": {
        "collapsed": false,
        "pycharm": {
          "name": "#%% md\n"
        },
        "id": "7HVUQX1F7Krq"
      },
      "source": [
        "Let's take some time to grasp what few-shot classification is. Simply put, in a few-shot classification task, you have a labeled support set (which kind of acts\n",
        "like a catalog) and query set. For each image of the query set, we want to predict a label from the\n",
        "labels present in the support set. A few-shot classification model has to use the information from the\n",
        "support set in order to classify query images. We say *few-shot* when the support set contains very\n",
        "few images for each label (typically less than 10). The figure below shows a 3-way 2-shots classification task. \"3-way\" means \"3 different classes\" and \"2-shots\" means \"2 examples per class\".\n",
        "We expect a model that has never seen any Saint-Bernard, Pug or Labrador during its training to successfully\n",
        "predict the query labels. The support set is the only information that the model has regarding what a Saint-Bernard,\n",
        "a Pug or a Labrador can be.\n",
        "\n",
        "![few-shot classification task](https://images.ctfassets.net/be04ylp8y0qc/bZhboqYXfYeW4I88xmMNv/7c5efdc368206feaad045c674b1ced95/1_AteD0yXLkQ1BbjQTB3Ytwg.png?fm=webp)\n",
        "\n",
        "Most few-shot classification methods are *metric-based*. It works in two phases : 1) they use a CNN to project both\n",
        "support and query images into a feature space, and 2) they classify query images by comparing them to support images.\n",
        "If, in the feature space, an image is closer to pugs than it is to labradors and Saint-Bernards, we will guess that\n",
        "it's a pug.\n",
        "\n",
        "From there, we have two challenges :\n",
        "\n",
        "1. Find the good feature space. This is what convolutional networks are for. A CNN is basically a function that takes an image as input and outputs a representation (or *embedding*) of this image in a given feature space. The challenge here is to have a CNN that will\n",
        "project images of the same class into representations that are close to each other, even if it has not been trained\n",
        "on objects of this class.\n",
        "2. Find a good way to compare the representations in the feature space. This is the job of Prototypical Networks.\n",
        "\n",
        "\n",
        "![Prototypical classification](https://images.ctfassets.net/be04ylp8y0qc/45M9UcUp6KnzwDaBHeGZb7/bb2dcda5942ee7320600125ac2310af6/0_M0GSRZri859fGo48.png?fm=webp)\n",
        "\n",
        "From the support set, Prototypical Networks compute a prototype for each class, which is the mean of all embeddings\n",
        "of support images from this class. Then, each query is simply classified as the nearest prototype in the feature space,\n",
        "with respect to euclidean distance.\n",
        "\n",
        "If you want to learn more about how this works, I explain it\n",
        "[there](https://www.sicara.ai/blog/2019-07-30-image-classification-few-shot-meta-learning-5fd736a6c54d2).\n",
        "But now, let's get to coding.\n",
        "In the code below (modified from [this](https://github.com/sicara/easy-few-shot-learning/blob/master/easyfsl/methods/prototypical_networks.py)), we simply define Prototypical Networks as a torch module, with a `forward()` method.\n",
        "You may notice 2 things.\n",
        "\n",
        "1. We initiate `PrototypicalNetworks` with a *backbone*. This is the feature extractor we were talking about.\n",
        "Here, we use as backbone a ResNet18 pretrained on ImageNet, with its head chopped off and replaced by a `Flatten`\n",
        "layer. The output of the backbone, for an input image, will be a 512-dimensional feature vector.\n",
        "2. The forward method doesn't only take one input tensor, but 3: in order to predict the labels of query images,\n",
        "we also need support images and labels as inputs of the model."
      ]
    },
    {
      "cell_type": "code",
      "metadata": {
        "pycharm": {
          "name": "#%%\n"
        },
        "id": "iCRwLATr7Krr",
        "colab": {
          "base_uri": "https://localhost:8080/",
          "height": 1000,
          "referenced_widgets": [
            "0e724e08ddb54187bd306c662ccfa52a",
            "f1fe6a912c4249b885e584052ed8fc69",
            "19b5d77e21c14c27bc2fe2801cd8533b",
            "53adc2eeef014ef691322010fd3a7851",
            "727b2aee55d3472fb49f446aff22701d",
            "434acacbfd4b4ca393aaaf6b9dbf5884",
            "b8dd90bdcc754ee4a3a9cbb9c981c170",
            "4344e77b164b44fcb04915acf8c5a214",
            "46afbbce2e31452680bcba0bd9bac72c",
            "376ce5e1071e42139270f6cbbb93627b",
            "74dd50df5b224979b0ea187c6a896b89"
          ]
        },
        "outputId": "383b8406-558c-4263-df28-0a1567d1817b"
      },
      "source": [
        "class PrototypicalNetworks(nn.Module):\n",
        "    def __init__(self, backbone: nn.Module):\n",
        "        super(PrototypicalNetworks, self).__init__()\n",
        "        self.backbone = backbone\n",
        "\n",
        "    def forward(\n",
        "        self,\n",
        "        support_images: torch.Tensor,\n",
        "        support_labels: torch.Tensor,\n",
        "        query_images: torch.Tensor,\n",
        "    ) -> torch.Tensor:\n",
        "        \"\"\"\n",
        "        Predict query labels using labeled support images.\n",
        "        \"\"\"\n",
        "        # Extract the features of support and query images\n",
        "        z_support = self.backbone.forward(support_images)\n",
        "        z_query = self.backbone.forward(query_images)\n",
        "\n",
        "        # Infer the number of different classes from the labels of the support set\n",
        "        n_way = len(torch.unique(support_labels))\n",
        "        # Prototype i is the mean of all instances of features corresponding to labels == i\n",
        "        z_proto = torch.cat(\n",
        "            [\n",
        "                z_support[torch.nonzero(support_labels == label)].mean(0)\n",
        "                for label in range(n_way)\n",
        "            ]\n",
        "        )\n",
        "\n",
        "        # Compute the euclidean distance from queries to prototypes\n",
        "        dists = torch.cdist(z_query, z_proto)\n",
        "\n",
        "        # And here is the super complicated operation to transform those distances into classification scores!\n",
        "        scores = -dists\n",
        "        return scores\n",
        "\n",
        "\n",
        "convolutional_network = resnet18(pretrained=True)\n",
        "convolutional_network.fc = nn.Flatten()\n",
        "print(convolutional_network)\n",
        "\n",
        "model = PrototypicalNetworks(convolutional_network).cuda()\n"
      ],
      "execution_count": null,
      "outputs": [
        {
          "output_type": "stream",
          "name": "stderr",
          "text": [
            "Downloading: \"https://download.pytorch.org/models/resnet18-f37072fd.pth\" to /root/.cache/torch/hub/checkpoints/resnet18-f37072fd.pth\n"
          ]
        },
        {
          "output_type": "display_data",
          "data": {
            "text/plain": [
              "  0%|          | 0.00/44.7M [00:00<?, ?B/s]"
            ],
            "application/vnd.jupyter.widget-view+json": {
              "version_major": 2,
              "version_minor": 0,
              "model_id": "0e724e08ddb54187bd306c662ccfa52a"
            }
          },
          "metadata": {}
        },
        {
          "output_type": "stream",
          "name": "stdout",
          "text": [
            "ResNet(\n",
            "  (conv1): Conv2d(3, 64, kernel_size=(7, 7), stride=(2, 2), padding=(3, 3), bias=False)\n",
            "  (bn1): BatchNorm2d(64, eps=1e-05, momentum=0.1, affine=True, track_running_stats=True)\n",
            "  (relu): ReLU(inplace=True)\n",
            "  (maxpool): MaxPool2d(kernel_size=3, stride=2, padding=1, dilation=1, ceil_mode=False)\n",
            "  (layer1): Sequential(\n",
            "    (0): BasicBlock(\n",
            "      (conv1): Conv2d(64, 64, kernel_size=(3, 3), stride=(1, 1), padding=(1, 1), bias=False)\n",
            "      (bn1): BatchNorm2d(64, eps=1e-05, momentum=0.1, affine=True, track_running_stats=True)\n",
            "      (relu): ReLU(inplace=True)\n",
            "      (conv2): Conv2d(64, 64, kernel_size=(3, 3), stride=(1, 1), padding=(1, 1), bias=False)\n",
            "      (bn2): BatchNorm2d(64, eps=1e-05, momentum=0.1, affine=True, track_running_stats=True)\n",
            "    )\n",
            "    (1): BasicBlock(\n",
            "      (conv1): Conv2d(64, 64, kernel_size=(3, 3), stride=(1, 1), padding=(1, 1), bias=False)\n",
            "      (bn1): BatchNorm2d(64, eps=1e-05, momentum=0.1, affine=True, track_running_stats=True)\n",
            "      (relu): ReLU(inplace=True)\n",
            "      (conv2): Conv2d(64, 64, kernel_size=(3, 3), stride=(1, 1), padding=(1, 1), bias=False)\n",
            "      (bn2): BatchNorm2d(64, eps=1e-05, momentum=0.1, affine=True, track_running_stats=True)\n",
            "    )\n",
            "  )\n",
            "  (layer2): Sequential(\n",
            "    (0): BasicBlock(\n",
            "      (conv1): Conv2d(64, 128, kernel_size=(3, 3), stride=(2, 2), padding=(1, 1), bias=False)\n",
            "      (bn1): BatchNorm2d(128, eps=1e-05, momentum=0.1, affine=True, track_running_stats=True)\n",
            "      (relu): ReLU(inplace=True)\n",
            "      (conv2): Conv2d(128, 128, kernel_size=(3, 3), stride=(1, 1), padding=(1, 1), bias=False)\n",
            "      (bn2): BatchNorm2d(128, eps=1e-05, momentum=0.1, affine=True, track_running_stats=True)\n",
            "      (downsample): Sequential(\n",
            "        (0): Conv2d(64, 128, kernel_size=(1, 1), stride=(2, 2), bias=False)\n",
            "        (1): BatchNorm2d(128, eps=1e-05, momentum=0.1, affine=True, track_running_stats=True)\n",
            "      )\n",
            "    )\n",
            "    (1): BasicBlock(\n",
            "      (conv1): Conv2d(128, 128, kernel_size=(3, 3), stride=(1, 1), padding=(1, 1), bias=False)\n",
            "      (bn1): BatchNorm2d(128, eps=1e-05, momentum=0.1, affine=True, track_running_stats=True)\n",
            "      (relu): ReLU(inplace=True)\n",
            "      (conv2): Conv2d(128, 128, kernel_size=(3, 3), stride=(1, 1), padding=(1, 1), bias=False)\n",
            "      (bn2): BatchNorm2d(128, eps=1e-05, momentum=0.1, affine=True, track_running_stats=True)\n",
            "    )\n",
            "  )\n",
            "  (layer3): Sequential(\n",
            "    (0): BasicBlock(\n",
            "      (conv1): Conv2d(128, 256, kernel_size=(3, 3), stride=(2, 2), padding=(1, 1), bias=False)\n",
            "      (bn1): BatchNorm2d(256, eps=1e-05, momentum=0.1, affine=True, track_running_stats=True)\n",
            "      (relu): ReLU(inplace=True)\n",
            "      (conv2): Conv2d(256, 256, kernel_size=(3, 3), stride=(1, 1), padding=(1, 1), bias=False)\n",
            "      (bn2): BatchNorm2d(256, eps=1e-05, momentum=0.1, affine=True, track_running_stats=True)\n",
            "      (downsample): Sequential(\n",
            "        (0): Conv2d(128, 256, kernel_size=(1, 1), stride=(2, 2), bias=False)\n",
            "        (1): BatchNorm2d(256, eps=1e-05, momentum=0.1, affine=True, track_running_stats=True)\n",
            "      )\n",
            "    )\n",
            "    (1): BasicBlock(\n",
            "      (conv1): Conv2d(256, 256, kernel_size=(3, 3), stride=(1, 1), padding=(1, 1), bias=False)\n",
            "      (bn1): BatchNorm2d(256, eps=1e-05, momentum=0.1, affine=True, track_running_stats=True)\n",
            "      (relu): ReLU(inplace=True)\n",
            "      (conv2): Conv2d(256, 256, kernel_size=(3, 3), stride=(1, 1), padding=(1, 1), bias=False)\n",
            "      (bn2): BatchNorm2d(256, eps=1e-05, momentum=0.1, affine=True, track_running_stats=True)\n",
            "    )\n",
            "  )\n",
            "  (layer4): Sequential(\n",
            "    (0): BasicBlock(\n",
            "      (conv1): Conv2d(256, 512, kernel_size=(3, 3), stride=(2, 2), padding=(1, 1), bias=False)\n",
            "      (bn1): BatchNorm2d(512, eps=1e-05, momentum=0.1, affine=True, track_running_stats=True)\n",
            "      (relu): ReLU(inplace=True)\n",
            "      (conv2): Conv2d(512, 512, kernel_size=(3, 3), stride=(1, 1), padding=(1, 1), bias=False)\n",
            "      (bn2): BatchNorm2d(512, eps=1e-05, momentum=0.1, affine=True, track_running_stats=True)\n",
            "      (downsample): Sequential(\n",
            "        (0): Conv2d(256, 512, kernel_size=(1, 1), stride=(2, 2), bias=False)\n",
            "        (1): BatchNorm2d(512, eps=1e-05, momentum=0.1, affine=True, track_running_stats=True)\n",
            "      )\n",
            "    )\n",
            "    (1): BasicBlock(\n",
            "      (conv1): Conv2d(512, 512, kernel_size=(3, 3), stride=(1, 1), padding=(1, 1), bias=False)\n",
            "      (bn1): BatchNorm2d(512, eps=1e-05, momentum=0.1, affine=True, track_running_stats=True)\n",
            "      (relu): ReLU(inplace=True)\n",
            "      (conv2): Conv2d(512, 512, kernel_size=(3, 3), stride=(1, 1), padding=(1, 1), bias=False)\n",
            "      (bn2): BatchNorm2d(512, eps=1e-05, momentum=0.1, affine=True, track_running_stats=True)\n",
            "    )\n",
            "  )\n",
            "  (avgpool): AdaptiveAvgPool2d(output_size=(1, 1))\n",
            "  (fc): Flatten(start_dim=1, end_dim=-1)\n",
            ")\n"
          ]
        }
      ]
    },
    {
      "cell_type": "markdown",
      "metadata": {
        "collapsed": false,
        "pycharm": {
          "name": "#%% md\n"
        },
        "id": "JnWfQfmZ7Krs"
      },
      "source": [
        "Now we have a model! Note that we used a pretrained feature extractor,\n",
        "so our model should already be up and running. Let's see that.\n",
        "\n",
        "Here we create a dataloader that will feed few-shot classification tasks to our model.\n",
        "But a regular PyTorch dataloader will feed batches of images, with no consideration for\n",
        "their label or whether they are support or query. We need 2 specific features in our case.\n",
        "\n",
        "1. We need images evenly distributed between a given number of classes.\n",
        "2. We need them split between support and query sets.\n",
        "\n",
        "For the first point, I wrote a custom sampler: it first samples `n_way` classes from the dataset,\n",
        "then it samples `n_shot + n_query` images for each class (for a total of `n_way * (n_shot + n_query)`\n",
        "images in each batch).\n",
        "For the second point, I have a custom collate function to replace the built-in PyTorch `collate_fn`.\n",
        "This baby feed each batch as the combination of 5 items:\n",
        "\n",
        "1. support images\n",
        "2. support labels between 0 and `n_way`\n",
        "3. query images\n",
        "4. query labels between 0 and `n_way`\n",
        "5. a mapping of each label in `range(n_way)` to its true class id in the dataset\n",
        "(it's not used by the model but it's very useful for us to know what the true class is)\n",
        "\n",
        "You can see that in PyTorch, a DataLoader is basically the combination of a sampler, a dataset and a collate function\n",
        "(and some multiprocessing voodoo): sampler says which items to fetch, the dataset says how to fetch them, and\n",
        "the collate function says how to present these items together. If you want to dive into these custom objects,\n",
        "they're [here](https://github.com/sicara/easy-few-shot-learning/tree/master/easyfsl/data_tools)."
      ]
    },
    {
      "cell_type": "code",
      "metadata": {
        "pycharm": {
          "name": "#%%\n"
        },
        "id": "OyS0-oRV7Krt",
        "colab": {
          "base_uri": "https://localhost:8080/"
        },
        "outputId": "4ff47d21-bea0-49f9-d18d-78c6970e79a3"
      },
      "source": [
        "N_WAY = 5 # Number of classes in a task\n",
        "N_SHOT = 5 # Number of images per class in the support set\n",
        "N_QUERY = 10 # Number of images per class in the query set\n",
        "N_EVALUATION_TASKS = 100\n",
        "\n",
        "# The sampler needs a dataset with a \"get_labels\" method. Check the code if you have any doubt!\n",
        "test_set.get_labels = lambda: [instance[1] for instance in test_set._flat_character_images]\n",
        "test_sampler = TaskSampler(\n",
        "    test_set, n_way=N_WAY, n_shot=N_SHOT, n_query=N_QUERY, n_tasks=N_EVALUATION_TASKS\n",
        ")\n",
        "\n",
        "test_loader = DataLoader(\n",
        "    test_set,\n",
        "    batch_sampler=test_sampler,\n",
        "    num_workers=12,\n",
        "    pin_memory=True,\n",
        "    collate_fn=test_sampler.episodic_collate_fn,\n",
        ")\n"
      ],
      "execution_count": null,
      "outputs": [
        {
          "output_type": "stream",
          "name": "stderr",
          "text": [
            "/usr/local/lib/python3.7/dist-packages/torch/utils/data/dataloader.py:481: UserWarning: This DataLoader will create 12 worker processes in total. Our suggested max number of worker in current system is 2, which is smaller than what this DataLoader is going to create. Please be aware that excessive worker creation might get DataLoader running slow or even freeze, lower the worker number to avoid potential slowness/freeze if necessary.\n",
            "  cpuset_checked))\n"
          ]
        }
      ]
    },
    {
      "cell_type": "markdown",
      "metadata": {
        "collapsed": false,
        "pycharm": {
          "name": "#%% md\n"
        },
        "id": "3gseUp_J7Krt"
      },
      "source": [
        "We created a dataloader that will feed us with 5-way 5-shot tasks (the most common setting in the litterature).\n",
        "Now, as every data scientist should do before launching opaque training scripts,\n",
        "let's take a look at our dataset."
      ]
    },
    {
      "cell_type": "code",
      "metadata": {
        "pycharm": {
          "name": "#%%\n"
        },
        "id": "_FSj8NIr7Krt",
        "colab": {
          "base_uri": "https://localhost:8080/",
          "height": 550
        },
        "outputId": "fac7b74f-4614-48be-f75e-fa20f3429e71"
      },
      "source": [
        "(\n",
        "    example_support_images,\n",
        "    example_support_labels,\n",
        "    example_query_images,\n",
        "    example_query_labels,\n",
        "    example_class_ids,\n",
        ") = next(iter(test_loader))\n",
        "\n",
        "plot_images(example_support_images, \"support images\", images_per_row=N_SHOT)\n",
        "plot_images(example_query_images, \"query images\", images_per_row=N_QUERY)\n"
      ],
      "execution_count": null,
      "outputs": [
        {
          "output_type": "stream",
          "name": "stderr",
          "text": [
            "/usr/local/lib/python3.7/dist-packages/torch/utils/data/dataloader.py:481: UserWarning: This DataLoader will create 12 worker processes in total. Our suggested max number of worker in current system is 2, which is smaller than what this DataLoader is going to create. Please be aware that excessive worker creation might get DataLoader running slow or even freeze, lower the worker number to avoid potential slowness/freeze if necessary.\n",
            "  cpuset_checked))\n"
          ]
        },
        {
          "output_type": "display_data",
          "data": {
            "text/plain": [
              "<Figure size 432x288 with 1 Axes>"
            ],
            "image/png": "[encoded data removed]"
          },
          "metadata": {
            "needs_background": "light"
          }
        },
        {
          "output_type": "display_data",
          "data": {
            "text/plain": [
              "<Figure size 432x288 with 1 Axes>"
            ],
            "image/png": "[encoded data removed]"
          },
          "metadata": {
            "needs_background": "light"
          }
        }
      ]
    },
    {
      "cell_type": "markdown",
      "metadata": {
        "collapsed": false,
        "pycharm": {
          "name": "#%% md\n"
        },
        "id": "MNdmSpw87Kru"
      },
      "source": [
        "For both support and query set, you should have one line for each class.\n",
        "\n",
        "How does our model perform on this task?"
      ]
    },
    {
      "cell_type": "code",
      "metadata": {
        "pycharm": {
          "name": "#%%\n"
        },
        "id": "C2EhF2Fa7Kru",
        "colab": {
          "base_uri": "https://localhost:8080/"
        },
        "outputId": "a8333cf2-952c-4755-b303-a897c4be56ff"
      },
      "source": [
        "model.eval()\n",
        "example_scores = model(\n",
        "    example_support_images.cuda(),\n",
        "    example_support_labels.cuda(),\n",
        "    example_query_images.cuda(),\n",
        ").detach()\n",
        "\n",
        "_, example_predicted_labels = torch.max(example_scores.data, 1)\n",
        "\n",
        "print(\"Ground Truth / Predicted\")\n",
        "for i in range(len(example_query_labels)):\n",
        "    print(\n",
        "        f\"{test_set._characters[example_class_ids[example_query_labels[i]]]} / {test_set._characters[example_class_ids[example_predicted_labels[i]]]}\"\n",
        "    )\n"
      ],
      "execution_count": null,
      "outputs": [
        {
          "output_type": "stream",
          "name": "stdout",
          "text": [
            "Ground Truth / Predicted\n",
            "Atemayar_Qelisayer/character16 / Atemayar_Qelisayer/character16\n",
            "Atemayar_Qelisayer/character16 / Atemayar_Qelisayer/character16\n",
            "Atemayar_Qelisayer/character16 / Manipuri/character04\n",
            "Atemayar_Qelisayer/character16 / Atemayar_Qelisayer/character16\n",
            "Atemayar_Qelisayer/character16 / Atemayar_Qelisayer/character16\n",
            "Atemayar_Qelisayer/character16 / Atemayar_Qelisayer/character16\n",
            "Atemayar_Qelisayer/character16 / Atemayar_Qelisayer/character16\n",
            "Atemayar_Qelisayer/character16 / Kannada/character17\n",
            "Atemayar_Qelisayer/character16 / Atemayar_Qelisayer/character16\n",
            "Atemayar_Qelisayer/character16 / Atemayar_Qelisayer/character16\n",
            "Kannada/character17 / Kannada/character17\n",
            "Kannada/character17 / Kannada/character17\n",
            "Kannada/character17 / Kannada/character17\n",
            "Kannada/character17 / Kannada/character17\n",
            "Kannada/character17 / Kannada/character17\n",
            "Kannada/character17 / Kannada/character17\n",
            "Kannada/character17 / Kannada/character17\n",
            "Kannada/character17 / Kannada/character17\n",
            "Kannada/character17 / Kannada/character17\n",
            "Kannada/character17 / Kannada/character17\n",
            "Tibetan/character06 / Manipuri/character04\n",
            "Tibetan/character06 / Tibetan/character06\n",
            "Tibetan/character06 / Tibetan/character06\n",
            "Tibetan/character06 / Tibetan/character06\n",
            "Tibetan/character06 / Tibetan/character06\n",
            "Tibetan/character06 / Manipuri/character04\n",
            "Tibetan/character06 / Tibetan/character06\n",
            "Tibetan/character06 / Tibetan/character06\n",
            "Tibetan/character06 / Tibetan/character06\n",
            "Tibetan/character06 / Tibetan/character06\n",
            "Manipuri/character04 / Manipuri/character04\n",
            "Manipuri/character04 / Manipuri/character04\n",
            "Manipuri/character04 / Tibetan/character06\n",
            "Manipuri/character04 / Manipuri/character04\n",
            "Manipuri/character04 / Manipuri/character04\n",
            "Manipuri/character04 / Manipuri/character04\n",
            "Manipuri/character04 / Tibetan/character06\n",
            "Manipuri/character04 / Manipuri/character04\n",
            "Manipuri/character04 / Manipuri/character04\n",
            "Manipuri/character04 / Manipuri/character04\n",
            "Manipuri/character31 / Tibetan/character06\n",
            "Manipuri/character31 / Manipuri/character31\n",
            "Manipuri/character31 / Tibetan/character06\n",
            "Manipuri/character31 / Tibetan/character06\n",
            "Manipuri/character31 / Tibetan/character06\n",
            "Manipuri/character31 / Manipuri/character31\n",
            "Manipuri/character31 / Manipuri/character04\n",
            "Manipuri/character31 / Manipuri/character31\n",
            "Manipuri/character31 / Manipuri/character31\n",
            "Manipuri/character31 / Manipuri/character31\n"
          ]
        }
      ]
    },
    {
      "cell_type": "markdown",
      "metadata": {
        "collapsed": false,
        "pycharm": {
          "name": "#%% md\n"
        },
        "id": "TznXhcUL7Kru"
      },
      "source": [
        "This doesn't look bad: keep in mind that the model was trained on very different images, and has only seen 5 examples for each class!\n",
        "\n",
        "Now that we have a first idea, let's see more precisely how good our model is."
      ]
    },
    {
      "cell_type": "code",
      "metadata": {
        "pycharm": {
          "name": "#%%\n"
        },
        "id": "UW5Rxifk7Kru",
        "colab": {
          "base_uri": "https://localhost:8080/"
        },
        "outputId": "bb157ec4-0cbc-4829-cdf3-20b9fe8da7ad"
      },
      "source": [
        "def evaluate_on_one_task(\n",
        "    support_images: torch.Tensor,\n",
        "    support_labels: torch.Tensor,\n",
        "    query_images: torch.Tensor,\n",
        "    query_labels: torch.Tensor,\n",
        ") -> [int, int]:\n",
        "    \"\"\"\n",
        "    Returns the number of correct predictions of query labels, and the total number of predictions.\n",
        "    \"\"\"\n",
        "    return (\n",
        "        torch.max(\n",
        "            model(support_images.cuda(), support_labels.cuda(), query_images.cuda())\n",
        "            .detach()\n",
        "            .data,\n",
        "            1,\n",
        "        )[1]\n",
        "        == query_labels.cuda()\n",
        "    ).sum().item(), len(query_labels)\n",
        "\n",
        "\n",
        "def evaluate(data_loader: DataLoader):\n",
        "    # We'll count everything and compute the ratio at the end\n",
        "    total_predictions = 0\n",
        "    correct_predictions = 0\n",
        "\n",
        "    # eval mode affects the behaviour of some layers (such as batch normalization or dropout)\n",
        "    # no_grad() tells torch not to keep in memory the whole computational graph (it's more lightweight this way)\n",
        "    model.eval()\n",
        "    with torch.no_grad():\n",
        "        for episode_index, (\n",
        "            support_images,\n",
        "            support_labels,\n",
        "            query_images,\n",
        "            query_labels,\n",
        "            class_ids,\n",
        "        ) in tqdm(enumerate(data_loader), total=len(data_loader)):\n",
        "\n",
        "            correct, total = evaluate_on_one_task(\n",
        "                support_images, support_labels, query_images, query_labels\n",
        "            )\n",
        "\n",
        "            total_predictions += total\n",
        "            correct_predictions += correct\n",
        "\n",
        "    print(\n",
        "        f\"Model tested on {len(data_loader)} tasks. Accuracy: {(100 * correct_predictions/total_predictions):.2f}%\"\n",
        "    )\n",
        "\n",
        "\n",
        "evaluate(test_loader)\n"
      ],
      "execution_count": null,
      "outputs": [
        {
          "output_type": "stream",
          "name": "stderr",
          "text": [
            "/usr/local/lib/python3.7/dist-packages/torch/utils/data/dataloader.py:481: UserWarning: This DataLoader will create 12 worker processes in total. Our suggested max number of worker in current system is 2, which is smaller than what this DataLoader is going to create. Please be aware that excessive worker creation might get DataLoader running slow or even freeze, lower the worker number to avoid potential slowness/freeze if necessary.\n",
            "  cpuset_checked))\n",
            "100%|██████████| 100/100 [00:06<00:00, 14.41it/s]"
          ]
        },
        {
          "output_type": "stream",
          "name": "stdout",
          "text": [
            "Model tested on 100 tasks. Accuracy: 85.36%\n"
          ]
        },
        {
          "output_type": "stream",
          "name": "stderr",
          "text": [
            "\n"
          ]
        }
      ]
    },
    {
      "cell_type": "markdown",
      "metadata": {
        "collapsed": false,
        "pycharm": {
          "name": "#%% md\n"
        },
        "id": "3dMqML2U7Krv"
      },
      "source": [
        "With absolutely zero training on Omniglot images, and only 5 examples per class, we achieve around 86% accuracy! Isn't this a great start?\n",
        "\n",
        "Now that you know how to make Prototypical Networks work, you can see what happens if you tweak it\n",
        "a little bit (change the backbone, use other distances than euclidean...) or if you change the problem\n",
        "(more classes in each task, less or more examples in the support set, maybe even one example only,\n",
        "but keep in mind that in that case Prototypical Networks are just standard nearest neighbour).\n",
        "\n",
        "When you're done, you can scroll further down and learn how to **meta-train this model**, to get even better results."
      ]
    },
    {
      "cell_type": "markdown",
      "metadata": {
        "collapsed": false,
        "pycharm": {
          "name": "#%% md\n"
        },
        "id": "pLCdAgKTlpFU"
      },
      "source": [
        "## Training a meta-learning algorithm\n",
        "\n",
        "Let's use the \"background\" images of Omniglot as training set. Here we prepare a data loader of 40 000 few-shot classification\n",
        "tasks on which we will train our model. The alphabets used in the training set are entirely separated from those used in the testing set.\n",
        "This guarantees that at test time, the model will have to classify characters that were not seen during training.\n",
        "\n",
        "Note that we don't set a validation set here to keep this notebook concise,\n",
        "but keep in mind that **this is not good practice** and you should always use validation when training a model for production."
      ]
    },
    {
      "cell_type": "code",
      "metadata": {
        "pycharm": {
          "name": "#%%\n"
        },
        "id": "YW9DDxbl7Krv",
        "colab": {
          "base_uri": "https://localhost:8080/"
        },
        "outputId": "0c33a699-44bc-4b3e-b1dc-6baa001a75f5"
      },
      "source": [
        "N_TRAINING_EPISODES = 40000\n",
        "N_VALIDATION_TASKS = 100\n",
        "\n",
        "# train_set.labels = [instance[1] for instance in train_set._flat_character_images]   #incorrect, ignore this line; the following line is correct.\n",
        "train_set.get_labels = lambda: [instance[1] for instance in train_set._flat_character_images]\n",
        "\n",
        "train_sampler = TaskSampler(\n",
        "    train_set, n_way=N_WAY, n_shot=N_SHOT, n_query=N_QUERY, n_tasks=N_TRAINING_EPISODES\n",
        ")\n",
        "train_loader = DataLoader(\n",
        "    train_set,\n",
        "    batch_sampler=train_sampler,\n",
        "    num_workers=12,\n",
        "    pin_memory=True,\n",
        "    collate_fn=train_sampler.episodic_collate_fn,\n",
        ")\n"
      ],
      "execution_count": null,
      "outputs": [
        {
          "output_type": "stream",
          "name": "stderr",
          "text": [
            "/usr/local/lib/python3.7/dist-packages/torch/utils/data/dataloader.py:481: UserWarning: This DataLoader will create 12 worker processes in total. Our suggested max number of worker in current system is 2, which is smaller than what this DataLoader is going to create. Please be aware that excessive worker creation might get DataLoader running slow or even freeze, lower the worker number to avoid potential slowness/freeze if necessary.\n",
            "  cpuset_checked))\n"
          ]
        }
      ]
    },
    {
      "cell_type": "markdown",
      "metadata": {
        "collapsed": false,
        "pycharm": {
          "name": "#%% md\n"
        },
        "id": "QK5UN51alpFV"
      },
      "source": [
        "We will keep the same model. So our weights will be pre-trained on ImageNet. If you want to start a training from scratch,\n",
        "feel free to set `pretrained=False` in the definition of the ResNet.\n",
        "\n",
        "Here we define our loss and our optimizer (cross entropy and Adam, pretty standard), and a `fit` method.\n",
        "This method takes a classification task as input (support set and query set). It predicts the labels of the query set\n",
        "based on the information from the support set; then it compares the predicted labels to ground truth query labels,\n",
        "and this gives us a loss value. Then it uses this loss to update the parameters of the model. This is a *meta-training loop*."
      ]
    },
    {
      "cell_type": "code",
      "metadata": {
        "pycharm": {
          "name": "#%%\n"
        },
        "id": "0B1xX1Cb7Krv"
      },
      "source": [
        "criterion = nn.CrossEntropyLoss()\n",
        "optimizer = optim.Adam(model.parameters(), lr=0.001)\n",
        "\n",
        "\n",
        "def fit(\n",
        "    support_images: torch.Tensor,\n",
        "    support_labels: torch.Tensor,\n",
        "    query_images: torch.Tensor,\n",
        "    query_labels: torch.Tensor,\n",
        ") -> float:\n",
        "    optimizer.zero_grad()\n",
        "    classification_scores = model(\n",
        "        support_images.cuda(), support_labels.cuda(), query_images.cuda()\n",
        "    )\n",
        "\n",
        "    loss = criterion(classification_scores, query_labels.cuda())\n",
        "    loss.backward()\n",
        "    optimizer.step()\n",
        "\n",
        "    return loss.item()\n"
      ],
      "execution_count": null,
      "outputs": []
    },
    {
      "cell_type": "markdown",
      "metadata": {
        "collapsed": false,
        "pycharm": {
          "name": "#%% md\n"
        },
        "id": "TUFYG6PElpFV"
      },
      "source": [
        "To train the model, we are just going to iterate over a large number of randomly generated few-shot classification tasks,\n",
        "and let the `fit` method update our model after each task. This is called **episodic training**.\n",
        "\n",
        "This took me 20mn on an RTX 2080 and I promised you that this whole tutorial would take 15mn.\n",
        "So if you don't want to run the training yourself, you can just skip the training and load the model that I trained\n",
        "using the exact same code."
      ]
    },
    {
      "cell_type": "code",
      "metadata": {
        "pycharm": {
          "name": "#%%\n"
        },
        "id": "xQyS6uck7Krv"
      },
      "source": [
        "# Train the model yourself with this cell\n",
        "\n",
        "log_update_frequency = 10\n",
        "\n",
        "all_loss = []\n",
        "model.train()\n",
        "with tqdm(enumerate(train_loader), total=len(train_loader)) as tqdm_train:\n",
        "    for episode_index, (\n",
        "        support_images,\n",
        "        support_labels,\n",
        "        query_images,\n",
        "        query_labels,\n",
        "        _,\n",
        "    ) in tqdm_train:\n",
        "        loss_value = fit(support_images, support_labels, query_images, query_labels)\n",
        "        all_loss.append(loss_value)\n",
        "\n",
        "        if episode_index % log_update_frequency == 0:\n",
        "            tqdm_train.set_postfix(loss=sliding_average(all_loss, log_update_frequency))\n"
      ],
      "execution_count": null,
      "outputs": []
    },
    {
      "cell_type": "code",
      "metadata": {
        "pycharm": {
          "name": "#%%\n"
        },
        "id": "gIatxOADlpFW",
        "colab": {
          "base_uri": "https://localhost:8080/"
        },
        "outputId": "c88d759d-eeae-452a-cc7d-4e259272e1ea"
      },
      "source": [
        "# Or just load mine\n",
        "\n",
        "!wget https://public-sicara.s3.eu-central-1.amazonaws.com/easy-fsl/resnet18_with_pretraining.tar\n",
        "model.load_state_dict(torch.load(\"resnet18_with_pretraining.tar\", map_location=\"cuda\"))\n"
      ],
      "execution_count": null,
      "outputs": [
        {
          "output_type": "stream",
          "name": "stdout",
          "text": [
            "--2022-03-22 16:41:39--  https://public-sicara.s3.eu-central-1.amazonaws.com/easy-fsl/resnet18_with_pretraining.tar\n",
            "Resolving public-sicara.s3.eu-central-1.amazonaws.com (public-sicara.s3.eu-central-1.amazonaws.com)... 52.219.171.166\n",
            "Connecting to public-sicara.s3.eu-central-1.amazonaws.com (public-sicara.s3.eu-central-1.amazonaws.com)|52.219.171.166|:443... connected.\n",
            "HTTP request sent, awaiting response... 200 OK\n",
            "Length: 44787039 (43M) [application/x-tar]\n",
            "Saving to: ‘resnet18_with_pretraining.tar’\n",
            "\n",
            "resnet18_with_pretr 100%[===================>]  42.71M  17.2MB/s    in 2.5s    \n",
            "\n",
            "2022-03-22 16:41:42 (17.2 MB/s) - ‘resnet18_with_pretraining.tar’ saved [44787039/44787039]\n",
            "\n"
          ]
        },
        {
          "output_type": "execute_result",
          "data": {
            "text/plain": [
              "<All keys matched successfully>"
            ]
          },
          "metadata": {},
          "execution_count": 11
        }
      ]
    },
    {
      "cell_type": "markdown",
      "metadata": {
        "collapsed": false,
        "pycharm": {
          "name": "#%% md\n"
        },
        "id": "CQeUFa6blpFW"
      },
      "source": [
        "Now let's see if our model got better!"
      ]
    },
    {
      "cell_type": "code",
      "metadata": {
        "pycharm": {
          "name": "#%%\n"
        },
        "id": "9bmPWd-8lpFW",
        "colab": {
          "base_uri": "https://localhost:8080/"
        },
        "outputId": "d45f401d-0cd7-48a7-fa7a-ff96c1ea3965"
      },
      "source": [
        "evaluate(test_loader)\n"
      ],
      "execution_count": null,
      "outputs": [
        {
          "output_type": "stream",
          "name": "stderr",
          "text": [
            "/usr/local/lib/python3.7/dist-packages/torch/utils/data/dataloader.py:481: UserWarning: This DataLoader will create 12 worker processes in total. Our suggested max number of worker in current system is 2, which is smaller than what this DataLoader is going to create. Please be aware that excessive worker creation might get DataLoader running slow or even freeze, lower the worker number to avoid potential slowness/freeze if necessary.\n",
            "  cpuset_checked))\n",
            "100%|██████████| 100/100 [00:06<00:00, 14.70it/s]"
          ]
        },
        {
          "output_type": "stream",
          "name": "stdout",
          "text": [
            "Model tested on 100 tasks. Accuracy: 98.48%\n"
          ]
        },
        {
          "output_type": "stream",
          "name": "stderr",
          "text": [
            "\n"
          ]
        }
      ]
    },
    {
      "cell_type": "markdown",
      "metadata": {
        "collapsed": false,
        "pycharm": {
          "name": "#%% md\n"
        },
        "id": "hbVD5v9OlpFW"
      },
      "source": [
        "Around 98%!\n",
        "\n",
        "It's not surprising that the model performs better after being further trained on Omniglot images than it was with its\n",
        "ImageNet-based parameters. However, we have to keep in mind that the classes on which we just evaluated our model were still\n",
        "**not seen during training**, so 99% (with a 12% improvement over the model trained on ImageNet) seems like a decent performance.\n",
        "\n",
        "## What have we learned?\n",
        "\n",
        "- What a Prototypical Network is and how to implement one in 15 lines of code.\n",
        "- How to use Omniglot to evaluate few-shot models\n",
        "- How to use custom PyTorch objets to sample batches in the shape of a few-shot classification tasks.\n",
        "- How to use meta-learning to train a few-shot algorithm.\n",
        "\n",
        "## What's next?\n",
        "\n",
        "- Take this notebook in your own hands, tweak everything that there is to tweak. It's the best way to understand what does what.\n",
        "- Implement other few-shot learning methods, such as Matching Networks, Relation Networks, MAML...\n",
        "- Try other ways of training. Episodic training is not the only way to train a model to generalize to new classes!\n",
        "- Experiment on other, more challenging few-shot learning benchmarks, such as [CUB](http://www.vision.caltech.edu/visipedia/CUB-200.html)\n",
        "or [Meta-Dataset](https://github.com/google-research/meta-dataset).\n",
        "- If you liked this tutorial, feel free to ⭐ [give us a star on Github](https://github.com/sicara/easy-few-shot-learning) ⭐\n",
        "- **Contribute!** The companion repository of this notebook is meant to become a boilerplate, a source of useful code that\n",
        "that newcomers can use to start their few-shot learning projects.\n"
      ]
    }
  ]
}